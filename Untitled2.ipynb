{
 "cells": [
  {
   "cell_type": "code",
   "execution_count": null,
   "metadata": {},
   "outputs": [],
   "source": [
    "## GRADING\n",
    "# a-> 90 < SCORE <=100\n",
    "# b-> 80 < SCORE <=90\n",
    "# c-> 70 < SCORE <=80\n",
    "# f-> SCORE <=70\n",
    "\n",
    "import random\n",
    "\n",
    "score = random.randint(60, 100)\n",
    "\n",
    "if score > 90:\n",
    "    grade = 'A'\n",
    "if score > 80 and score <= 90:\n",
    "    grade = 'B'\n",
    "if score > 70 and score <= 80:\n",
    "    grade = 'C'\n",
    "if score <= 70:\n",
    "    grade = 'F'\n",
    "\n",
    "print('Your grade is ', grade, 'score is', score)"
   ]
  },
  {
   "cell_type": "code",
   "execution_count": null,
   "metadata": {},
   "outputs": [],
   "source": [
    "import random\n",
    "\n",
    "score = random.randint(60, 100)\n",
    "\n",
    "if score >90:\n",
    "    grade = 'A'\n",
    "elif score>80:\n",
    "    grade = 'B'\n",
    "elif score>70:\n",
    "    grade = 'C'\n",
    "else:\n",
    "    grade = 'F'\n",
    "\n",
    "print('Type if-elif-else:', 'Your grade is ', grade, 'score is', score)"
   ]
  },
  {
   "cell_type": "code",
   "execution_count": null,
   "metadata": {},
   "outputs": [],
   "source": [
    "text = 'This is the split () functions example.'\n",
    "text.split()"
   ]
  },
  {
   "cell_type": "code",
   "execution_count": null,
   "metadata": {},
   "outputs": [],
   "source": [
    "text.split('i')"
   ]
  },
  {
   "cell_type": "code",
   "execution_count": null,
   "metadata": {},
   "outputs": [],
   "source": [
    "import time\n",
    "time.sleep(3)#몇초동안 쉴것인지"
   ]
  },
  {
   "cell_type": "code",
   "execution_count": null,
   "metadata": {},
   "outputs": [],
   "source": [
    "#del 이용해서 로또번호 생성기 프로그램 작성\n",
    "import random\n",
    "#1-45 숫자리스트 생성\n",
    "num_list = list(range(1,46))\n",
    "lotto = []#한번에 출력해 주기 위함\n",
    "\n",
    "count = 45\n",
    "while count >39:#6번 뽑고 멈추게 하기 위한 조건\n",
    "    k = random.randint(1, count)\n",
    "    lotto.append(num_list[k])\n",
    "    del num_list[k]\n",
    "    count -= 1\n",
    "print(lotto)"
   ]
  },
  {
   "cell_type": "code",
   "execution_count": null,
   "metadata": {},
   "outputs": [],
   "source": [
    "#random.shuffle이용해서 로또번호 생성기 프로그램 작성\n",
    "num_list = list(range(1,46))\n",
    "random.shuffle(num_list)\n",
    "print(num_list[:6])"
   ]
  },
  {
   "cell_type": "code",
   "execution_count": null,
   "metadata": {},
   "outputs": [],
   "source": [
    "#가위바위보 함수로 만들기\n",
    "def rsp():\n",
    "    import random\n",
    "    user = input()\n",
    "    com = random.randint()\n",
    "    print(user)\n",
    "    \n",
    "\n",
    "rsp()"
   ]
  },
  {
   "cell_type": "code",
   "execution_count": null,
   "metadata": {},
   "outputs": [],
   "source": [
    "def start(win):\n",
    "    import random\n",
    "    import time\n",
    "    time_interval=0.1\n",
    "    # 게임 인트로 -------------------------------------------------------\n",
    "    print ('가위~', end=' ')\n",
    "    time.sleep(time_interval*5)\n",
    "    print ('바위~', end=' ')\n",
    "    time.sleep(time_interval*5)\n",
    "    print ('보~!!!!! ')\n",
    "    time.sleep(time_interval*5)\n",
    "\n",
    "    print ('가위~', end=' ')\n",
    "    time.sleep(time_interval*2)\n",
    "    print ('바위~', end=' ')\n",
    "    time.sleep(time_interval*2)\n",
    "    print ('보~!!!!! ')\n",
    "    time.sleep(time_interval*2)\n",
    "\n",
    "# 사용자 결정-------------------------------------------------------\n",
    "    yourHand = input('가위~ 바위~ 보 ! 중에 하나를 골라주세요~   ')\n",
    "    print ()\n",
    "# 컴퓨터 결정-------------------------------------------------------\n",
    "    comRandom = random.randint(1,3)\n",
    "    if comRandom == 1:\n",
    "        comHand = '가위'\n",
    "    elif comRandom == 2:\n",
    "        comHand = '바위'\n",
    "    else:\n",
    "        comHand = '보'\n",
    "    \n",
    "    output=[yourHand, comHand]\n",
    "    \n",
    "    \n",
    "    winner = win\n",
    "    while 1:\n",
    "        if winner == '당신':\n",
    "            print ('당신 이김! 컴퓨터 짐! (You:' + yourHand + '~, Com:' + comHand + '~)')\n",
    "            break\n",
    "        elif winner == '컴퓨터':\n",
    "            print ('당신 짐! 컴퓨터 이김! 또 해! (You:' + yourHand + '~, Com:' + comHand + '~)')\n",
    "            start(decide)\n",
    "        elif winner == '비김':\n",
    "            print ('무승부! 또 해! (You:' + yourHand + '~, Com:' + comHand + '~)')\n",
    "\n",
    "            print()\n",
    "            print()\n",
    "            time.sleep(1.5)\n",
    "            start(decide)\n",
    "    return output\n"
   ]
  },
  {
   "cell_type": "code",
   "execution_count": null,
   "metadata": {},
   "outputs": [],
   "source": [
    "def decide(output):\n",
    "#     winner = '컴퓨터'\n",
    "    comHand = output[1]\n",
    "    yourHand = output[0]\n",
    "\n",
    "    if comHand == yourHand:\n",
    "        winner = '비김'\n",
    "    elif (comHand=='가위'and yourHand=='보') or (comHand=='바위'and yourHand=='가위')or (comHand=='보'and yourHand=='바위'):\n",
    "        winner = '컴퓨터'\n",
    "    else:\n",
    "        winner = '당신'\n",
    "        \n",
    "    return winner"
   ]
  },
  {
   "cell_type": "code",
   "execution_count": null,
   "metadata": {},
   "outputs": [],
   "source": [
    "start(decide)"
   ]
  },
  {
   "cell_type": "code",
   "execution_count": null,
   "metadata": {},
   "outputs": [],
   "source": []
  },
  {
   "cell_type": "code",
   "execution_count": 165,
   "metadata": {},
   "outputs": [],
   "source": [
    "import random\n",
    "a = random.randint(1,100000)\n",
    "b = random.randint(1,100000)\n"
   ]
  },
  {
   "cell_type": "code",
   "execution_count": 175,
   "metadata": {},
   "outputs": [],
   "source": [
    "def egcd(a,b):\n",
    "    if b==0:\n",
    "        return a\n",
    "    else:\n",
    "        print('call egcd(', b, ',' , a%b, ')')\n",
    "        return egcd(b, a%b)\n"
   ]
  },
  {
   "cell_type": "code",
   "execution_count": 176,
   "metadata": {},
   "outputs": [
    {
     "name": "stdout",
     "output_type": "stream",
     "text": [
      "call egcd( 72007 , 66789 )\n",
      "call egcd( 66789 , 5218 )\n",
      "call egcd( 5218 , 4173 )\n",
      "call egcd( 4173 , 1045 )\n",
      "call egcd( 1045 , 1038 )\n",
      "call egcd( 1038 , 7 )\n",
      "call egcd( 7 , 2 )\n",
      "call egcd( 2 , 1 )\n",
      "call egcd( 1 , 0 )\n"
     ]
    },
    {
     "data": {
      "text/plain": [
       "1"
      ]
     },
     "execution_count": 176,
     "metadata": {},
     "output_type": "execute_result"
    }
   ],
   "source": [
    "egcd(a,b)"
   ]
  },
  {
   "cell_type": "code",
   "execution_count": null,
   "metadata": {},
   "outputs": [],
   "source": []
  },
  {
   "cell_type": "code",
   "execution_count": 189,
   "metadata": {},
   "outputs": [
    {
     "name": "stdout",
     "output_type": "stream",
     "text": [
      "양재역\n",
      "역발견 양재역\n",
      "역삼\n",
      "역발견 역삼\n",
      "구로디지털단지\n",
      "신도림역\n",
      "역발견 신도림역\n",
      "한양대\n",
      "금천구청\n",
      "3 개의 역을 발견했습니다.\n"
     ]
    }
   ],
   "source": [
    "stations = ['양재역','역삼','구로디지털단지','신도림역','한양대','금천구청']\n",
    "\n",
    "cnt = 0\n",
    "for name in stations:\n",
    "    print(name)\n",
    "    for i in name:\n",
    "        if i == '역':\n",
    "            cnt = cnt +1\n",
    "            print('역발견',name)\n",
    "print(str(cnt), '개의 역을 발견했습니다.')"
   ]
  },
  {
   "cell_type": "code",
   "execution_count": 190,
   "metadata": {},
   "outputs": [
    {
     "data": {
      "text/plain": [
       "False"
      ]
     },
     "execution_count": 190,
     "metadata": {},
     "output_type": "execute_result"
    }
   ],
   "source": [
    "'양재' in stations"
   ]
  },
  {
   "cell_type": "code",
   "execution_count": 209,
   "metadata": {},
   "outputs": [
    {
     "data": {
      "text/plain": [
       "{'A': 16,\n",
       " 'B': 2,\n",
       " 'C': 6,\n",
       " 'D': 6,\n",
       " 'E': 16,\n",
       " 'F': 1,\n",
       " 'G': 1,\n",
       " 'H': 2,\n",
       " 'I': 7,\n",
       " 'J': 0,\n",
       " 'K': 1,\n",
       " 'L': 10,\n",
       " 'M': 2,\n",
       " 'N': 12,\n",
       " 'O': 17,\n",
       " 'P': 3,\n",
       " 'Q': 0,\n",
       " 'R': 7,\n",
       " 'S': 10,\n",
       " 'T': 8,\n",
       " 'U': 5,\n",
       " 'V': 4,\n",
       " 'W': 1,\n",
       " 'X': 0,\n",
       " 'Y': 6,\n",
       " 'Z': 0}"
      ]
     },
     "execution_count": 209,
     "metadata": {},
     "output_type": "execute_result"
    }
   ],
   "source": [
    "#각 알파벳이 몇개인지 찾아 출력하는 프로그램 만들기\n",
    "text = \"Anaconda solutions are serious technology\\\n",
    "for real data science and ML applications. \\\n",
    "Anaconda is versatile - \\\n",
    "you'll be ready to solve problems \\\n",
    "you don't even know you have yet.\"\n",
    "\n",
    "def alphafinder(text):\n",
    "#     import re\n",
    "    need = list(text.upper().strip())\n",
    "    alpha = ['A','B','C','D','E','F','G','H','I','J','K','L','M','N','O','P','Q','R','S','T','U','V','W','X','Y','Z']\n",
    "    \n",
    "    alpha_dic = {}\n",
    "    for al in alpha:\n",
    "        cnt = 0\n",
    "        for n in need:\n",
    "            if al == n:\n",
    "                cnt += 1\n",
    "            else:\n",
    "                pass\n",
    "        alpha_dic[al] = cnt\n",
    "#         print(al,'의 갯수는 ', cnt, '개 입니다.')\n",
    "    return alpha_dic      \n",
    "alphafinder(text)        "
   ]
  },
  {
   "cell_type": "code",
   "execution_count": 208,
   "metadata": {},
   "outputs": [
    {
     "data": {
      "text/plain": [
       "{'A': 16,\n",
       " 'B': 2,\n",
       " 'C': 6,\n",
       " 'D': 6,\n",
       " 'E': 16,\n",
       " 'F': 1,\n",
       " 'G': 1,\n",
       " 'H': 2,\n",
       " 'I': 7,\n",
       " 'J': 0,\n",
       " 'K': 1,\n",
       " 'L': 10,\n",
       " 'M': 2,\n",
       " 'N': 12,\n",
       " 'O': 17,\n",
       " 'P': 3,\n",
       " 'Q': 0,\n",
       " 'R': 7,\n",
       " 'S': 10,\n",
       " 'T': 8,\n",
       " 'U': 5,\n",
       " 'V': 4,\n",
       " 'W': 1,\n",
       " 'X': 0,\n",
       " 'Y': 6,\n",
       " 'Z': 0}"
      ]
     },
     "execution_count": 208,
     "metadata": {},
     "output_type": "execute_result"
    }
   ],
   "source": [
    "alphafinder(text)"
   ]
  },
  {
   "cell_type": "code",
   "execution_count": 238,
   "metadata": {},
   "outputs": [],
   "source": [
    "inputA = [5,1,6,9,2,7,0,3,8,4]\n",
    "# 선택정렬\n",
    "def select(unsorted):\n",
    "    for i in range(len(unsorted)):\n",
    "        smaller = i\n",
    "        for j in range(i+1, len(unsorted)):\n",
    "            if unsorted[smaller] > unsorted[j]:\n",
    "                smaller = j\n",
    "            else:\n",
    "                pass\n",
    "        unsorted[i], unsorted[smaller] = unsorted[smaller], unsorted[i]\n",
    "\n",
    "    print(unsorted)"
   ]
  },
  {
   "cell_type": "code",
   "execution_count": 239,
   "metadata": {},
   "outputs": [
    {
     "name": "stdout",
     "output_type": "stream",
     "text": [
      "[0, 1, 2, 3, 4, 5, 6, 7, 8, 9]\n"
     ]
    }
   ],
   "source": [
    "select(inputA)"
   ]
  },
  {
   "cell_type": "code",
   "execution_count": 240,
   "metadata": {},
   "outputs": [],
   "source": [
    "# 삽입정렬\n",
    "inputA = [5,1,6,9,2,7,0,3,8,4]\n",
    "def insert(unsorted):\n",
    "    for i in range(len(unsorted)):\n",
    "        for j in range(i, 0, -1):\n",
    "            if unsorted[j] < unsorted[j-1]:\n",
    "                unsorted[j], unsorted[j-1] = unsorted[j-1], unsorted[j]\n",
    "            else :\n",
    "                break \n",
    "\n",
    "    print(unsorted)"
   ]
  },
  {
   "cell_type": "code",
   "execution_count": 241,
   "metadata": {},
   "outputs": [
    {
     "name": "stdout",
     "output_type": "stream",
     "text": [
      "[0, 1, 2, 3, 4, 5, 6, 7, 8, 9]\n"
     ]
    }
   ],
   "source": [
    "insert(inputA)"
   ]
  },
  {
   "cell_type": "code",
   "execution_count": 236,
   "metadata": {},
   "outputs": [],
   "source": [
    "# 이진탐색-삽입정렬\n",
    "inputA = [5,1,6,9,2,7,0,3,8,4]\n",
    "\n",
    "def binary(unsorted):\n",
    "    \n",
    "    return \n",
    "    \n",
    "def binary_search(alist, key, start, end):\n",
    "\n",
    "    if end - start <= 1:\n",
    "        if key < alist[start]:\n",
    "            return start - 1\n",
    "        else:\n",
    "            return start\n",
    "    \n",
    "    mid = (start + end)//2\n",
    "    if alist[mid] < key:\n",
    "        return binary_search(alist, key, mid, end)\n",
    "    elif alist[mid] > key:\n",
    "        return binary_search(alist, key, start, mid)\n",
    "    else:\n",
    "        return mid\n",
    "def binary_insertion_sort(alist):\n",
    "    for i in range(1, len(alist)):\n",
    "        temp = alist[i]\n",
    "        pos = binary_search(alist, temp, 0, i) + 1\n",
    "        for k in range(i, pos, -1):\n",
    "            alist[k] = alist[k - 1]\n",
    "        alist[pos] = temp\n",
    "\n",
    "\n",
    "listA = [5,1,6,9,2,7,0,3,8,4]\n",
    "binary_insertion_sort(listA)"
   ]
  },
  {
   "cell_type": "code",
   "execution_count": 237,
   "metadata": {},
   "outputs": [
    {
     "name": "stdout",
     "output_type": "stream",
     "text": [
      "Enter the list of numbers: 12341234\n",
      "Sorted list: [12341234]\n"
     ]
    }
   ],
   "source": [
    "def binary_insertion_sort(alist):\n",
    "    for i in range(1, len(alist)):\n",
    "        temp = alist[i]\n",
    "        pos = binary_search(alist, temp, 0, i) + 1\n",
    " \n",
    "        for k in range(i, pos, -1):\n",
    "            alist[k] = alist[k - 1]\n",
    " \n",
    "        alist[pos] = temp\n",
    " \n",
    "def binary_search(alist, key, start, end):\n",
    "    '''If key is in the list at index p, then return p.\n",
    "    If there are multiple such keys in the list, then return the index of any one.\n",
    "    If key is not in the list and a < key < b where a and b are elements in the list, then return the index of a.\n",
    "    If key is not in the list and key < a where a is the first element in the list, then return -1.\n",
    "    Only elements with indexes start to end - 1 inclusive are considered.\n",
    "    '''\n",
    "    if end - start <= 1:\n",
    "        if key < alist[start]:\n",
    "            return start - 1\n",
    "        else:\n",
    "            return start\n",
    " \n",
    "    mid = (start + end)//2\n",
    "    if alist[mid] < key:\n",
    "        return binary_search(alist, key, mid, end)\n",
    "    elif alist[mid] > key:\n",
    "        return binary_search(alist, key, start, mid)\n",
    "    else:\n",
    "        return mid\n",
    " \n",
    " \n",
    "alist = input('Enter the list of numbers: ').split()\n",
    "alist = [int(x) for x in alist]\n",
    "binary_insertion_sort(alist)\n",
    "print('Sorted list: ', end='')\n",
    "print(alist)"
   ]
  },
  {
   "cell_type": "code",
   "execution_count": null,
   "metadata": {},
   "outputs": [],
   "source": [
    "# 다음과 같은 입력이 주어졌을 때, 다음 세 알고리즘을 프로그램으로 구현하고 각 단계의 결과가 이전 실습과제읙 결과와 동일한지 확인하시오(함수사용)\n",
    "\n",
    "# 삽입정렬-시도\n",
    "# insert_list = []\n",
    "# for i in range(len(inputA)):\n",
    "#     if len(insert_list) !=0:\n",
    "#         for j in range(len(insert_list)):\n",
    "#             if inputA[i] > insert_list[j]:\n",
    "#                 insert_list.insert(j, inputA[i])\n",
    "#             else:\n",
    "#                 insert_list.insert(j-1, inputA[i])\n",
    "#     else:\n",
    "#         insert_list.append(inputA[i])\n",
    "# insert_list\n"
   ]
  }
 ],
 "metadata": {
  "kernelspec": {
   "display_name": "Python 3",
   "language": "python",
   "name": "python3"
  },
  "language_info": {
   "codemirror_mode": {
    "name": "ipython",
    "version": 3
   },
   "file_extension": ".py",
   "mimetype": "text/x-python",
   "name": "python",
   "nbconvert_exporter": "python",
   "pygments_lexer": "ipython3",
   "version": "3.8.5"
  }
 },
 "nbformat": 4,
 "nbformat_minor": 4
}
