{
 "cells": [
  {
   "cell_type": "markdown",
   "metadata": {},
   "source": [
    "# Day 2 12.23"
   ]
  },
  {
   "cell_type": "markdown",
   "metadata": {},
   "source": [
    "## Time 9:00~10:10 Review"
   ]
  },
  {
   "cell_type": "code",
   "execution_count": 1,
   "metadata": {},
   "outputs": [
    {
     "data": {
      "text/plain": [
       "1"
      ]
     },
     "execution_count": 1,
     "metadata": {},
     "output_type": "execute_result"
    }
   ],
   "source": [
    "## 연산자 내용 확인\n",
    "## % 모듈러 연산, 나눗셈 후 나머지 값 변환\n",
    "100%3"
   ]
  },
  {
   "cell_type": "code",
   "execution_count": 2,
   "metadata": {},
   "outputs": [
    {
     "data": {
      "text/plain": [
       "33"
      ]
     },
     "execution_count": 2,
     "metadata": {},
     "output_type": "execute_result"
    }
   ],
   "source": [
    "## // 나눗셈의 몫\n",
    "100//3"
   ]
  },
  {
   "cell_type": "code",
   "execution_count": 3,
   "metadata": {},
   "outputs": [],
   "source": [
    "\n",
    "a = 100\n",
    "b = 50\n",
    "c = 50"
   ]
  },
  {
   "cell_type": "code",
   "execution_count": 4,
   "metadata": {},
   "outputs": [
    {
     "data": {
      "text/plain": [
       "False"
      ]
     },
     "execution_count": 4,
     "metadata": {},
     "output_type": "execute_result"
    }
   ],
   "source": [
    "## and or not 논리 연산자\n",
    "## 교집합, 두 명제가 T일 때 T를 변환\n",
    "## a>b : True   b.c: False\n",
    "(a>b) and (b>c)"
   ]
  },
  {
   "cell_type": "code",
   "execution_count": 5,
   "metadata": {
    "scrolled": true
   },
   "outputs": [
    {
     "data": {
      "text/plain": [
       "True"
      ]
     },
     "execution_count": 5,
     "metadata": {},
     "output_type": "execute_result"
    }
   ],
   "source": [
    "# a>b: True   b>c: False\n",
    "(a>b) or (b>c)"
   ]
  },
  {
   "cell_type": "markdown",
   "metadata": {},
   "source": [
    "# 가위바위보"
   ]
  },
  {
   "cell_type": "code",
   "execution_count": 6,
   "metadata": {},
   "outputs": [
    {
     "name": "stdout",
     "output_type": "stream",
     "text": [
      "가위~ 바위~ 보~!!!!! \n",
      "가위~ 바위~ 보~!!!!! \n",
      "가위~ 바위~ 보 ! 중에 하나를 골라주세요~   \n",
      "\n",
      "당신 이김! 컴퓨터 짐! (You:~, Com:보~)\n",
      "\n",
      "\n"
     ]
    }
   ],
   "source": [
    "import random\n",
    "import time\n",
    "\n",
    "winner = '컴퓨터'\n",
    "time_interval=0.1\n",
    "\n",
    "# 게임 인트로 -------------------------------------------------------\n",
    "print ('가위~', end=' ')\n",
    "time.sleep(time_interval*5)\n",
    "print ('바위~', end=' ')\n",
    "time.sleep(time_interval*5)\n",
    "print ('보~!!!!! ')\n",
    "time.sleep(time_interval*5)\n",
    "\n",
    "print ('가위~', end=' ')\n",
    "time.sleep(time_interval*2)\n",
    "print ('바위~', end=' ')\n",
    "time.sleep(time_interval*2)\n",
    "print ('보~!!!!! ')\n",
    "time.sleep(time_interval*2)\n",
    "\n",
    "while winner!='당신':\n",
    "\n",
    "# 사용자 결정-------------------------------------------------------\n",
    "    yourHand = input('가위~ 바위~ 보 ! 중에 하나를 골라주세요~   ')\n",
    "    print ()\n",
    "    \n",
    "# 컴퓨터 결정-------------------------------------------------------\n",
    "    comRandom = random.randint(1,3)\n",
    "    if comRandom == 1:\n",
    "        comHand = '가위'\n",
    "    elif comRandom == 2:\n",
    "        comHand = '바위'\n",
    "    else:\n",
    "        comHand = '보'\n",
    "        \n",
    "# 승부판단-------------------------------------------------------\n",
    "    if comHand == yourHand:\n",
    "        winner = '비김'\n",
    "    elif (comHand=='가위'and yourHand=='보') or (comHand=='바위'and yourHand=='가위')or (comHand=='보'and yourHand=='바위'):\n",
    "        winner = '컴퓨터'\n",
    "    else:\n",
    "        winner = '당신'\n",
    "# 출력-------------------------------------------------------\n",
    "    if winner == '당신':\n",
    "        print ('당신 이김! 컴퓨터 짐! (You:' + yourHand + '~, Com:' + comHand + '~)')\n",
    "    elif winner == '컴퓨터':\n",
    "        print ('당신 짐! 컴퓨터 이김! 또 해! (You:' + yourHand + '~, Com:' + comHand + '~)')\n",
    "    else :\n",
    "        print ('무승부! 또 해! (You:' + yourHand + '~, Com:' + comHand + '~)')\n",
    "\n",
    "    print()\n",
    "    print()\n",
    "    time.sleep(1.5)"
   ]
  },
  {
   "cell_type": "markdown",
   "metadata": {},
   "source": [
    "#### random.randint의 설명을 보고 싶다면\n",
    "#### random.randint 쓰고 shift + tab 누르면 설명 볼 수 있다."
   ]
  },
  {
   "cell_type": "code",
   "execution_count": 7,
   "metadata": {
    "scrolled": true
   },
   "outputs": [
    {
     "name": "stdout",
     "output_type": "stream",
     "text": [
      "10\n",
      "9\n",
      "8\n",
      "7\n",
      "6\n",
      "5\n",
      "4\n",
      "3\n",
      "2\n",
      "1\n"
     ]
    }
   ],
   "source": [
    "import time\n",
    "# countdown\n",
    "cnt = 10\n",
    "while cnt>0:\n",
    "    print(cnt)\n",
    "    time.sleep(10/cnt)\n",
    "    cnt=cnt-1"
   ]
  },
  {
   "cell_type": "code",
   "execution_count": 8,
   "metadata": {},
   "outputs": [
    {
     "name": "stdout",
     "output_type": "stream",
     "text": [
      "8 3 10 4\n"
     ]
    }
   ],
   "source": [
    "# 로또 번호\n",
    "# 중복 안되게\n",
    "import random\n",
    "num1 = random.randint(1,10)\n",
    "\n",
    "while True:\n",
    "    num2 = random.randint(1,10)\n",
    "    if num1 != num2:\n",
    "        num3 = random.randint(1,10)\n",
    "        if (num1 != num3) and (num2 != num3):\n",
    "            num4 = random.randint(1,10)\n",
    "            if (num1 != num4) and (num2 != num4) and (num3 != num4):\n",
    "                break\n",
    "            \n",
    "print(num1, num2, num3, num4)"
   ]
  },
  {
   "cell_type": "markdown",
   "metadata": {},
   "source": [
    "## Time 10:30 ~ 11:30"
   ]
  },
  {
   "cell_type": "code",
   "execution_count": 9,
   "metadata": {},
   "outputs": [
    {
     "name": "stdout",
     "output_type": "stream",
     "text": [
      "10\n",
      "Hello! What is your name?gyuho\n",
      "Well, gyuho  I am thinking of a number between 1 and 20.\n",
      "Take a guess.10\n",
      "count 1  You Guessed my number!\n"
     ]
    }
   ],
   "source": [
    "#### Guess the number game\n",
    "# 최대 6번 반복\n",
    "# number는 임의로 결정\n",
    "# if-else로 적용\n",
    "\n",
    "import random\n",
    "number = random.randint(1,20)\n",
    "print(number)\n",
    "\n",
    "myName = input('Hello! What is your name?')\n",
    "print('Well, '+ myName + '  I am thinking of a number between 1 and 20.')\n",
    "\n",
    "Guess = int(input('Take a guess.')) \n",
    "count=1\n",
    "\n",
    "while True:\n",
    "    \n",
    "    if number == Guess :\n",
    "        print('count '+str(count)+'  '+'You Guessed my number!')\n",
    "        break\n",
    "    elif number != Guess:\n",
    "        print('count '+str(count)+'  '+'Your guess is Wrong.')\n",
    "        if count==6:\n",
    "            break\n",
    "        else:\n",
    "            Guess = int(input('Take a guess.')) \n",
    "            count=count+1\n",
    "        "
   ]
  },
  {
   "cell_type": "code",
   "execution_count": 10,
   "metadata": {
    "scrolled": true
   },
   "outputs": [
    {
     "name": "stdout",
     "output_type": "stream",
     "text": [
      "17\n",
      "생일 Guess3\n",
      "Up\n",
      "생일 Guess0\n",
      "Up\n",
      "생일 Guess5\n",
      "Up\n",
      "생일 Guess6\n",
      "Up\n",
      "생일 Guess3\n",
      "Up\n",
      "몇번 안남음\n",
      "생일 Guess10\n",
      "Up\n",
      "몇번 안남음\n",
      "5번만에 못 맞추네\n"
     ]
    }
   ],
   "source": [
    "#### Guess my birthday\n",
    "# 교수 ver\n",
    "\n",
    "import random\n",
    "birthday = random.randint(1,20)\n",
    "print(birthday)\n",
    "\n",
    "cnt=0\n",
    "\n",
    "while cnt < 6:\n",
    "    guessday = int(input('생일 Guess'))\n",
    "    if guessday == birthday:\n",
    "        print('Right')\n",
    "        break\n",
    "    elif guessday > birthday:\n",
    "        print('Down')\n",
    "    else:\n",
    "        print('Up')\n",
    "    \n",
    "    cnt = cnt +1\n",
    "    \n",
    "    if (cnt > 4):\n",
    "        print(\"몇번 안남음\")\n",
    "        \n",
    "    if (cnt >= 6):\n",
    "        print('5번만에 못 맞추네')\n",
    "    "
   ]
  },
  {
   "cell_type": "markdown",
   "metadata": {},
   "source": [
    "### 탐색 기법\n",
    "#### Random search Random으로 탐색\n",
    "#### Incremental search 하나씩 차례대로 물어봄\n",
    "#### binary search 이진탐색 ex. 1~100 에서 X를 물어보고 Up/Down을 통해 절반 날리기. 바로 위의 생일 예제\n",
    "#####    정렬된 N개는 log2(N) 횟수만 탐색하면 된다. ex. N=180, log2(180)=6.xxx -> 7번만 물어보면 찾을 수 있다."
   ]
  },
  {
   "cell_type": "code",
   "execution_count": 11,
   "metadata": {},
   "outputs": [],
   "source": [
    "### 자판기 만들기\n",
    "## 제품 구성하기 : 기능 정의\n",
    "# 1. 돈을 받고  2. 제품제공(돈이 들어오면 or 돈이 들어와있으면)  3. 계산(현재돈-제품값)  4. 잔돈 반환\n",
    "##순서도 그리기 : 작동의 순서\n",
    "## 시나리오 작성하기 : \n",
    "## 프로그래밍 하기 : "
   ]
  },
  {
   "cell_type": "code",
   "execution_count": 12,
   "metadata": {
    "scrolled": true
   },
   "outputs": [
    {
     "name": "stdout",
     "output_type": "stream",
     "text": [
      "자판기\n",
      "돈 넣으세요(500원 이상):  600\n",
      "-------------------\n",
      "음료 선택하시오. 현재 잔액은  600 원 입니다.\n",
      "(1) 데자와 (500원), (2) 핫식스 (800원), (3) 커피 (700원), (4) 잔돈반환\n",
      "3\n",
      "잔액 부족.\n",
      "-------------------\n",
      "음료 선택하시오. 현재 잔액은  600 원 입니다.\n",
      "(1) 데자와 (500원), (2) 핫식스 (800원), (3) 커피 (700원), (4) 잔돈반환\n",
      "2\n",
      "잔액 부족.\n",
      "-------------------\n",
      "음료 선택하시오. 현재 잔액은  600 원 입니다.\n",
      "(1) 데자와 (500원), (2) 핫식스 (800원), (3) 커피 (700원), (4) 잔돈반환\n",
      "1\n",
      "덜커덩   데자와  나왔습니다.\n",
      "잔액:   100 원\n"
     ]
    }
   ],
   "source": [
    "# 자판기\n",
    "print('자판기')\n",
    "can = 0\n",
    "deposit = int(input('돈 넣으세요(500원 이상):  '))\n",
    "\n",
    "while deposit >= 500:\n",
    "    print('-------------------')\n",
    "    print('음료 선택하시오. 현재 잔액은 ',deposit, '원 입니다.')\n",
    "    print('(1) 데자와 (500원), (2) 핫식스 (800원), (3) 커피 (700원), (4) 잔돈반환')\n",
    "    \n",
    "    # 음료선택\n",
    "    can = int(input())\n",
    "    if can==1:\n",
    "        fares = 500\n",
    "        drink = '데자와'\n",
    "    if can==2:\n",
    "        fares = 800\n",
    "        drink = '핫식스'\n",
    "    if can==3:\n",
    "        fares = 700\n",
    "        drink = '커피'\n",
    "    if can==4:\n",
    "        fares = deposit\n",
    "        print('잔돈:  ', deposit, '원')\n",
    "        break\n",
    "    \n",
    "    if deposit < fares:\n",
    "        print('잔액 부족.')\n",
    "    else:\n",
    "        deposit = deposit-fares\n",
    "        print('덜커덩  ', drink, ' 나왔습니다.' )\n",
    "        print('잔액:  ', deposit, '원')\n",
    "        "
   ]
  },
  {
   "cell_type": "markdown",
   "metadata": {},
   "source": [
    "# 2일차 진도\n",
    "## List"
   ]
  },
  {
   "cell_type": "code",
   "execution_count": 13,
   "metadata": {},
   "outputs": [
    {
     "data": {
      "text/plain": [
       "'anteater'"
      ]
     },
     "execution_count": 13,
     "metadata": {},
     "output_type": "execute_result"
    }
   ],
   "source": [
    "# List\n",
    "animals = ['aardvark','anteater','antelope','albert']\n",
    "\n",
    "    # List의 값들이 item\n",
    "    # item 구분 위해 index 필요\n",
    "    # index는 0부터.\n",
    "animals[1] # anteater"
   ]
  },
  {
   "cell_type": "code",
   "execution_count": 14,
   "metadata": {},
   "outputs": [
    {
     "data": {
      "text/plain": [
       "['aardvark', 'ANTEATER', 'antelope', 'albert']"
      ]
     },
     "execution_count": 14,
     "metadata": {},
     "output_type": "execute_result"
    }
   ],
   "source": [
    "# List 값 변경 덮어씌우기 가능\n",
    "animals[1]='ANTEATER'\n",
    "animals"
   ]
  },
  {
   "cell_type": "code",
   "execution_count": 15,
   "metadata": {},
   "outputs": [
    {
     "data": {
      "text/plain": [
       "[2, 6, 8, 10]"
      ]
     },
     "execution_count": 15,
     "metadata": {},
     "output_type": "execute_result"
    }
   ],
   "source": [
    "# List 값 삭제\n",
    "spam = [2,4,6,8,10]\n",
    "del spam[1]\n",
    "spam"
   ]
  },
  {
   "cell_type": "code",
   "execution_count": 16,
   "metadata": {},
   "outputs": [
    {
     "data": {
      "text/plain": [
       "['aardvark', 'ANTEATER', 'antelope']"
      ]
     },
     "execution_count": 16,
     "metadata": {},
     "output_type": "execute_result"
    }
   ],
   "source": [
    "# Slicing\n",
    "animals[0:3] ## 마지막 숫자는 포함하지 않음 ex. index 3인 albert는 포함x\n"
   ]
  },
  {
   "cell_type": "code",
   "execution_count": 17,
   "metadata": {
    "scrolled": true
   },
   "outputs": [
    {
     "data": {
      "text/plain": [
       "['aardvark',\n",
       " 'ANTEATER',\n",
       " 'antelope',\n",
       " 'albert',\n",
       " 'aardvark',\n",
       " 'ANTEATER',\n",
       " 'antelope',\n",
       " 'albert']"
      ]
     },
     "execution_count": 17,
     "metadata": {},
     "output_type": "execute_result"
    }
   ],
   "source": [
    "# List에 * 가능\n",
    "animals*2"
   ]
  },
  {
   "cell_type": "code",
   "execution_count": 18,
   "metadata": {},
   "outputs": [
    {
     "data": {
      "text/plain": [
       "['aardvark', 'ANTEATER', 'antelope', 'albert', 'cow']"
      ]
     },
     "execution_count": 18,
     "metadata": {},
     "output_type": "execute_result"
    }
   ],
   "source": [
    "# List에 추가 가능\n",
    "# append()\n",
    "animals.append('cow')\n",
    "animals"
   ]
  },
  {
   "cell_type": "code",
   "execution_count": 19,
   "metadata": {},
   "outputs": [],
   "source": [
    "colorList = ['red','blue','green','white','black']"
   ]
  },
  {
   "cell_type": "code",
   "execution_count": 20,
   "metadata": {},
   "outputs": [
    {
     "data": {
      "text/plain": [
       "'white'"
      ]
     },
     "execution_count": 20,
     "metadata": {},
     "output_type": "execute_result"
    }
   ],
   "source": [
    "colorList[3]"
   ]
  },
  {
   "cell_type": "code",
   "execution_count": 21,
   "metadata": {},
   "outputs": [],
   "source": [
    "colorList[3]='pink'"
   ]
  },
  {
   "cell_type": "code",
   "execution_count": 22,
   "metadata": {
    "scrolled": true
   },
   "outputs": [
    {
     "data": {
      "text/plain": [
       "'pink'"
      ]
     },
     "execution_count": 22,
     "metadata": {},
     "output_type": "execute_result"
    }
   ],
   "source": [
    "colorList[3]"
   ]
  },
  {
   "cell_type": "code",
   "execution_count": 23,
   "metadata": {},
   "outputs": [
    {
     "data": {
      "text/plain": [
       "['blue', 'green']"
      ]
     },
     "execution_count": 23,
     "metadata": {},
     "output_type": "execute_result"
    }
   ],
   "source": [
    "colorList[1:3]"
   ]
  },
  {
   "cell_type": "code",
   "execution_count": 24,
   "metadata": {},
   "outputs": [
    {
     "data": {
      "text/plain": [
       "'december23rd'"
      ]
     },
     "execution_count": 24,
     "metadata": {},
     "output_type": "execute_result"
    }
   ],
   "source": [
    "# upper, lower\n",
    "today = 'December23rd'.upper()  # 대문자\n",
    "today\n",
    "today = today.lower()  # 소문자\n",
    "today"
   ]
  },
  {
   "cell_type": "code",
   "execution_count": 25,
   "metadata": {},
   "outputs": [
    {
     "data": {
      "text/plain": [
       "[1, 2, 3, 4, 5, 'a', 'b']"
      ]
     },
     "execution_count": 25,
     "metadata": {},
     "output_type": "execute_result"
    }
   ],
   "source": [
    "# List 순서 뒤집기\n",
    "# reverse\n",
    "spam = [1,2,3,4,5,'a','b']\n",
    "spam"
   ]
  },
  {
   "cell_type": "code",
   "execution_count": 26,
   "metadata": {
    "scrolled": true
   },
   "outputs": [
    {
     "data": {
      "text/plain": [
       "['b', 'a', 5, 4, 3, 2, 1]"
      ]
     },
     "execution_count": 26,
     "metadata": {},
     "output_type": "execute_result"
    }
   ],
   "source": [
    "spam.reverse()\n",
    "spam"
   ]
  },
  {
   "cell_type": "code",
   "execution_count": 27,
   "metadata": {},
   "outputs": [
    {
     "data": {
      "text/plain": [
       "['동해물과', '백두산이', '마르고', '닳도록', '하느님이', '보우하사', '우리나라', '만세']"
      ]
     },
     "execution_count": 27,
     "metadata": {},
     "output_type": "execute_result"
    }
   ],
   "source": [
    "# 문장(string)들의 단어를 List로 저장 # 띄워쓰기로\n",
    "# split\n",
    "test = '동해물과 백두산이 마르고 닳도록 하느님이 보우하사 우리나라 만세'\n",
    "test.split()"
   ]
  },
  {
   "cell_type": "code",
   "execution_count": 28,
   "metadata": {},
   "outputs": [
    {
     "data": {
      "text/plain": [
       "['white', ' black', ' pink', ' area', ' grey', ' red', ' black', ' pepper']"
      ]
     },
     "execution_count": 28,
     "metadata": {},
     "output_type": "execute_result"
    }
   ],
   "source": [
    "# split # 쉼표(,)로\n",
    "test = 'white, black, pink, area, grey, red, black, pepper'\n",
    "test2=test.split(',')\n",
    "test2"
   ]
  },
  {
   "cell_type": "code",
   "execution_count": 29,
   "metadata": {},
   "outputs": [
    {
     "data": {
      "text/plain": [
       "8"
      ]
     },
     "execution_count": 29,
     "metadata": {},
     "output_type": "execute_result"
    }
   ],
   "source": [
    "len(test2)"
   ]
  },
  {
   "cell_type": "code",
   "execution_count": 30,
   "metadata": {},
   "outputs": [
    {
     "data": {
      "text/plain": [
       "[0, 1, 2, 3, 4, 5, 6, 7, 8, 9]"
      ]
     },
     "execution_count": 30,
     "metadata": {},
     "output_type": "execute_result"
    }
   ],
   "source": [
    "# list     List 만드는 함수\n",
    "# range()  0부터 range-1 까지\n",
    "list(range(10))"
   ]
  },
  {
   "cell_type": "code",
   "execution_count": 31,
   "metadata": {},
   "outputs": [
    {
     "data": {
      "text/plain": [
       "[10, 11, 12, 13, 14, 15, 16, 17, 18, 19]"
      ]
     },
     "execution_count": 31,
     "metadata": {},
     "output_type": "execute_result"
    }
   ],
   "source": [
    "list(range(10,20))"
   ]
  },
  {
   "cell_type": "code",
   "execution_count": 32,
   "metadata": {},
   "outputs": [
    {
     "data": {
      "text/plain": [
       "['white',\n",
       " ' black',\n",
       " ' pink',\n",
       " ' area',\n",
       " ' grey',\n",
       " ' red',\n",
       " ' black',\n",
       " ' pepper',\n",
       " ['red', 'blue', 'green', 'pink', 'black']]"
      ]
     },
     "execution_count": 32,
     "metadata": {},
     "output_type": "execute_result"
    }
   ],
   "source": [
    "# List of List\n",
    "# List 는 List를 item으로 가질 수 있다.\n",
    "\n",
    "test2.append(colorList)\n",
    "test2"
   ]
  },
  {
   "cell_type": "code",
   "execution_count": 33,
   "metadata": {},
   "outputs": [
    {
     "name": "stdout",
     "output_type": "stream",
     "text": [
      "오늘의 패션 1 번 추천 조합입니다.\n",
      "black   T-shirt\n",
      "red   Skirt\n",
      "black   Tie \n",
      "\n",
      "오늘의 패션 2 번 추천 조합입니다.\n",
      "red   T-shirt\n",
      "black   Slacks\n",
      "red   necklace \n",
      "\n",
      "오늘의 패션 3 번 추천 조합입니다.\n",
      "red   Knit\n",
      "blue   Slacks\n",
      "red   Hat \n",
      "\n"
     ]
    }
   ],
   "source": [
    "import random\n",
    "colorList = ['red','black','blue','white']\n",
    "topList = ['T-shirt','shirt','Kardigan','Knit']\n",
    "bottomList = ['Jean','Skirt','legging','Slacks']\n",
    "accList = ['Hat','Tie','Shoes','necklace']\n",
    "\n",
    "count = 1\n",
    "while count<=3:\n",
    "    print('오늘의 패션',count,'번 추천 조합입니다.')\n",
    "    # print(colorList[random.randint(1,len(color)-1)])\n",
    "    print(random.choice(colorList), ' ', random.choice(topList))\n",
    "    print(random.choice(colorList), ' ', random.choice(bottomList))\n",
    "    print(random.choice(colorList), ' ', random.choice(accList),'\\n')\n",
    "    count=count+1\n",
    "    "
   ]
  },
  {
   "cell_type": "markdown",
   "metadata": {},
   "source": [
    "# 오후\n",
    "## Multi-Line Print"
   ]
  },
  {
   "cell_type": "code",
   "execution_count": 34,
   "metadata": {},
   "outputs": [
    {
     "name": "stdout",
     "output_type": "stream",
     "text": [
      "Python's\n",
      "                    class\n"
     ]
    }
   ],
   "source": [
    "# 쓴 그대로 출력해줌 ''' ㅇㅇㅇㅇㅇㅇㅇㅇ    '''\n",
    "print('''Python's\n",
    "                    class''')"
   ]
  },
  {
   "cell_type": "markdown",
   "metadata": {},
   "source": [
    "## \\표시를 쓰면 특수기호가 올거라고 대기함\n",
    "## ex. \\t \\\\ \\/"
   ]
  },
  {
   "cell_type": "markdown",
   "metadata": {},
   "source": [
    "### ASCII ART"
   ]
  },
  {
   "cell_type": "code",
   "execution_count": 35,
   "metadata": {},
   "outputs": [
    {
     "name": "stdout",
     "output_type": "stream",
     "text": [
      "\n",
      "        ___/ /\n",
      "       / ._.\\\n",
      "      \\ \\/ /\n",
      " '  __/      \\\n",
      "    \\ -     )\n",
      "     \\_____/\n",
      "   ___ㅣ_ㅣ____\n",
      "      m   m\n",
      "\n",
      "\n"
     ]
    }
   ],
   "source": [
    "print('''\n",
    "        ___/ /\n",
    "       / ._.\\\\\n",
    "      \\\\ \\\\/ /\n",
    " '  __/      \\\\\n",
    "    \\\\ -     )\n",
    "     \\\\_____/\n",
    "   ___ㅣ_ㅣ____\n",
    "      m   m\n",
    "\n",
    "''')"
   ]
  },
  {
   "cell_type": "code",
   "execution_count": 36,
   "metadata": {},
   "outputs": [
    {
     "data": {
      "text/plain": [
       "[3, 31, 1, 34, 19, 17]"
      ]
     },
     "execution_count": 36,
     "metadata": {},
     "output_type": "execute_result"
    }
   ],
   "source": [
    "## list 사용하는 중복없는 로또\n",
    "import random\n",
    "listA = list(range(1,45))\n",
    "listA\n",
    "random.shuffle(listA)\n",
    "listA[0:6]"
   ]
  },
  {
   "cell_type": "markdown",
   "metadata": {},
   "source": [
    "# Sorting Problem 정렬문제"
   ]
  },
  {
   "cell_type": "markdown",
   "metadata": {},
   "source": [
    "## 선택정렬\n",
    "## 선택하여 정렬. 오름차순/내림차순\n",
    "\n",
    "### 최소값 선택정렬\n",
    "#### 1. 정렬되지 않은 숫자 중 가장 작은 숫자 선택\n",
    "#### 2. 선택훈 숫자를 정렬된 숫자들의 마지막 숫자와 자리를 바꿈\n",
    "#### 3. 모든 숫자를 옮길 때까지 1,2번 과정을 반복"
   ]
  },
  {
   "cell_type": "code",
   "execution_count": 37,
   "metadata": {},
   "outputs": [
    {
     "name": "stdout",
     "output_type": "stream",
     "text": [
      "[0, 1, 2, 3, 4, 5, 6, 7, 8, 9, 10, 11, 12, 13, 14]\n",
      "[12, 9, 13, 7, 10, 1, 2, 8, 3, 11, 14, 6, 5, 4, 0]\n",
      "[0, 1, 2, 3, 4, 5, 6, 7, 8, 9, 10, 11, 12, 13, 14]\n"
     ]
    }
   ],
   "source": [
    "## Sorting\n",
    "\n",
    "import random\n",
    "listA = list(range(15))\n",
    "print(listA)\n",
    "random.shuffle(listA)\n",
    "print(listA)\n",
    "n = len(listA)\n",
    "i=0\n",
    "\n",
    "while i <= n-2:\n",
    "    min = i\n",
    "    j = i+1\n",
    "    while j <= n-1:\n",
    "        if listA[j] < listA[min]:\n",
    "            min = j\n",
    "        j=j+1\n",
    "        \n",
    "    if min != i:\n",
    "        temp = listA[i]\n",
    "        listA[i]=listA[min]\n",
    "        listA[min]=temp\n",
    "    i = i+1\n",
    "\n",
    "print(listA)"
   ]
  },
  {
   "cell_type": "markdown",
   "metadata": {},
   "source": [
    "# 함수"
   ]
  },
  {
   "cell_type": "code",
   "execution_count": 38,
   "metadata": {},
   "outputs": [
    {
     "name": "stdout",
     "output_type": "stream",
     "text": [
      "15\n",
      "Hello Hello Hello Hello Hello \n",
      "Hello, Meo\n"
     ]
    }
   ],
   "source": [
    "## 함수 예\n",
    "## 숫자 2개 전달 받아서 더함\n",
    "\n",
    "def addTwoNumbers(a,b):\n",
    "    summ = a+b\n",
    "    print(summ)\n",
    "\n",
    "def printHello5times():\n",
    "    print('Hello '*5)\n",
    "    \n",
    "addTwoNumbers(10,5)\n",
    "printHello5times()\n",
    "\n",
    "def Hello(name):\n",
    "    print('Hello,',name)\n",
    "\n",
    "Hello('Meo')\n"
   ]
  },
  {
   "cell_type": "code",
   "execution_count": 40,
   "metadata": {
    "scrolled": true
   },
   "outputs": [
    {
     "name": "stdout",
     "output_type": "stream",
     "text": [
      "첫 번째 숫자를 입력하시오:    1\n",
      "두 번째 숫자를 입력하시오:    40\n",
      "두 수의 합은 41 입니다.\n"
     ]
    }
   ],
   "source": [
    "def plus(firstnum,secondnum):\n",
    "    result = firstnum+secondnum\n",
    "    return result\n",
    "\n",
    "firstnum=int(input('첫 번째 숫자를 입력하시오:    '))\n",
    "secondnum=int(input('두 번째 숫자를 입력하시오:    '))\n",
    "result = plus(firstnum,secondnum)\n",
    "print('두 수의 합은', result, '입니다.')"
   ]
  },
  {
   "cell_type": "code",
   "execution_count": 41,
   "metadata": {},
   "outputs": [
    {
     "name": "stdout",
     "output_type": "stream",
     "text": [
      "Good Morning!  Muji\n",
      "144\n",
      "50\n",
      "70\n"
     ]
    }
   ],
   "source": [
    "name = 'Muji'\n",
    "print('Good Morning! ', name)\n",
    "\n",
    "def calc():\n",
    "    number = 10\n",
    "    print (number*5)\n",
    "\n",
    "number = 12\n",
    "print(number*12)\n",
    "number=14\n",
    "calc()\n",
    "print(number*5)"
   ]
  },
  {
   "cell_type": "code",
   "execution_count": 42,
   "metadata": {},
   "outputs": [
    {
     "name": "stdout",
     "output_type": "stream",
     "text": [
      "Good Morning!  Muji\n",
      "Good Morning!  Teo\n",
      "Good Morning!  Meo\n"
     ]
    }
   ],
   "source": [
    "name = 'Muji'\n",
    "print('Good Morning! ', name)\n",
    "\n",
    "def GoodMorning():\n",
    "    name = 'Teo'\n",
    "    print ('Good Morning! ', name)\n",
    "\n",
    "name = 'Meo'\n",
    "GoodMorning()\n",
    "print('Good Morning! ',name)"
   ]
  },
  {
   "cell_type": "code",
   "execution_count": 43,
   "metadata": {},
   "outputs": [
    {
     "name": "stdout",
     "output_type": "stream",
     "text": [
      "Shout the number sequentially from 1 to the last number\n",
      "when 3, 6 or 9 show up, claps! instead of shouting!\n",
      "Enjoy the game!\n",
      "\n",
      "Please Input the last numeber (1~5000): \n",
      "300\n",
      "\n",
      "1\n",
      "2\n",
      "clap!! \n",
      "4\n",
      "5\n",
      "clap!! \n",
      "7\n",
      "8\n",
      "clap!! \n",
      "10\n",
      "11\n",
      "12\n",
      "clap!! \n",
      "14\n",
      "15\n",
      "clap!! \n",
      "17\n",
      "18\n",
      "clap!! \n",
      "20\n",
      "21\n",
      "22\n",
      "clap!! \n",
      "24\n",
      "25\n",
      "clap!! \n",
      "27\n",
      "28\n",
      "clap!! \n",
      "clap!! \n",
      "clap!! \n",
      "clap!! \n",
      "clap!! clap!! \n",
      "clap!! \n",
      "clap!! \n",
      "clap!! clap!! \n",
      "clap!! \n",
      "clap!! \n",
      "clap!! clap!! \n",
      "40\n",
      "41\n",
      "42\n",
      "clap!! \n",
      "44\n",
      "45\n",
      "clap!! \n",
      "47\n",
      "48\n",
      "clap!! \n",
      "50\n",
      "51\n",
      "52\n",
      "clap!! \n",
      "54\n",
      "55\n",
      "clap!! \n",
      "57\n",
      "58\n",
      "clap!! \n",
      "clap!! \n",
      "clap!! \n",
      "clap!! \n",
      "clap!! clap!! \n",
      "clap!! \n",
      "clap!! \n",
      "clap!! clap!! \n",
      "clap!! \n",
      "clap!! \n",
      "clap!! clap!! \n",
      "70\n",
      "71\n",
      "72\n",
      "clap!! \n",
      "74\n",
      "75\n",
      "clap!! \n",
      "77\n",
      "78\n",
      "clap!! \n",
      "80\n",
      "81\n",
      "82\n",
      "clap!! \n",
      "84\n",
      "85\n",
      "clap!! \n",
      "87\n",
      "88\n",
      "clap!! \n",
      "clap!! \n",
      "clap!! \n",
      "clap!! \n",
      "clap!! clap!! \n",
      "clap!! \n",
      "clap!! \n",
      "clap!! clap!! \n",
      "clap!! \n",
      "clap!! \n",
      "clap!! clap!! \n",
      "100\n",
      "101\n",
      "102\n",
      "clap!! \n",
      "104\n",
      "105\n",
      "clap!! \n",
      "107\n",
      "108\n",
      "clap!! \n",
      "110\n",
      "111\n",
      "112\n",
      "clap!! \n",
      "114\n",
      "115\n",
      "clap!! \n",
      "117\n",
      "118\n",
      "clap!! \n",
      "120\n",
      "121\n",
      "122\n",
      "clap!! \n",
      "124\n",
      "125\n",
      "clap!! \n",
      "127\n",
      "128\n",
      "clap!! \n",
      "clap!! \n",
      "clap!! \n",
      "clap!! \n",
      "clap!! clap!! \n",
      "clap!! \n",
      "clap!! \n",
      "clap!! clap!! \n",
      "clap!! \n",
      "clap!! \n",
      "clap!! clap!! \n",
      "140\n",
      "141\n",
      "142\n",
      "clap!! \n",
      "144\n",
      "145\n",
      "clap!! \n",
      "147\n",
      "148\n",
      "clap!! \n",
      "150\n",
      "151\n",
      "152\n",
      "clap!! \n",
      "154\n",
      "155\n",
      "clap!! \n",
      "157\n",
      "158\n",
      "clap!! \n",
      "clap!! \n",
      "clap!! \n",
      "clap!! \n",
      "clap!! clap!! \n",
      "clap!! \n",
      "clap!! \n",
      "clap!! clap!! \n",
      "clap!! \n",
      "clap!! \n",
      "clap!! clap!! \n",
      "170\n",
      "171\n",
      "172\n",
      "clap!! \n",
      "174\n",
      "175\n",
      "clap!! \n",
      "177\n",
      "178\n",
      "clap!! \n",
      "180\n",
      "181\n",
      "182\n",
      "clap!! \n",
      "184\n",
      "185\n",
      "clap!! \n",
      "187\n",
      "188\n",
      "clap!! \n",
      "clap!! \n",
      "clap!! \n",
      "clap!! \n",
      "clap!! clap!! \n",
      "clap!! \n",
      "clap!! \n",
      "clap!! clap!! \n",
      "clap!! \n",
      "clap!! \n",
      "clap!! clap!! \n",
      "200\n",
      "201\n",
      "202\n",
      "clap!! \n",
      "204\n",
      "205\n",
      "clap!! \n",
      "207\n",
      "208\n",
      "clap!! \n",
      "210\n",
      "211\n",
      "212\n",
      "clap!! \n",
      "214\n",
      "215\n",
      "clap!! \n",
      "217\n",
      "218\n",
      "clap!! \n",
      "220\n",
      "221\n",
      "222\n",
      "clap!! \n",
      "224\n",
      "225\n",
      "clap!! \n",
      "227\n",
      "228\n",
      "clap!! \n",
      "clap!! \n",
      "clap!! \n",
      "clap!! \n",
      "clap!! clap!! \n",
      "clap!! \n",
      "clap!! \n",
      "clap!! clap!! \n",
      "clap!! \n",
      "clap!! \n",
      "clap!! clap!! \n",
      "240\n",
      "241\n",
      "242\n",
      "clap!! \n",
      "244\n",
      "245\n",
      "clap!! \n",
      "247\n",
      "248\n",
      "clap!! \n",
      "250\n",
      "251\n",
      "252\n",
      "clap!! \n",
      "254\n",
      "255\n",
      "clap!! \n",
      "257\n",
      "258\n",
      "clap!! \n",
      "clap!! \n",
      "clap!! \n",
      "clap!! \n",
      "clap!! clap!! \n",
      "clap!! \n",
      "clap!! \n",
      "clap!! clap!! \n",
      "clap!! \n",
      "clap!! \n",
      "clap!! clap!! \n",
      "270\n",
      "271\n",
      "272\n",
      "clap!! \n",
      "274\n",
      "275\n",
      "clap!! \n",
      "277\n",
      "278\n",
      "clap!! \n",
      "280\n",
      "281\n",
      "282\n",
      "clap!! \n",
      "284\n",
      "285\n",
      "clap!! \n",
      "287\n",
      "288\n",
      "clap!! \n",
      "clap!! \n",
      "clap!! \n",
      "clap!! \n",
      "clap!! clap!! \n",
      "clap!! \n",
      "clap!! \n",
      "clap!! clap!! \n",
      "clap!! \n",
      "clap!! \n",
      "clap!! clap!! \n",
      "clap!! \n"
     ]
    }
   ],
   "source": [
    "### 369 게임 with 함수\n",
    "\n",
    "import time\n",
    "time_interval = 0.5\n",
    "\n",
    "def howToPlay():\n",
    "    print('Shout the number sequentially from 1 to the last number')\n",
    "    # time.sleep(time_interval*2)\n",
    "    print('when 3, 6 or 9 show up, claps! instead of shouting!')\n",
    "    # time.sleep(time_interval*2)\n",
    "    print('Enjoy the game!')\n",
    "    # time.sleep(time_interval*2)\n",
    "    \n",
    "def getTheLastNum():\n",
    "    print()\n",
    "    print('Please Input the last numeber (1~5000): ')\n",
    "    lastnum = input()\n",
    "    lastnum = int(lastnum)\n",
    "    return lastnum\n",
    "\n",
    "def cal_digit(input_num):\n",
    "    quotient = input_num\n",
    "    digit = 0\n",
    "    while quotient != 0:\n",
    "        quotient = int(quotient/10)\n",
    "        digit = digit + 1\n",
    "    return digit\n",
    "\n",
    "def print_clap(input_num):\n",
    "    if input_num %3 == 0 and input_num != 0:\n",
    "        print('clap!! ', end='')\n",
    "        # time.sleep(time_interval)\n",
    "        return 1\n",
    "    return 0  \n",
    "\n",
    "howToPlay()\n",
    "lastnum = getTheLastNum()\n",
    "print('')\n",
    "num = 1\n",
    "\n",
    "while num <= lastnum:\n",
    "    digit_v = cal_digit(num)\n",
    "    flag = 0\n",
    "    div = num\n",
    "    while digit_v != 0:\n",
    "        flag = flag + print_clap(div%10)\n",
    "        div = int(div/10)\n",
    "        digit_v = digit_v - 1\n",
    "    if flag == 0:\n",
    "        print(str(num))\n",
    "    else:\n",
    "        print()\n",
    "    \n",
    "    num = num+1\n",
    "    "
   ]
  },
  {
   "cell_type": "code",
   "execution_count": 44,
   "metadata": {},
   "outputs": [
    {
     "name": "stdout",
     "output_type": "stream",
     "text": [
      "Shout the number sequentially from 1 to the last number\n",
      "when 3, 6 or 9 show up, claps! instead of shouting!\n",
      "Enjoy the game!\n",
      "\n",
      "Please Input the last numeber (1~5000): \n",
      "300\n",
      "\n",
      "1\n",
      "2\n",
      "clap!! \n",
      "4\n",
      "5\n",
      "clap!! \n",
      "7\n",
      "8\n",
      "clap!! \n",
      "10\n",
      "11\n",
      "12\n",
      "clap!! \n",
      "14\n",
      "15\n",
      "clap!! \n",
      "17\n",
      "18\n",
      "clap!! \n",
      "20\n",
      "21\n",
      "22\n",
      "clap!! \n",
      "24\n",
      "25\n",
      "clap!! \n",
      "27\n",
      "28\n",
      "clap!! \n",
      "clap!! \n",
      "clap!! \n",
      "clap!! \n",
      "clap!! clap!! \n",
      "clap!! \n",
      "clap!! \n",
      "clap!! clap!! \n",
      "clap!! \n",
      "clap!! \n",
      "clap!! clap!! \n",
      "40\n",
      "41\n",
      "42\n",
      "clap!! \n",
      "44\n",
      "45\n",
      "clap!! \n",
      "47\n",
      "48\n",
      "clap!! \n",
      "50\n",
      "51\n",
      "52\n",
      "clap!! \n",
      "54\n",
      "55\n",
      "clap!! \n",
      "57\n",
      "58\n",
      "clap!! \n",
      "clap!! \n",
      "clap!! \n",
      "clap!! \n",
      "clap!! clap!! \n",
      "clap!! \n",
      "clap!! \n",
      "clap!! clap!! \n",
      "clap!! \n",
      "clap!! \n",
      "clap!! clap!! \n",
      "70\n",
      "71\n",
      "72\n",
      "clap!! \n",
      "74\n",
      "75\n",
      "clap!! \n",
      "77\n",
      "78\n",
      "clap!! \n",
      "80\n",
      "81\n",
      "82\n",
      "clap!! \n",
      "84\n",
      "85\n",
      "clap!! \n",
      "87\n",
      "88\n",
      "clap!! \n",
      "clap!! \n",
      "clap!! \n",
      "clap!! \n",
      "clap!! clap!! \n",
      "clap!! \n",
      "clap!! \n",
      "clap!! clap!! \n",
      "clap!! \n",
      "clap!! \n",
      "clap!! clap!! \n",
      "100\n",
      "101\n",
      "102\n",
      "clap!! \n",
      "104\n",
      "105\n",
      "clap!! \n",
      "107\n",
      "108\n",
      "clap!! \n",
      "110\n",
      "111\n",
      "112\n",
      "clap!! \n",
      "114\n",
      "115\n",
      "clap!! \n",
      "117\n",
      "118\n",
      "clap!! \n",
      "120\n",
      "121\n",
      "122\n",
      "clap!! \n",
      "124\n",
      "125\n",
      "clap!! \n",
      "127\n",
      "128\n",
      "clap!! \n",
      "clap!! \n",
      "clap!! \n",
      "clap!! \n",
      "clap!! clap!! \n",
      "clap!! \n",
      "clap!! \n",
      "clap!! clap!! \n",
      "clap!! \n",
      "clap!! \n",
      "clap!! clap!! \n",
      "140\n",
      "141\n",
      "142\n",
      "clap!! \n",
      "144\n",
      "145\n",
      "clap!! \n",
      "147\n",
      "148\n",
      "clap!! \n",
      "150\n",
      "151\n",
      "152\n",
      "clap!! \n",
      "154\n",
      "155\n",
      "clap!! \n",
      "157\n",
      "158\n",
      "clap!! \n",
      "clap!! \n",
      "clap!! \n",
      "clap!! \n",
      "clap!! clap!! \n",
      "clap!! \n",
      "clap!! \n",
      "clap!! clap!! \n",
      "clap!! \n",
      "clap!! \n",
      "clap!! clap!! \n",
      "170\n",
      "171\n",
      "172\n",
      "clap!! \n",
      "174\n",
      "175\n",
      "clap!! \n",
      "177\n",
      "178\n",
      "clap!! \n",
      "180\n",
      "181\n",
      "182\n",
      "clap!! \n",
      "184\n",
      "185\n",
      "clap!! \n",
      "187\n",
      "188\n",
      "clap!! \n",
      "clap!! \n",
      "clap!! \n",
      "clap!! \n",
      "clap!! clap!! \n",
      "clap!! \n",
      "clap!! \n",
      "clap!! clap!! \n",
      "clap!! \n",
      "clap!! \n",
      "clap!! clap!! \n",
      "200\n",
      "201\n",
      "202\n",
      "clap!! \n",
      "204\n",
      "205\n",
      "clap!! \n",
      "207\n",
      "208\n",
      "clap!! \n",
      "210\n",
      "211\n",
      "212\n",
      "clap!! \n",
      "214\n",
      "215\n",
      "clap!! \n",
      "217\n",
      "218\n",
      "clap!! \n",
      "220\n",
      "221\n",
      "222\n",
      "clap!! \n",
      "224\n",
      "225\n",
      "clap!! \n",
      "227\n",
      "228\n",
      "clap!! \n",
      "clap!! \n",
      "clap!! \n",
      "clap!! \n",
      "clap!! clap!! \n",
      "clap!! \n",
      "clap!! \n",
      "clap!! clap!! \n",
      "clap!! \n",
      "clap!! \n",
      "clap!! clap!! \n",
      "240\n",
      "241\n",
      "242\n",
      "clap!! \n",
      "244\n",
      "245\n",
      "clap!! \n",
      "247\n",
      "248\n",
      "clap!! \n",
      "250\n",
      "251\n",
      "252\n",
      "clap!! \n",
      "254\n",
      "255\n",
      "clap!! \n",
      "257\n",
      "258\n",
      "clap!! \n",
      "clap!! \n",
      "clap!! \n",
      "clap!! \n",
      "clap!! clap!! \n",
      "clap!! \n",
      "clap!! \n",
      "clap!! clap!! \n",
      "clap!! \n",
      "clap!! \n",
      "clap!! clap!! \n",
      "270\n",
      "271\n",
      "272\n",
      "clap!! \n",
      "274\n",
      "275\n",
      "clap!! \n",
      "277\n",
      "278\n",
      "clap!! \n",
      "280\n",
      "281\n",
      "282\n",
      "clap!! \n",
      "284\n",
      "285\n",
      "clap!! \n",
      "287\n",
      "288\n",
      "clap!! \n",
      "clap!! \n",
      "clap!! \n",
      "clap!! \n",
      "clap!! clap!! \n",
      "clap!! \n",
      "clap!! \n",
      "clap!! clap!! \n",
      "clap!! \n",
      "clap!! \n",
      "clap!! clap!! \n",
      "clap!! \n"
     ]
    }
   ],
   "source": [
    "### 369 게임 with 함수\n",
    "\n",
    "import time\n",
    "time_interval = 0.5\n",
    "\n",
    "def howToPlay():\n",
    "    print('Shout the number sequentially from 1 to the last number')\n",
    "    # time.sleep(time_interval*2)\n",
    "    print('when 3, 6 or 9 show up, claps! instead of shouting!')\n",
    "    # time.sleep(time_interval*2)\n",
    "    print('Enjoy the game!')\n",
    "    # time.sleep(time_interval*2)\n",
    "    \n",
    "def getTheLastNum():\n",
    "    print()\n",
    "    print('Please Input the last numeber (1~5000): ')\n",
    "    lastnum = input()\n",
    "    lastnum = int(lastnum)\n",
    "    return lastnum\n",
    "\n",
    "def cal_digit(input_num):\n",
    "    quotient = input_num\n",
    "    digit = 0\n",
    "    while quotient != 0:\n",
    "        quotient = int(quotient/10)\n",
    "        digit = digit + 1\n",
    "    return digit\n",
    "\n",
    "def print_clap(input_num):\n",
    "    if input_num %3 == 0 and input_num != 0:\n",
    "        print('clap!! ', end='')\n",
    "        # time.sleep(time_interval)\n",
    "        return 1\n",
    "    return 0\n",
    "\n",
    "def main(input_num):\n",
    "    num = 1\n",
    "    while num <= input_num:\n",
    "        digit_v = cal_digit(num)\n",
    "        flag = 0\n",
    "        div = num\n",
    "        while digit_v != 0:\n",
    "            flag = flag + print_clap(div%10)\n",
    "            div = int(div/10)\n",
    "            digit_v = digit_v - 1\n",
    "        if flag == 0:\n",
    "            print(str(num))\n",
    "        else:\n",
    "            print()\n",
    "        \n",
    "        num = num+1\n",
    "        \n",
    "\n",
    "howToPlay()\n",
    "lastnum = getTheLastNum()\n",
    "print('')\n",
    "main(lastnum)\n",
    "    "
   ]
  }
 ],
 "metadata": {
  "kernelspec": {
   "display_name": "Python 3",
   "language": "python",
   "name": "python3"
  },
  "language_info": {
   "codemirror_mode": {
    "name": "ipython",
    "version": 3
   },
   "file_extension": ".py",
   "mimetype": "text/x-python",
   "name": "python",
   "nbconvert_exporter": "python",
   "pygments_lexer": "ipython3",
   "version": "3.8.5"
  }
 },
 "nbformat": 4,
 "nbformat_minor": 4
}
