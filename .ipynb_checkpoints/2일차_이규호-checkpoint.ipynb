{
 "cells": [
  {
   "cell_type": "markdown",
   "metadata": {},
   "source": [
    "# 12월 23일 파이썬 프로그램이 2일차\n"
   ]
  },
  {
   "cell_type": "code",
   "execution_count": 1,
   "metadata": {},
   "outputs": [
    {
     "data": {
      "text/plain": [
       "1"
      ]
     },
     "execution_count": 1,
     "metadata": {},
     "output_type": "execute_result"
    }
   ],
   "source": [
    "## 연산자 내용 확인\n",
    "## % 모듈러 연산, 나눗셈 후 나머지값을 반환\n",
    "\n",
    "100% 3"
   ]
  },
  {
   "cell_type": "code",
   "execution_count": 2,
   "metadata": {},
   "outputs": [],
   "source": [
    "a = 100\n",
    "b = 50\n",
    "c = 50"
   ]
  },
  {
   "cell_type": "code",
   "execution_count": 3,
   "metadata": {},
   "outputs": [
    {
     "data": {
      "text/plain": [
       "True"
      ]
     },
     "execution_count": 3,
     "metadata": {},
     "output_type": "execute_result"
    }
   ],
   "source": [
    "a > b"
   ]
  },
  {
   "cell_type": "code",
   "execution_count": 4,
   "metadata": {},
   "outputs": [
    {
     "data": {
      "text/plain": [
       "False"
      ]
     },
     "execution_count": 4,
     "metadata": {},
     "output_type": "execute_result"
    }
   ],
   "source": [
    "b > c"
   ]
  },
  {
   "cell_type": "code",
   "execution_count": 5,
   "metadata": {},
   "outputs": [
    {
     "data": {
      "text/plain": [
       "False"
      ]
     },
     "execution_count": 5,
     "metadata": {},
     "output_type": "execute_result"
    }
   ],
   "source": [
    "## and or not 논리 연산자\n",
    "## 교집합, 두 명제가 모두 T 일때, 결과도 T\n",
    "(a > b) and (b > c)\n"
   ]
  },
  {
   "cell_type": "code",
   "execution_count": 6,
   "metadata": {},
   "outputs": [
    {
     "data": {
      "text/plain": [
       "True"
      ]
     },
     "execution_count": 6,
     "metadata": {},
     "output_type": "execute_result"
    }
   ],
   "source": [
    "(a > b) or ( b > c )"
   ]
  },
  {
   "cell_type": "code",
   "execution_count": 7,
   "metadata": {},
   "outputs": [],
   "source": [
    "# 모듈 불러오기\n",
    "import random"
   ]
  },
  {
   "cell_type": "code",
   "execution_count": 8,
   "metadata": {},
   "outputs": [
    {
     "data": {
      "text/plain": [
       "1"
      ]
     },
     "execution_count": 8,
     "metadata": {},
     "output_type": "execute_result"
    }
   ],
   "source": [
    "# random. + Tab\n",
    "random.randint(1,10)"
   ]
  },
  {
   "cell_type": "code",
   "execution_count": 9,
   "metadata": {},
   "outputs": [],
   "source": [
    "import time"
   ]
  },
  {
   "cell_type": "code",
   "execution_count": 10,
   "metadata": {},
   "outputs": [
    {
     "name": "stdout",
     "output_type": "stream",
     "text": [
      "10\n",
      "9\n",
      "8\n",
      "7\n",
      "6\n",
      "5\n",
      "4\n",
      "3\n",
      "2\n",
      "1\n"
     ]
    }
   ],
   "source": [
    "# countdown\n",
    "cnt = 10\n",
    "while cnt > 0:\n",
    "    print (cnt)\n",
    "    time.sleep(10/cnt)\n",
    "    cnt = cnt - 1"
   ]
  },
  {
   "cell_type": "code",
   "execution_count": 11,
   "metadata": {},
   "outputs": [
    {
     "name": "stdout",
     "output_type": "stream",
     "text": [
      "9 4 8 6\n"
     ]
    }
   ],
   "source": [
    "import random \n",
    "\n",
    "num1 = random.randint(1,10)\n",
    "\n",
    "while True:\n",
    "    num2 = random.randint(1,10)\n",
    "    if num1 != num2:\n",
    "        num3 = random.randint(1,10)\n",
    "        if (num1 != num3) and (num2 !=num3):\n",
    "            num4 = random.randint(1,10)\n",
    "            if (num1 != num4) and (num2 != num4) and (num3 != num4):\n",
    "                break\n",
    "\n",
    "print (num1, num2, num3, num4)\n"
   ]
  },
  {
   "cell_type": "code",
   "execution_count": 12,
   "metadata": {},
   "outputs": [
    {
     "name": "stdout",
     "output_type": "stream",
     "text": [
      "자기야~ 이번 달에 내 생일인데 언제일까? (진지)\n",
      "5번안에 맞추면 용서해 주겠다.\n",
      "대신 추측한 날짜가 생일보다 빠른지 늦은지 알려줄께\n",
      "자 맞혀봐라.3\n",
      "내 생일보다 빨라\n",
      "자 맞혀봐라.5\n",
      "내 생일보다 빨라\n",
      "자 맞혀봐라.7\n",
      "내 생일보다 빨라\n",
      "자 맞혀봐라.1\n",
      "내 생일보다 빨라\n",
      "자 맞혀봐라.2\n",
      "내 생일보다 빨라\n",
      "몇번 안남았다...\n",
      "자 맞혀봐라.30\n",
      "내 생일보다 느려\n",
      "몇번 안남았다...\n",
      "5번만에 못 맞히다니..ㅠㅠ\n"
     ]
    }
   ],
   "source": [
    "## Guess my Birth day\n",
    "import random\n",
    "print ('자기야~ 이번 달에 내 생일인데 언제일까? (진지)')\n",
    "print ('5번안에 맞추면 용서해 주겠다.')\n",
    "print ('대신 추측한 날짜가 생일보다 빠른지 늦은지 알려줄께')\n",
    "\n",
    "birthday = random.randint(1,31)\n",
    "cnt = 0\n",
    "while cnt < 6:\n",
    "    guessday = int(input('자 맞혀봐라.'))\n",
    "    \n",
    "    if guessday == birthday:\n",
    "        print ('오! 역시..내 생일 알고 있었구나.')\n",
    "        break\n",
    "    elif guessday > birthday:\n",
    "        print ('내 생일보다 느려')\n",
    "    else:\n",
    "        print ('내 생일보다 빨라')\n",
    "    \n",
    "    cnt = cnt + 1\n",
    "    \n",
    "    if (cnt > 4):\n",
    "        print('몇번 안남았다...')\n",
    "\n",
    "if (cnt >= 6):\n",
    "    print ('5번만에 못 맞히다니..ㅠㅠ')"
   ]
  },
  {
   "cell_type": "code",
   "execution_count": 13,
   "metadata": {},
   "outputs": [
    {
     "name": "stdout",
     "output_type": "stream",
     "text": [
      "자판기-다파라\n",
      "자판기에 얼마를 넣을지 입력하세요 (500원이상)   : 500\n",
      "---------------------------------------------\n",
      "음료를 선택하세요. 현재 잔돈은  500 원 입니다.\n",
      "(1)데~자~와~~(500원), (2)핫!식~스!(800원), (3)단짠커피(700원) (4)잔돈받기\n",
      "1\n",
      "덜커덩~ 데자와\n",
      " 0 원을 돌려받았다.\n"
     ]
    }
   ],
   "source": [
    "print ('자판기-다파라')\n",
    "can = 0\n",
    "deposit = int(input('자판기에 얼마를 넣을지 입력하세요 (500원이상)   : '))\n",
    "\n",
    "while deposit >= 500 :\n",
    "    print ('---------------------------------------------')\n",
    "    print ('음료를 선택하세요. 현재 잔돈은 ',  deposit, '원 입니다.')\n",
    "    print ('(1)데~자~와~~(500원), (2)핫!식~스!(800원), (3)단짠커피(700원) (4)잔돈받기')\n",
    "    \n",
    "    ## 음료수 선택\n",
    "    can = int(input( ))\n",
    "    if can == 1:\n",
    "        fares = 500\n",
    "    if can == 2:\n",
    "        fares = 800\n",
    "    if can == 3:\n",
    "        fares = 700            \n",
    "    if can == 4:\n",
    "        fares = deposit\n",
    "        break\n",
    "    \n",
    "    if deposit < fares:\n",
    "        print ('잔돈이 부족합니다.')\n",
    "        fares = 0\n",
    "    # deposit >= 500\n",
    "    elif fares == 500:\n",
    "        print ('덜커덩~ 데자와')\n",
    "    elif fares == 800:\n",
    "        print ('덜커덩~ 핫!식스')\n",
    "    elif fares == 700:\n",
    "        print ('덜커덩~ 단짠~')\n",
    "\n",
    "    deposit = deposit - fares\n",
    "\n",
    "if deposit >= 0:    \n",
    "    print ('딸그락~ '*int(deposit/100), deposit, '원을 돌려받았다.')"
   ]
  },
  {
   "cell_type": "code",
   "execution_count": 14,
   "metadata": {},
   "outputs": [],
   "source": [
    "colorList = ['red', 'blue', 'green', 'white', 'black']"
   ]
  },
  {
   "cell_type": "code",
   "execution_count": 15,
   "metadata": {},
   "outputs": [
    {
     "data": {
      "text/plain": [
       "'white'"
      ]
     },
     "execution_count": 15,
     "metadata": {},
     "output_type": "execute_result"
    }
   ],
   "source": [
    "colorList[3]"
   ]
  },
  {
   "cell_type": "code",
   "execution_count": 16,
   "metadata": {},
   "outputs": [
    {
     "data": {
      "text/plain": [
       "'black'"
      ]
     },
     "execution_count": 16,
     "metadata": {},
     "output_type": "execute_result"
    }
   ],
   "source": [
    "colorList[4]"
   ]
  },
  {
   "cell_type": "code",
   "execution_count": 17,
   "metadata": {},
   "outputs": [
    {
     "data": {
      "text/plain": [
       "['red', 'blue', 'green', 'white', 'black']"
      ]
     },
     "execution_count": 17,
     "metadata": {},
     "output_type": "execute_result"
    }
   ],
   "source": [
    "colorList"
   ]
  },
  {
   "cell_type": "code",
   "execution_count": 18,
   "metadata": {},
   "outputs": [],
   "source": [
    "colorList[3] ='pink'"
   ]
  },
  {
   "cell_type": "code",
   "execution_count": 19,
   "metadata": {},
   "outputs": [
    {
     "data": {
      "text/plain": [
       "['red', 'blue', 'green', 'pink', 'black']"
      ]
     },
     "execution_count": 19,
     "metadata": {},
     "output_type": "execute_result"
    }
   ],
   "source": [
    "colorList"
   ]
  },
  {
   "cell_type": "code",
   "execution_count": 20,
   "metadata": {},
   "outputs": [
    {
     "data": {
      "text/plain": [
       "['blue', 'green']"
      ]
     },
     "execution_count": 20,
     "metadata": {},
     "output_type": "execute_result"
    }
   ],
   "source": [
    "colorList[1:3]"
   ]
  },
  {
   "cell_type": "code",
   "execution_count": 21,
   "metadata": {},
   "outputs": [
    {
     "data": {
      "text/plain": [
       "['pink']"
      ]
     },
     "execution_count": 21,
     "metadata": {},
     "output_type": "execute_result"
    }
   ],
   "source": [
    "colorList[3:4]"
   ]
  },
  {
   "cell_type": "code",
   "execution_count": 22,
   "metadata": {},
   "outputs": [
    {
     "data": {
      "text/plain": [
       "['pink', 'black']"
      ]
     },
     "execution_count": 22,
     "metadata": {},
     "output_type": "execute_result"
    }
   ],
   "source": [
    "colorList[3:5]"
   ]
  },
  {
   "cell_type": "code",
   "execution_count": 23,
   "metadata": {},
   "outputs": [
    {
     "data": {
      "text/plain": [
       "['red', 'blue', 'pink', 'black']"
      ]
     },
     "execution_count": 23,
     "metadata": {},
     "output_type": "execute_result"
    }
   ],
   "source": [
    "del colorList[2]\n",
    "colorList"
   ]
  },
  {
   "cell_type": "code",
   "execution_count": null,
   "metadata": {},
   "outputs": [],
   "source": []
  },
  {
   "cell_type": "code",
   "execution_count": 24,
   "metadata": {},
   "outputs": [
    {
     "data": {
      "text/plain": [
       "[]"
      ]
     },
     "execution_count": 24,
     "metadata": {},
     "output_type": "execute_result"
    }
   ],
   "source": [
    "colorList[0:0]"
   ]
  },
  {
   "cell_type": "code",
   "execution_count": 25,
   "metadata": {},
   "outputs": [
    {
     "data": {
      "text/plain": [
       "['red', 'blue', 'pink', 'black']"
      ]
     },
     "execution_count": 25,
     "metadata": {},
     "output_type": "execute_result"
    }
   ],
   "source": [
    "colorList"
   ]
  },
  {
   "cell_type": "code",
   "execution_count": 26,
   "metadata": {},
   "outputs": [
    {
     "data": {
      "text/plain": [
       "'yellow'"
      ]
     },
     "execution_count": 26,
     "metadata": {},
     "output_type": "execute_result"
    }
   ],
   "source": [
    "colorList.append('yellow')\n",
    "colorList[4]"
   ]
  },
  {
   "cell_type": "code",
   "execution_count": 27,
   "metadata": {},
   "outputs": [
    {
     "data": {
      "text/plain": [
       "['red', 'blue', 'pink', 'black', 'yellow']"
      ]
     },
     "execution_count": 27,
     "metadata": {},
     "output_type": "execute_result"
    }
   ],
   "source": [
    "colorList"
   ]
  },
  {
   "cell_type": "code",
   "execution_count": 28,
   "metadata": {},
   "outputs": [],
   "source": [
    "today = 'December23rd'.upper()"
   ]
  },
  {
   "cell_type": "code",
   "execution_count": 29,
   "metadata": {},
   "outputs": [
    {
     "data": {
      "text/plain": [
       "'DECEMBER23RD'"
      ]
     },
     "execution_count": 29,
     "metadata": {},
     "output_type": "execute_result"
    }
   ],
   "source": [
    "today"
   ]
  },
  {
   "cell_type": "code",
   "execution_count": 30,
   "metadata": {},
   "outputs": [
    {
     "data": {
      "text/plain": [
       "'december23rd'"
      ]
     },
     "execution_count": 30,
     "metadata": {},
     "output_type": "execute_result"
    }
   ],
   "source": [
    "today.lower()"
   ]
  },
  {
   "cell_type": "code",
   "execution_count": 31,
   "metadata": {},
   "outputs": [
    {
     "data": {
      "text/plain": [
       "'DECEMBER23RD'"
      ]
     },
     "execution_count": 31,
     "metadata": {},
     "output_type": "execute_result"
    }
   ],
   "source": [
    "today.lower().upper()"
   ]
  },
  {
   "cell_type": "code",
   "execution_count": 32,
   "metadata": {},
   "outputs": [
    {
     "data": {
      "text/plain": [
       "['red', 'blue', 'pink', 'black', 'yellow']"
      ]
     },
     "execution_count": 32,
     "metadata": {},
     "output_type": "execute_result"
    }
   ],
   "source": [
    "colorList"
   ]
  },
  {
   "cell_type": "code",
   "execution_count": 33,
   "metadata": {},
   "outputs": [
    {
     "data": {
      "text/plain": [
       "['red', 'blue', 'pink', 'black', 'yellow']"
      ]
     },
     "execution_count": 33,
     "metadata": {},
     "output_type": "execute_result"
    }
   ],
   "source": [
    "colorList"
   ]
  },
  {
   "cell_type": "code",
   "execution_count": 34,
   "metadata": {},
   "outputs": [],
   "source": [
    "colorList.reverse()"
   ]
  },
  {
   "cell_type": "code",
   "execution_count": 35,
   "metadata": {},
   "outputs": [
    {
     "data": {
      "text/plain": [
       "['yellow', 'black', 'pink', 'blue', 'red']"
      ]
     },
     "execution_count": 35,
     "metadata": {},
     "output_type": "execute_result"
    }
   ],
   "source": [
    "colorList"
   ]
  },
  {
   "cell_type": "code",
   "execution_count": 36,
   "metadata": {},
   "outputs": [],
   "source": [
    "test ='동해물과 백두산이 마르고 닳도록 하느님이 보우하b사 우리나라 만세'"
   ]
  },
  {
   "cell_type": "code",
   "execution_count": 37,
   "metadata": {},
   "outputs": [],
   "source": [
    "strSplt = test.split()"
   ]
  },
  {
   "cell_type": "code",
   "execution_count": 38,
   "metadata": {},
   "outputs": [
    {
     "data": {
      "text/plain": [
       "['동해물과', '백두산이', '마르고', '닳도록', '하느님이', '보우하b사', '우리나라', '만세']"
      ]
     },
     "execution_count": 38,
     "metadata": {},
     "output_type": "execute_result"
    }
   ],
   "source": [
    "strSplt"
   ]
  },
  {
   "cell_type": "code",
   "execution_count": 39,
   "metadata": {},
   "outputs": [],
   "source": [
    "test = 'white, black, pink, area, grey, red, black, pepper'"
   ]
  },
  {
   "cell_type": "code",
   "execution_count": 40,
   "metadata": {},
   "outputs": [],
   "source": [
    "test2=test.split(',')"
   ]
  },
  {
   "cell_type": "code",
   "execution_count": 41,
   "metadata": {},
   "outputs": [
    {
     "data": {
      "text/plain": [
       "7"
      ]
     },
     "execution_count": 41,
     "metadata": {},
     "output_type": "execute_result"
    }
   ],
   "source": [
    "len(test2)-1"
   ]
  },
  {
   "cell_type": "code",
   "execution_count": 42,
   "metadata": {},
   "outputs": [
    {
     "data": {
      "text/plain": [
       "['white', ' black', ' pink', ' area', ' grey', ' red', ' black', ' pepper']"
      ]
     },
     "execution_count": 42,
     "metadata": {},
     "output_type": "execute_result"
    }
   ],
   "source": [
    "test2"
   ]
  },
  {
   "cell_type": "code",
   "execution_count": 43,
   "metadata": {},
   "outputs": [
    {
     "data": {
      "text/plain": [
       "['white',\n",
       " ' black',\n",
       " ' pink',\n",
       " ' area',\n",
       " ' grey',\n",
       " ' red',\n",
       " ' black',\n",
       " ' pepper',\n",
       " ['yellow', 'black', 'pink', 'blue', 'red']]"
      ]
     },
     "execution_count": 43,
     "metadata": {},
     "output_type": "execute_result"
    }
   ],
   "source": [
    "test2.append(colorList)\n",
    "test2"
   ]
  },
  {
   "cell_type": "code",
   "execution_count": 44,
   "metadata": {},
   "outputs": [
    {
     "name": "stdout",
     "output_type": "stream",
     "text": [
      "오늘의 추천 패션 1번째 입니다.\n",
      "흰 블레이저\n",
      "흰 치랭\n",
      "네이비 머플러\n",
      "\n",
      "오늘의 추천 패션 2번째 입니다.\n",
      "청 롱패\n",
      "네이비 치랭\n",
      "흰 마스크\n",
      "\n",
      "오늘의 추천 패션 3번째 입니다.\n",
      "청 후디\n",
      "핑크 반바지\n",
      "청 귀걸이\n",
      "\n"
     ]
    }
   ],
   "source": [
    "# Fashion Terrerists\n",
    "import random\n",
    "color = ['검정', '핑크', '네이비', '청', '흰']\n",
    "up = ['쟈켓', '블레이저', '코트', '후디', '롱패']\n",
    "down =['바지', '반바지', '치마', '치랭', '레깅스']\n",
    "acc = ['반다나', '패도라', '머플러', '마스크', '귀걸이', '타투']\n",
    "cnt = 0\n",
    "while cnt< 3:\n",
    "    cnt = cnt +1\n",
    "    print ('오늘의 추천 패션 '+ str(cnt)+'번째 입니다.')\n",
    "    print (color[random.randint(1,len(color)-1)], up[random.randint(1,len(color)-1)])\n",
    "    print (color[random.randint(1,len(color)-1)], down[random.randint(1,len(color)-1)])\n",
    "    print (color[random.randint(1,len(color)-1)], acc[random.randint(1,len(color)-1)])\n",
    "    print ()"
   ]
  },
  {
   "cell_type": "code",
   "execution_count": 45,
   "metadata": {},
   "outputs": [
    {
     "name": "stdout",
     "output_type": "stream",
     "text": [
      " 동해물과 백두산이 마르고 닳도고\n",
      "하느님이 보우하사 우리나라 만세\n",
      "무궁화 삼천리\n",
      "\n"
     ]
    }
   ],
   "source": [
    "print (''' 동해물과 백두산이 마르고 닳도고\n",
    "하느님이 보우하사 우리나라 만세\n",
    "무궁화 삼천리\n",
    "''')"
   ]
  },
  {
   "cell_type": "code",
   "execution_count": 46,
   "metadata": {},
   "outputs": [
    {
     "name": "stdout",
     "output_type": "stream",
     "text": [
      "\n",
      "   ___ ___ \n",
      "   (o) (o)\n",
      "  {   |   }\n",
      "    _____\n",
      "    |   |\n",
      "    \n",
      "    ^----^\n",
      "   {(0)(0)}\n",
      "   ( =ㅁ= )\n",
      "  (/__  __\\)\n",
      "    ( | | )\n",
      "    - \"\"-\n",
      "     \n",
      "\n",
      "\n"
     ]
    }
   ],
   "source": [
    "print ('''\n",
    "   ___ ___ \n",
    "   (o) (o)\n",
    "  {   |   }\n",
    "    _____\n",
    "    |   |\n",
    "    \n",
    "    ^----^\n",
    "   {(0)(0)}\n",
    "   ( =ㅁ= )\n",
    "  (/__  __\\\\)\n",
    "    ( | | )\n",
    "    - \"\"-\n",
    "     \n",
    "\n",
    "''')"
   ]
  },
  {
   "cell_type": "code",
   "execution_count": 49,
   "metadata": {},
   "outputs": [
    {
     "data": {
      "text/plain": [
       "[1,\n",
       " 2,\n",
       " 3,\n",
       " 4,\n",
       " 5,\n",
       " 6,\n",
       " 7,\n",
       " 8,\n",
       " 9,\n",
       " 10,\n",
       " 11,\n",
       " 12,\n",
       " 13,\n",
       " 14,\n",
       " 15,\n",
       " 16,\n",
       " 17,\n",
       " 18,\n",
       " 19,\n",
       " 20,\n",
       " 21,\n",
       " 22,\n",
       " 23,\n",
       " 24,\n",
       " 25,\n",
       " 26,\n",
       " 27,\n",
       " 28,\n",
       " 29,\n",
       " 30,\n",
       " 31,\n",
       " 32,\n",
       " 33,\n",
       " 34,\n",
       " 35,\n",
       " 36,\n",
       " 37,\n",
       " 38,\n",
       " 39,\n",
       " 40,\n",
       " 41,\n",
       " 42,\n",
       " 43,\n",
       " 44,\n",
       " 45]"
      ]
     },
     "execution_count": 49,
     "metadata": {},
     "output_type": "execute_result"
    }
   ],
   "source": [
    "## 중복없는 로또 번호 생성하기\n",
    "import random \n",
    "\n",
    "listA = list(range(1,46))\n",
    "listA\n"
   ]
  },
  {
   "cell_type": "code",
   "execution_count": 51,
   "metadata": {
    "scrolled": true
   },
   "outputs": [
    {
     "data": {
      "text/plain": [
       "[15,\n",
       " 31,\n",
       " 5,\n",
       " 24,\n",
       " 27,\n",
       " 12,\n",
       " 10,\n",
       " 42,\n",
       " 16,\n",
       " 4,\n",
       " 37,\n",
       " 19,\n",
       " 22,\n",
       " 34,\n",
       " 32,\n",
       " 14,\n",
       " 43,\n",
       " 7,\n",
       " 29,\n",
       " 2,\n",
       " 35,\n",
       " 11,\n",
       " 41,\n",
       " 9,\n",
       " 26,\n",
       " 18,\n",
       " 3,\n",
       " 17,\n",
       " 13,\n",
       " 30,\n",
       " 25,\n",
       " 20,\n",
       " 39,\n",
       " 1,\n",
       " 8,\n",
       " 28,\n",
       " 21,\n",
       " 33,\n",
       " 6,\n",
       " 44,\n",
       " 38,\n",
       " 45,\n",
       " 36,\n",
       " 23,\n",
       " 40]"
      ]
     },
     "execution_count": 51,
     "metadata": {},
     "output_type": "execute_result"
    }
   ],
   "source": [
    "random.shuffle(listA)\n",
    "listA\n"
   ]
  },
  {
   "cell_type": "code",
   "execution_count": 52,
   "metadata": {},
   "outputs": [
    {
     "data": {
      "text/plain": [
       "[15, 31, 5, 24, 27, 12]"
      ]
     },
     "execution_count": 52,
     "metadata": {},
     "output_type": "execute_result"
    }
   ],
   "source": [
    "listA[0:6]"
   ]
  },
  {
   "cell_type": "code",
   "execution_count": null,
   "metadata": {},
   "outputs": [],
   "source": []
  },
  {
   "cell_type": "code",
   "execution_count": 54,
   "metadata": {},
   "outputs": [
    {
     "name": "stdout",
     "output_type": "stream",
     "text": [
      "15\n",
      "30\n"
     ]
    }
   ],
   "source": [
    "## 함수 예\n",
    "## 숫자를 2개 전달받아서 더하는 함수\n",
    "\n",
    "# printHello5times()\n",
    "\n",
    "def addTwoNumbers(a, b):\n",
    "    summ = a + b\n",
    "    print (summ)\n",
    "    \n",
    "def printHello5times():\n",
    "    print('Hello'*5)\n",
    "    \n",
    "addTwoNumbers(10, 5)\n",
    "addTwoNumbers(10, 20)"
   ]
  },
  {
   "cell_type": "code",
   "execution_count": 55,
   "metadata": {},
   "outputs": [
    {
     "name": "stdout",
     "output_type": "stream",
     "text": [
      "Hello, Teon\n",
      "Hello, 1234\n",
      "Hello, sortㅜㅜ\n",
      "Hello - 매개변수 없음\n"
     ]
    }
   ],
   "source": [
    "def Hello1():\n",
    "    print('Hello - 매개변수 없음')\n",
    "\n",
    "def Hello2(name):\n",
    "    print ('Hello, ' + name)\n",
    "\n",
    "Hello2('Teon')\n",
    "Hello2('1234')\n",
    "Hello2('sortㅜㅜ')\n",
    "\n",
    "Hello1()"
   ]
  },
  {
   "cell_type": "code",
   "execution_count": 56,
   "metadata": {},
   "outputs": [
    {
     "name": "stdout",
     "output_type": "stream",
     "text": [
      "Good Morning!  Muji\n",
      "60\n",
      "50\n",
      "70\n"
     ]
    }
   ],
   "source": [
    "# 함수 연습 3\n",
    "name = 'Muji'\n",
    "print ('Good Morning! ', name)\n",
    "\n",
    "def calc():\n",
    "    number = 10\n",
    "    print (number*5) # 2번쨰 50\n",
    "    \n",
    "number = 12\n",
    "print (number*5) # 1번째 60\n",
    "\n",
    "number = 14\n",
    "calc()\n",
    "print(number*5) # 3번째 70"
   ]
  },
  {
   "cell_type": "code",
   "execution_count": 57,
   "metadata": {},
   "outputs": [
    {
     "name": "stdout",
     "output_type": "stream",
     "text": [
      "Running time 0.0009975433349609375\n"
     ]
    }
   ],
   "source": [
    "# .님 요청하신 선택정렬 소스코드입니다.\n",
    "# min_selection\n",
    "import time\n",
    "import random\n",
    "\n",
    "maxv = 100\n",
    "input_list = list(range(1,maxv))\n",
    "random.shuffle(input_list)\n",
    "\n",
    "j=0\n",
    "start = time.time()\n",
    "while j < len(input_list)-1:\n",
    "    smallest_idx = j          \n",
    "    i = j + 1    \n",
    "    while i < len(input_list):        \n",
    "        if input_list[smallest_idx] > input_list[i]:\n",
    "            smallest_idx = i            \n",
    "        i = i + 1\n",
    "\n",
    "    temp = input_list[j]\n",
    "    input_list[j] = input_list[smallest_idx]\n",
    "    input_list[smallest_idx] = temp\n",
    "\n",
    "    j = j + 1\n",
    "    \n",
    "print('Running time', time.time()-start)    "
   ]
  },
  {
   "cell_type": "markdown",
   "metadata": {},
   "source": [
    "# 과제: 369 함수로 만들기"
   ]
  },
  {
   "cell_type": "code",
   "execution_count": 1,
   "metadata": {
    "scrolled": true
   },
   "outputs": [
    {
     "name": "stdout",
     "output_type": "stream",
     "text": [
      "Shout the number sequentially from 1 to the last number\n",
      "when 3 or 6, 9 show up, claps! instead of shouting!\n",
      "Enjoy the game!\n",
      "\n",
      "Please input the last number (1~3000): \n",
      "33\n",
      "\n",
      "1\n",
      "2\n",
      "clap!! \n",
      "4\n",
      "5\n",
      "clap!! \n",
      "7\n",
      "8\n",
      "clap!! \n",
      "10\n",
      "11\n",
      "12\n",
      "clap!! \n",
      "14\n",
      "15\n",
      "clap!! \n",
      "17\n",
      "18\n",
      "clap!! \n",
      "20\n",
      "21\n",
      "22\n",
      "clap!! \n",
      "24\n",
      "25\n",
      "clap!! \n",
      "27\n",
      "28\n",
      "clap!! \n",
      "clap!! \n",
      "clap!! \n",
      "clap!! \n",
      "clap!! clap!! \n"
     ]
    }
   ],
   "source": [
    "# 369 game\n",
    "import time\n",
    "time_interval = 0.01\n",
    "\n",
    "def rules():\n",
    "    print ('Shout the number sequentially from 1 to the last number')\n",
    "    time.sleep(time_interval*3)\n",
    "    print ('when 3 or 6, 9 show up, claps! instead of shouting!')\n",
    "    time.sleep(time_interval*3)\n",
    "    print ('Enjoy the game!')\n",
    "    time.sleep(time_interval*3)\n",
    "\n",
    "def number():\n",
    "    print ()\n",
    "    print ('Please input the last number (1~3000): ')    \n",
    "    lastnum = input()\n",
    "    lastnum = int(lastnum)\n",
    "    return lastnum\n",
    "\n",
    "def digit_num(input_num):\n",
    "    quotient = input_num\n",
    "    digit = 0\n",
    "    while quotient != 0:\n",
    "        quotient = int(quotient/10)\n",
    "        digit = digit + 1\n",
    "    return digit\n",
    "\n",
    "def clapping(input_num):\n",
    "    if input_num%3 == 0 and input_num != 0:\n",
    "        print('clap!! ', end='')\n",
    "        return 1\n",
    "    return 0\n",
    "\n",
    "def main(input_num):\n",
    "    num = 1\n",
    "    while num <= input_num:\n",
    "        digit_ = digit_num(num)\n",
    "        flag = 0\n",
    "        div = num\n",
    "        while digit_ !=0:\n",
    "            flag = flag + clapping(div%10)\n",
    "            div = int(div/10)\n",
    "            digit_ = digit_ - 1\n",
    "        if flag == 0:\n",
    "            print(str(num))\n",
    "        else:\n",
    "            print()\n",
    "            \n",
    "        num += 1\n",
    "rules()\n",
    "lastnum = number()\n",
    "print('')\n",
    "main(lastnum)"
   ]
  },
  {
   "cell_type": "code",
   "execution_count": null,
   "metadata": {},
   "outputs": [],
   "source": []
  }
 ],
 "metadata": {
  "kernelspec": {
   "display_name": "Python 3",
   "language": "python",
   "name": "python3"
  },
  "language_info": {
   "codemirror_mode": {
    "name": "ipython",
    "version": 3
   },
   "file_extension": ".py",
   "mimetype": "text/x-python",
   "name": "python",
   "nbconvert_exporter": "python",
   "pygments_lexer": "ipython3",
   "version": "3.8.5"
  }
 },
 "nbformat": 4,
 "nbformat_minor": 2
}
