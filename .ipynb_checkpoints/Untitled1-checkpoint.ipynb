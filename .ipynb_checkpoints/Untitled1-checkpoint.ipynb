{
 "cells": [
  {
   "cell_type": "code",
   "execution_count": 1,
   "metadata": {},
   "outputs": [],
   "source": [
    "# 3,6,9 게임 만들기"
   ]
  },
  {
   "cell_type": "code",
   "execution_count": 1,
   "metadata": {
    "scrolled": false
   },
   "outputs": [
    {
     "name": "stdout",
     "output_type": "stream",
     "text": [
      "마지막 숫자를 입력하시오33\n",
      "1 -> 1\n",
      "2 -> 2\n",
      "3 -> 짝\n",
      "4 -> 4\n",
      "5 -> 5\n",
      "6 -> 짝\n",
      "7 -> 7\n",
      "8 -> 8\n",
      "9 -> 짝\n",
      "10 -> 10\n",
      "11 -> 11\n",
      "12 -> 12\n",
      "13 -> 짝\n",
      "14 -> 14\n",
      "15 -> 15\n",
      "16 -> 짝\n",
      "17 -> 17\n",
      "18 -> 18\n",
      "19 -> 짝\n",
      "20 -> 20\n",
      "21 -> 21\n",
      "22 -> 22\n",
      "23 -> 짝\n",
      "24 -> 24\n",
      "25 -> 25\n",
      "26 -> 짝\n",
      "27 -> 27\n",
      "28 -> 28\n",
      "29 -> 짝\n",
      "30 -> 짝\n",
      "31 -> 짝\n",
      "32 -> 짝\n",
      "33 -> 짝짝\n"
     ]
    }
   ],
   "source": [
    "num = input('마지막 숫자를 입력하시오')\n",
    "jj_list = ['3','6','9']\n",
    "\n",
    "for i in range(int(num)):\n",
    "    split_list = list(str(i+1))\n",
    "    jj_count = 0\n",
    "\n",
    "    for split in split_list:\n",
    "        if split in jj_list:\n",
    "            jj_count = jj_count + 1\n",
    "\n",
    "    if jj_count:\n",
    "        print(i+1, '->', '짝'*jj_count)\n",
    "    else:\n",
    "        print(i+1, '->', i+1)"
   ]
  },
  {
   "cell_type": "code",
   "execution_count": 2,
   "metadata": {},
   "outputs": [],
   "source": [
    "#for문이랑 in 같은것 안배웠으니 while, if문 가지고만 하라 하셔서 다시 해야 할듯"
   ]
  },
  {
   "cell_type": "code",
   "execution_count": 3,
   "metadata": {},
   "outputs": [],
   "source": [
    "#가위바위보 게임 만들기"
   ]
  },
  {
   "cell_type": "code",
   "execution_count": 4,
   "metadata": {},
   "outputs": [
    {
     "data": {
      "text/plain": [
       "2"
      ]
     },
     "execution_count": 4,
     "metadata": {},
     "output_type": "execute_result"
    }
   ],
   "source": [
    "import random\n",
    "random.randint(1,3)"
   ]
  },
  {
   "cell_type": "code",
   "execution_count": null,
   "metadata": {},
   "outputs": [],
   "source": [
    "# 출력을 편하게 하기 위한 문자열 구성\n",
    "sci = '가위~'\n",
    "rock = '바위~'\n",
    "pap = '보~'\n",
    "sup = '!!!!!'\n",
    "print(sci , rock , pap+sup)\n",
    "print(sci , rock , pap+sup)\n",
    "print(sci , rock , (pap+sup)*3)\n",
    "\n",
    "# while은 break를 만나기 전까지 반복되게 만들고, 이긴 경우에만 break 되게 한다.\n",
    "# 가위는 -1, 바위는 0, 보는 1로 구분하고 random.randint() 함수를 사용한다.\n",
    "while 1:\n",
    "    print('-'*50)# 판을 구분하기 위함\n",
    "    user = input('가위~ 바위~ 보 ! 중에 하나를 골라주세요~ ')\n",
    "    com = random.randint(-1, 1)\n",
    "    \n",
    "\n",
    "\n",
    "    if user == '가위':\n",
    "        u = -1\n",
    "        if com == u :# 같은 값이 나와 비긴 경우(가위)\n",
    "            print('우리 비김! 또 해! (You:', user+'~, Com:', user+'~)')# 비길경우 user의 입력을 함께 출력\n",
    "            print()\n",
    "            print(sci , rock , (pap+sup)*3)\n",
    "        elif com:# 0, 1중에 0이 아닌 값(보)\n",
    "            print('당신 이김! 컴퓨터 짐! (You:', user+'~, Com:', '보~)')\n",
    "            break\n",
    "        else:# 나머지 경우\n",
    "            print('당신 짐! 컴퓨터 이김! 또 해! (You:', user+'~, Com:', '바위~)')# if user == '가위'이므로 가위가 지는 Com값을 작성\n",
    "            print()\n",
    "            print(sci , rock , (pap+sup)*3)\n",
    "            \n",
    "    elif user == '바위':\n",
    "        u = 0\n",
    "        if com == u :# 같은 값이 나와 비긴 경우(바위)\n",
    "            print('우리 비김! 또 해! (You:', user+'~, Com:', user+'~)')# 비길경우 user의 입력을 함께 출력\n",
    "            print()\n",
    "            print(sci , rock , (pap+sup)*3)\n",
    "        elif com<0:# -1, 1중에 음수(가위)\n",
    "            print('당신 이김! 컴퓨터 짐! (You:', user+'~, Com:', '가위~)')\n",
    "            break\n",
    "        else:# 나머지 경우\n",
    "            print('당신 짐! 컴퓨터 이김! 또 해! (You:', user+'~, Com:', '보~)')\n",
    "            print()\n",
    "            print(sci , rock , (pap+sup)*3)\n",
    "                                         \n",
    "    else:\n",
    "        u = 1\n",
    "        if com == u :# 같은 값이 나와 비긴 경우(보)\n",
    "            print('우리 비김! 또 해! (You:', user+'~, Com:', user+'~)')# 비길경우 user의 입력을 함께 출력\n",
    "            print()\n",
    "            print(sci , rock , (pap+sup)*3)\n",
    "        elif com:# -1, 0중에 0이 아닌 값(가위)\n",
    "            print('당신 짐! 컴퓨터 이김! 또 해! (You:', user+'~, Com:', '가위~)')\n",
    "            print()\n",
    "            print(sci , rock , (pap+sup)*3)\n",
    "        else:# 나머지 경우\n",
    "            print('당신 이김! 컴퓨터 짐! (You:', user+'~, Com:', '바위~)')\n",
    "            break\n"
   ]
  },
  {
   "cell_type": "code",
   "execution_count": null,
   "metadata": {},
   "outputs": [],
   "source": []
  },
  {
   "cell_type": "code",
   "execution_count": 24,
   "metadata": {},
   "outputs": [
    {
     "name": "stdout",
     "output_type": "stream",
     "text": [
      "가위~ 바위~ 보~!!!!!\n",
      "가위~ 바위~ 보~!!!!!\n",
      "가위~ 바위~ 보~!!!!!보~!!!!!보~!!!!!\n",
      "--------------------------------------------------\n",
      "가위~ 바위~ 보 ! 중에 하나를 골라주세요~ 가위\n",
      "우리 비김! 또 해! (You: 가위~, Com: 가위~) 0\n",
      "\n",
      "가위~ 바위~ 보~!!!!!보~!!!!!보~!!!!!\n",
      "--------------------------------------------------\n",
      "가위~ 바위~ 보 ! 중에 하나를 골라주세요~ 바위\n",
      "당신 이김! 컴퓨터 짐! (You: 바위~, Com: 가위~) -1\n"
     ]
    }
   ],
   "source": [
    "# 출력을 편하게 하기 위한 문자열 구성\n",
    "sci = '가위~'\n",
    "rock = '바위~'\n",
    "pap = '보~'\n",
    "sup = '!!!!!'\n",
    "print(sci , rock , pap+sup)\n",
    "print(sci , rock , pap+sup)\n",
    "print(sci , rock , (pap+sup)*3)\n",
    "\n",
    "# while은 break를 만나기 전까지 반복되게 만들고, 이긴 경우에만 break 되게 한다.\n",
    "# 가위는 -1, 바위는 0, 보는 1로 구분하고 random.randint() 함수를 사용한다.\n",
    "while 1:\n",
    "    print('-'*50)# 판을 구분하기 위함\n",
    "    user = input('가위~ 바위~ 보 ! 중에 하나를 골라주세요~ ')\n",
    "    com = random.randint(-1, 1)\n",
    "    if com == u :# 같은 값이 나와 비긴 경우\n",
    "        print('우리 비김! 또 해! (You:', user+'~, Com:', user+'~)',com)# 비길경우 user의 입력을 함께 출력\n",
    "        print()\n",
    "        print(sci , rock , (pap+sup)*3)\n",
    "\n",
    "    elif user == '가위':\n",
    "        u = -1\n",
    "        if u-com < u:# -1에서 com을 빼서 -1보다 작아지는 경우는 1을 뺐을 떄, 즉 '보'인 경우\n",
    "            print('당신 이김! 컴퓨터 짐! (You:', user+'~, Com:', '보~)',com)\n",
    "            break\n",
    "        else:# 비기는 경우와 컴퓨터가 지는 경우를 제외한 나머지 한 경우\n",
    "            print('당신 짐! 컴퓨터 이김! 또 해! (You:', user+'~, Com:', '바위~)',com)# if user == '가위'이므로 가위가 지는 Com값을 작성\n",
    "            print()\n",
    "            print(sci , rock , (pap+sup)*3)\n",
    "            \n",
    "    elif user == '바위':\n",
    "        u = 0\n",
    "        if u-com < u:# 0에서 com을 빼서 0보다 작아지는 경우는 1을 뺐을 떄, 즉 '보'인 경우\n",
    "            print('당신 짐! 컴퓨터 이김! 또 해! (You:', user+'~, Com:', '보~)', com)\n",
    "            print()\n",
    "            print(sci , rock , (pap+sup)*3)\n",
    "        else:# 비기는 경우와 컴퓨터가 지는 경우를 제외한 나머지 한 경우\n",
    "            print('당신 이김! 컴퓨터 짐! (You:', user+'~, Com:', '가위~)', com)\n",
    "            break                             \n",
    "            \n",
    "    else:\n",
    "        u = 1\n",
    "        if u-com < u:# 1에서 com을 빼서 1보다 작아지는 경우는 0을 뺐을 때, 즉 '바위'인 경우\n",
    "            print('당신 이김! 컴퓨터 짐! (You:', user+'~, Com:', '바위~)', com)\n",
    "            break\n",
    "        else:\n",
    "            print('당신 짐! 컴퓨터 이김! 또 해! (You:', user+'~, Com:', '가위~)', com)\n",
    "            print()\n",
    "            print(sci , rock , (pap+sup)*3)\n",
    "\n"
   ]
  }
 ],
 "metadata": {
  "kernelspec": {
   "display_name": "Python 3",
   "language": "python",
   "name": "python3"
  },
  "language_info": {
   "codemirror_mode": {
    "name": "ipython",
    "version": 3
   },
   "file_extension": ".py",
   "mimetype": "text/x-python",
   "name": "python",
   "nbconvert_exporter": "python",
   "pygments_lexer": "ipython3",
   "version": "3.8.5"
  }
 },
 "nbformat": 4,
 "nbformat_minor": 4
}
