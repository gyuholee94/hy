{
 "cells": [
  {
   "cell_type": "code",
   "execution_count": 1,
   "metadata": {},
   "outputs": [],
   "source": [
    "import random"
   ]
  },
  {
   "cell_type": "markdown",
   "metadata": {},
   "source": [
    "## 12월22일 python day1 \n",
    "- Hello python"
   ]
  },
  {
   "cell_type": "code",
   "execution_count": 1,
   "metadata": {},
   "outputs": [
    {
     "name": "stdout",
     "output_type": "stream",
     "text": [
      "Hello Python!!!\n",
      "Hello 좀 그만...\n"
     ]
    }
   ],
   "source": [
    "print('Hello Python!!!')\n",
    "print('Hello 좀 그만...')"
   ]
  },
  {
   "cell_type": "code",
   "execution_count": 2,
   "metadata": {},
   "outputs": [
    {
     "name": "stdout",
     "output_type": "stream",
     "text": [
      "Hello AI!!!\n"
     ]
    }
   ],
   "source": [
    "print('Hello AI!!!')"
   ]
  },
  {
   "cell_type": "code",
   "execution_count": 3,
   "metadata": {},
   "outputs": [
    {
     "data": {
      "text/plain": [
       "15"
      ]
     },
     "execution_count": 3,
     "metadata": {},
     "output_type": "execute_result"
    }
   ],
   "source": [
    "5+10"
   ]
  },
  {
   "cell_type": "code",
   "execution_count": 4,
   "metadata": {},
   "outputs": [
    {
     "data": {
      "text/plain": [
       "-5"
      ]
     },
     "execution_count": 4,
     "metadata": {},
     "output_type": "execute_result"
    }
   ],
   "source": [
    "5-10"
   ]
  },
  {
   "cell_type": "code",
   "execution_count": 5,
   "metadata": {},
   "outputs": [
    {
     "data": {
      "text/plain": [
       "50"
      ]
     },
     "execution_count": 5,
     "metadata": {},
     "output_type": "execute_result"
    }
   ],
   "source": [
    "5*10"
   ]
  },
  {
   "cell_type": "code",
   "execution_count": 6,
   "metadata": {},
   "outputs": [
    {
     "data": {
      "text/plain": [
       "0.5"
      ]
     },
     "execution_count": 6,
     "metadata": {},
     "output_type": "execute_result"
    }
   ],
   "source": [
    "5/10"
   ]
  },
  {
   "cell_type": "code",
   "execution_count": 7,
   "metadata": {},
   "outputs": [
    {
     "data": {
      "text/plain": [
       "9765625"
      ]
     },
     "execution_count": 7,
     "metadata": {},
     "output_type": "execute_result"
    }
   ],
   "source": [
    "5**10"
   ]
  },
  {
   "cell_type": "code",
   "execution_count": 8,
   "metadata": {},
   "outputs": [
    {
     "data": {
      "text/plain": [
       "1024"
      ]
     },
     "execution_count": 8,
     "metadata": {},
     "output_type": "execute_result"
    }
   ],
   "source": [
    "2**10"
   ]
  },
  {
   "cell_type": "code",
   "execution_count": 9,
   "metadata": {},
   "outputs": [
    {
     "data": {
      "text/plain": [
       "4"
      ]
     },
     "execution_count": 9,
     "metadata": {},
     "output_type": "execute_result"
    }
   ],
   "source": [
    "2**2"
   ]
  },
  {
   "cell_type": "code",
   "execution_count": 10,
   "metadata": {},
   "outputs": [
    {
     "data": {
      "text/plain": [
       "1"
      ]
     },
     "execution_count": 10,
     "metadata": {},
     "output_type": "execute_result"
    }
   ],
   "source": [
    "10%3"
   ]
  },
  {
   "cell_type": "code",
   "execution_count": 11,
   "metadata": {},
   "outputs": [
    {
     "data": {
      "text/plain": [
       "2"
      ]
     },
     "execution_count": 11,
     "metadata": {},
     "output_type": "execute_result"
    }
   ],
   "source": [
    "5%3"
   ]
  },
  {
   "cell_type": "code",
   "execution_count": 12,
   "metadata": {},
   "outputs": [
    {
     "data": {
      "text/plain": [
       "3"
      ]
     },
     "execution_count": 12,
     "metadata": {},
     "output_type": "execute_result"
    }
   ],
   "source": [
    "8%5"
   ]
  },
  {
   "cell_type": "code",
   "execution_count": 13,
   "metadata": {},
   "outputs": [
    {
     "data": {
      "text/plain": [
       "1.4285714285714286"
      ]
     },
     "execution_count": 13,
     "metadata": {},
     "output_type": "execute_result"
    }
   ],
   "source": [
    "10/7"
   ]
  },
  {
   "cell_type": "code",
   "execution_count": 14,
   "metadata": {},
   "outputs": [
    {
     "data": {
      "text/plain": [
       "3"
      ]
     },
     "execution_count": 14,
     "metadata": {},
     "output_type": "execute_result"
    }
   ],
   "source": [
    "10%7"
   ]
  },
  {
   "cell_type": "code",
   "execution_count": 15,
   "metadata": {},
   "outputs": [
    {
     "data": {
      "text/plain": [
       "1"
      ]
     },
     "execution_count": 15,
     "metadata": {},
     "output_type": "execute_result"
    }
   ],
   "source": [
    "10//7"
   ]
  },
  {
   "cell_type": "code",
   "execution_count": 16,
   "metadata": {},
   "outputs": [
    {
     "data": {
      "text/plain": [
       "'머신러닝 머신러닝 머신러닝 '"
      ]
     },
     "execution_count": 16,
     "metadata": {},
     "output_type": "execute_result"
    }
   ],
   "source": [
    "'머신러닝 '*3"
   ]
  },
  {
   "cell_type": "code",
   "execution_count": 17,
   "metadata": {},
   "outputs": [],
   "source": [
    "height = 175"
   ]
  },
  {
   "cell_type": "code",
   "execution_count": 18,
   "metadata": {},
   "outputs": [
    {
     "data": {
      "text/plain": [
       "175"
      ]
     },
     "execution_count": 18,
     "metadata": {},
     "output_type": "execute_result"
    }
   ],
   "source": [
    "height"
   ]
  },
  {
   "cell_type": "code",
   "execution_count": 19,
   "metadata": {},
   "outputs": [
    {
     "data": {
      "text/plain": [
       "False"
      ]
     },
     "execution_count": 19,
     "metadata": {},
     "output_type": "execute_result"
    }
   ],
   "source": [
    "10 == 15"
   ]
  },
  {
   "cell_type": "code",
   "execution_count": 20,
   "metadata": {},
   "outputs": [
    {
     "data": {
      "text/plain": [
       "True"
      ]
     },
     "execution_count": 20,
     "metadata": {},
     "output_type": "execute_result"
    }
   ],
   "source": [
    "10 != 15"
   ]
  },
  {
   "cell_type": "markdown",
   "metadata": {},
   "source": [
    "# 상수와 변수"
   ]
  },
  {
   "cell_type": "code",
   "execution_count": 21,
   "metadata": {},
   "outputs": [],
   "source": [
    "string = 'Hello!'"
   ]
  },
  {
   "cell_type": "code",
   "execution_count": 22,
   "metadata": {},
   "outputs": [
    {
     "data": {
      "text/plain": [
       "'Hello!'"
      ]
     },
     "execution_count": 22,
     "metadata": {},
     "output_type": "execute_result"
    }
   ],
   "source": [
    "string"
   ]
  },
  {
   "cell_type": "code",
   "execution_count": 23,
   "metadata": {},
   "outputs": [],
   "source": [
    "name = 'Hosung Jo'"
   ]
  },
  {
   "cell_type": "code",
   "execution_count": 24,
   "metadata": {},
   "outputs": [
    {
     "data": {
      "text/plain": [
       "'Hello Hosung Jo'"
      ]
     },
     "execution_count": 24,
     "metadata": {},
     "output_type": "execute_result"
    }
   ],
   "source": [
    "'Hello Hosung Jo'"
   ]
  },
  {
   "cell_type": "code",
   "execution_count": 25,
   "metadata": {},
   "outputs": [
    {
     "data": {
      "text/plain": [
       "'HelloHosung Jo'"
      ]
     },
     "execution_count": 25,
     "metadata": {},
     "output_type": "execute_result"
    }
   ],
   "source": [
    "'Hello' + 'Hosung Jo'"
   ]
  },
  {
   "cell_type": "code",
   "execution_count": 26,
   "metadata": {},
   "outputs": [
    {
     "data": {
      "text/plain": [
       "'Hello!Hosung Jo'"
      ]
     },
     "execution_count": 26,
     "metadata": {},
     "output_type": "execute_result"
    }
   ],
   "source": [
    "string + name"
   ]
  },
  {
   "cell_type": "code",
   "execution_count": 27,
   "metadata": {},
   "outputs": [],
   "source": [
    "blank = ' '"
   ]
  },
  {
   "cell_type": "code",
   "execution_count": 28,
   "metadata": {},
   "outputs": [
    {
     "data": {
      "text/plain": [
       "'Hello! Hosung Jo'"
      ]
     },
     "execution_count": 28,
     "metadata": {},
     "output_type": "execute_result"
    }
   ],
   "source": [
    "string + blank + name "
   ]
  },
  {
   "cell_type": "code",
   "execution_count": 29,
   "metadata": {},
   "outputs": [
    {
     "data": {
      "text/plain": [
       "'Hello! Hosung Jo'"
      ]
     },
     "execution_count": 29,
     "metadata": {},
     "output_type": "execute_result"
    }
   ],
   "source": [
    "string + ' ' + name"
   ]
  },
  {
   "cell_type": "code",
   "execution_count": 30,
   "metadata": {},
   "outputs": [],
   "source": [
    "string = 'Hello!  '"
   ]
  },
  {
   "cell_type": "code",
   "execution_count": 31,
   "metadata": {},
   "outputs": [
    {
     "data": {
      "text/plain": [
       "'Hello!  Hosung Jo'"
      ]
     },
     "execution_count": 31,
     "metadata": {},
     "output_type": "execute_result"
    }
   ],
   "source": [
    "string + name"
   ]
  },
  {
   "cell_type": "code",
   "execution_count": 32,
   "metadata": {},
   "outputs": [],
   "source": [
    "number = 5"
   ]
  },
  {
   "cell_type": "code",
   "execution_count": 33,
   "metadata": {},
   "outputs": [
    {
     "data": {
      "text/plain": [
       "'Hello!  Hello!  Hello!  Hello!  Hello!  '"
      ]
     },
     "execution_count": 33,
     "metadata": {},
     "output_type": "execute_result"
    }
   ],
   "source": [
    "string * number"
   ]
  },
  {
   "cell_type": "code",
   "execution_count": 34,
   "metadata": {},
   "outputs": [
    {
     "ename": "TypeError",
     "evalue": "can only concatenate str (not \"int\") to str",
     "output_type": "error",
     "traceback": [
      "\u001b[1;31m---------------------------------------------------------------------------\u001b[0m",
      "\u001b[1;31mTypeError\u001b[0m                                 Traceback (most recent call last)",
      "\u001b[1;32m<ipython-input-34-13014bb6d489>\u001b[0m in \u001b[0;36m<module>\u001b[1;34m\u001b[0m\n\u001b[1;32m----> 1\u001b[1;33m \u001b[0mstring\u001b[0m \u001b[1;33m+\u001b[0m \u001b[0mnumber\u001b[0m\u001b[1;33m\u001b[0m\u001b[1;33m\u001b[0m\u001b[0m\n\u001b[0m",
      "\u001b[1;31mTypeError\u001b[0m: can only concatenate str (not \"int\") to str"
     ]
    }
   ],
   "source": [
    "string + number"
   ]
  },
  {
   "cell_type": "code",
   "execution_count": 35,
   "metadata": {},
   "outputs": [],
   "source": [
    "number = '5'"
   ]
  },
  {
   "cell_type": "code",
   "execution_count": 36,
   "metadata": {},
   "outputs": [
    {
     "data": {
      "text/plain": [
       "'Hello!  5'"
      ]
     },
     "execution_count": 36,
     "metadata": {},
     "output_type": "execute_result"
    }
   ],
   "source": [
    "string + number"
   ]
  },
  {
   "cell_type": "code",
   "execution_count": 37,
   "metadata": {},
   "outputs": [
    {
     "name": "stdout",
     "output_type": "stream",
     "text": [
      "hi\n"
     ]
    }
   ],
   "source": [
    "test = input()"
   ]
  },
  {
   "cell_type": "code",
   "execution_count": 38,
   "metadata": {},
   "outputs": [
    {
     "data": {
      "text/plain": [
       "'hi'"
      ]
     },
     "execution_count": 38,
     "metadata": {},
     "output_type": "execute_result"
    }
   ],
   "source": [
    "test"
   ]
  },
  {
   "cell_type": "code",
   "execution_count": 39,
   "metadata": {},
   "outputs": [
    {
     "name": "stdout",
     "output_type": "stream",
     "text": [
      "hihi\n"
     ]
    }
   ],
   "source": [
    "test = input()"
   ]
  },
  {
   "cell_type": "code",
   "execution_count": 40,
   "metadata": {},
   "outputs": [
    {
     "data": {
      "text/plain": [
       "'hihi'"
      ]
     },
     "execution_count": 40,
     "metadata": {},
     "output_type": "execute_result"
    }
   ],
   "source": [
    "test"
   ]
  },
  {
   "cell_type": "code",
   "execution_count": 41,
   "metadata": {},
   "outputs": [
    {
     "name": "stdout",
     "output_type": "stream",
     "text": [
      "Hello World?\n",
      "What is your name?\n",
      "hihihi\n",
      "It is good to meet you hihihi\n"
     ]
    }
   ],
   "source": [
    "# python programming day 1\n",
    "# Hello world programming\n",
    "\n",
    "print ('Hello World?')\n",
    "print ('What is your name?')\n",
    "myName = input()\n",
    "print ('It is good to meet you '+ myName)"
   ]
  },
  {
   "cell_type": "code",
   "execution_count": 42,
   "metadata": {},
   "outputs": [
    {
     "name": "stdout",
     "output_type": "stream",
     "text": [
      "Tell me what your name is.\n",
      "hihihihi\n",
      "Tell me where you will go. \n",
      "\n",
      "Tell me the purpose of travel. \n",
      "\n",
      "Tell me how long you will stay.\n",
      "hi\n",
      "\n",
      "\n",
      "Name: hihihihi\n",
      "Destination: \n",
      "Purpose: \n",
      "lengthOfStayhi\n"
     ]
    }
   ],
   "source": [
    "## My favoriate place\n",
    "\n",
    "##  input \n",
    "print ('Tell me what your name is.')\n",
    "myName = input()\n",
    "print ('Tell me where you will go. ')\n",
    "myPlace = input()\n",
    "print ('Tell me the purpose of travel. ')\n",
    "myPurpose = input()\n",
    "print ('Tell me how long you will stay.')\n",
    "lengthOfStay = input()\n",
    "\n",
    "# 2줄 띄우기 = 한줄 띄우기 x 2\n",
    "print ()\n",
    "print ()\n",
    "\n",
    "## output\n",
    "print ('Name: ' + myName)\n",
    "print ('Destination: ' + myPlace)\n",
    "print ('Purpose: ' + myPurpose)\n",
    "print ('lengthOfStay' + lengthOfStay)\n",
    "\n"
   ]
  },
  {
   "cell_type": "code",
   "execution_count": 43,
   "metadata": {},
   "outputs": [
    {
     "name": "stdout",
     "output_type": "stream",
     "text": [
      "What is your name?hi\n"
     ]
    }
   ],
   "source": [
    "myName = input('What is your name?')"
   ]
  },
  {
   "cell_type": "code",
   "execution_count": 44,
   "metadata": {},
   "outputs": [
    {
     "data": {
      "text/plain": [
       "'hi'"
      ]
     },
     "execution_count": 44,
     "metadata": {},
     "output_type": "execute_result"
    }
   ],
   "source": [
    "myName"
   ]
  },
  {
   "cell_type": "code",
   "execution_count": 45,
   "metadata": {},
   "outputs": [
    {
     "data": {
      "text/plain": [
       "4040"
      ]
     },
     "execution_count": 45,
     "metadata": {},
     "output_type": "execute_result"
    }
   ],
   "source": [
    "test = '2020'\n",
    "int(test)+2020"
   ]
  },
  {
   "cell_type": "code",
   "execution_count": 46,
   "metadata": {},
   "outputs": [
    {
     "name": "stdout",
     "output_type": "stream",
     "text": [
      "올해는 2020년입니다.\n"
     ]
    }
   ],
   "source": [
    "print ('올해는 '+ str(2020) +'년입니다.')"
   ]
  },
  {
   "cell_type": "code",
   "execution_count": 48,
   "metadata": {},
   "outputs": [
    {
     "name": "stdout",
     "output_type": "stream",
     "text": [
      "input your guess\n",
      "32\n",
      "input your guess31\n"
     ]
    }
   ],
   "source": [
    "print ('input your guess')\n",
    "number = int(input())\n",
    "\n",
    "\n",
    "number = int(input('input your guess'))"
   ]
  },
  {
   "cell_type": "code",
   "execution_count": 49,
   "metadata": {
    "scrolled": true
   },
   "outputs": [
    {
     "name": "stdout",
     "output_type": "stream",
     "text": [
      "3\n",
      "5\n",
      "4\n",
      "6\n",
      "8\n",
      "3 5 4 6 8 5.2\n"
     ]
    }
   ],
   "source": [
    "# 숫자 5개를 입력받아 5자리 숫자를 만들기\n",
    "\n",
    "a = input()\n",
    "b = input()\n",
    "c = input()\n",
    "d = input()\n",
    "e = input()\n",
    "\n",
    "avr = (int(a)+int(b)+int(c)+int(d)+int(e))/5\n",
    "print (a + ' ' + b + ' ' + c + ' ' + d + ' ' \n",
    "       + e + ' ' + str(avr))"
   ]
  },
  {
   "cell_type": "code",
   "execution_count": 65,
   "metadata": {},
   "outputs": [
    {
     "name": "stdout",
     "output_type": "stream",
     "text": [
      "3\n",
      "5\n",
      "1\n",
      "3 5 1 9 3.0\n"
     ]
    }
   ],
   "source": [
    "# 실수 3개를 입력받아 합과 평균 출력하기\n",
    "\n",
    "a = input()\n",
    "b = input()\n",
    "c = input()\n",
    "\n",
    "summ = (int(a)+int(b)+int(c))\n",
    "avr = summ/3\n",
    "print (a + ' ' + b + ' ' + c + ' ' + str(summ) +' '+ str(avr)) "
   ]
  },
  {
   "cell_type": "code",
   "execution_count": 66,
   "metadata": {},
   "outputs": [
    {
     "name": "stdout",
     "output_type": "stream",
     "text": [
      "숫자를 입력해 주세요.\n",
      "3\n",
      "3는 홀수입니다.\n"
     ]
    }
   ],
   "source": [
    "# 짝수와 홀수 구분하기\n",
    "print ('숫자를 입력해 주세요.') # 화면 출력\n",
    "number = int(input())             # 사용자로부터 값을 입력받아 숫자로 바꾸고 number 변수에 저장\n",
    "\n",
    "remainder = number % 2          # 나머지 연산, 나머지가 0이면 짝수, 나머지 1이면 홀수\n",
    "\n",
    "if remainder == 0:\n",
    "    print (str(number)+ '는 짝수입니다.')\n",
    "else:\n",
    "    print (str(number)+ '는 홀수입니다.')\n"
   ]
  },
  {
   "cell_type": "code",
   "execution_count": 67,
   "metadata": {},
   "outputs": [
    {
     "name": "stdout",
     "output_type": "stream",
     "text": [
      "첫번째 숫자를 입력해주세요. 15\n",
      "두번째 숫자를 입력해주세요. 15\n",
      "두 수는 같습니다.\n"
     ]
    }
   ],
   "source": [
    "# 큰수와 작은수 구분하기\n",
    "number1 = int(input('첫번째 숫자를 입력해주세요. '))\n",
    "number2 = int(input('두번째 숫자를 입력해주세요. '))\n",
    "\n",
    "if number1 > number2:\n",
    "    print ('큰 수는 ' + str(number1) + '입니다.')\n",
    "    print ('작은 수는 ' + str(number2) + '입니다.')\n",
    "elif number1 < number2:\n",
    "    print ('큰 수는 ' + str(number2) + '입니다.')\n",
    "    print ('작은 수는 ' + str(number1) + '입니다.')\n",
    "else:\n",
    "    print ('두 수는 같습니다.')"
   ]
  },
  {
   "cell_type": "code",
   "execution_count": 70,
   "metadata": {},
   "outputs": [
    {
     "ename": "SyntaxError",
     "evalue": "unexpected EOF while parsing (<ipython-input-70-a9077ad25a8b>, line 8)",
     "output_type": "error",
     "traceback": [
      "\u001b[1;36m  File \u001b[1;32m\"<ipython-input-70-a9077ad25a8b>\"\u001b[1;36m, line \u001b[1;32m8\u001b[0m\n\u001b[1;33m    if a > c:\u001b[0m\n\u001b[1;37m             ^\u001b[0m\n\u001b[1;31mSyntaxError\u001b[0m\u001b[1;31m:\u001b[0m unexpected EOF while parsing\n"
     ]
    }
   ],
   "source": [
    "## 서로 다른 숫자 3개를 입력받아 \n",
    "## 가장 큰 숫자와 가장 작은 숫자를 찾는 프로그램을 작성하시오.\n",
    "number1 = int(input('첫번째 숫자를 입력해주세요. '))\n",
    "number2 = int(input('두번째 숫자를 입력해주세요. '))\n",
    "number3 = int(input('세번째 숫자를 입력해주세요. '))\n",
    "\n",
    "if a > b:\n",
    "    if a > c:"
   ]
  },
  {
   "cell_type": "code",
   "execution_count": 71,
   "metadata": {},
   "outputs": [
    {
     "data": {
      "text/plain": [
       "91"
      ]
     },
     "execution_count": 71,
     "metadata": {},
     "output_type": "execute_result"
    }
   ],
   "source": [
    "import random \n",
    "random.randint(1,100)"
   ]
  },
  {
   "cell_type": "code",
   "execution_count": 72,
   "metadata": {},
   "outputs": [
    {
     "data": {
      "text/plain": [
       "9"
      ]
     },
     "execution_count": 72,
     "metadata": {},
     "output_type": "execute_result"
    }
   ],
   "source": [
    "random.randint(1,10)"
   ]
  },
  {
   "cell_type": "code",
   "execution_count": 73,
   "metadata": {},
   "outputs": [
    {
     "ename": "ValueError",
     "evalue": "empty range for randrange() (100, 51, -49)",
     "output_type": "error",
     "traceback": [
      "\u001b[1;31m---------------------------------------------------------------------------\u001b[0m",
      "\u001b[1;31mValueError\u001b[0m                                Traceback (most recent call last)",
      "\u001b[1;32m<ipython-input-73-13286790492b>\u001b[0m in \u001b[0;36m<module>\u001b[1;34m\u001b[0m\n\u001b[1;32m----> 1\u001b[1;33m \u001b[0mrandom\u001b[0m\u001b[1;33m.\u001b[0m\u001b[0mrandint\u001b[0m\u001b[1;33m(\u001b[0m\u001b[1;36m100\u001b[0m\u001b[1;33m,\u001b[0m\u001b[1;36m50\u001b[0m\u001b[1;33m)\u001b[0m\u001b[1;33m\u001b[0m\u001b[1;33m\u001b[0m\u001b[0m\n\u001b[0m",
      "\u001b[1;32m~\\anaconda3\\lib\\random.py\u001b[0m in \u001b[0;36mrandint\u001b[1;34m(self, a, b)\u001b[0m\n\u001b[0;32m    246\u001b[0m         \"\"\"\n\u001b[0;32m    247\u001b[0m \u001b[1;33m\u001b[0m\u001b[0m\n\u001b[1;32m--> 248\u001b[1;33m         \u001b[1;32mreturn\u001b[0m \u001b[0mself\u001b[0m\u001b[1;33m.\u001b[0m\u001b[0mrandrange\u001b[0m\u001b[1;33m(\u001b[0m\u001b[0ma\u001b[0m\u001b[1;33m,\u001b[0m \u001b[0mb\u001b[0m\u001b[1;33m+\u001b[0m\u001b[1;36m1\u001b[0m\u001b[1;33m)\u001b[0m\u001b[1;33m\u001b[0m\u001b[1;33m\u001b[0m\u001b[0m\n\u001b[0m\u001b[0;32m    249\u001b[0m \u001b[1;33m\u001b[0m\u001b[0m\n\u001b[0;32m    250\u001b[0m     \u001b[1;32mdef\u001b[0m \u001b[0m_randbelow_with_getrandbits\u001b[0m\u001b[1;33m(\u001b[0m\u001b[0mself\u001b[0m\u001b[1;33m,\u001b[0m \u001b[0mn\u001b[0m\u001b[1;33m)\u001b[0m\u001b[1;33m:\u001b[0m\u001b[1;33m\u001b[0m\u001b[1;33m\u001b[0m\u001b[0m\n",
      "\u001b[1;32m~\\anaconda3\\lib\\random.py\u001b[0m in \u001b[0;36mrandrange\u001b[1;34m(self, start, stop, step, _int)\u001b[0m\n\u001b[0;32m    224\u001b[0m             \u001b[1;32mreturn\u001b[0m \u001b[0mistart\u001b[0m \u001b[1;33m+\u001b[0m \u001b[0mself\u001b[0m\u001b[1;33m.\u001b[0m\u001b[0m_randbelow\u001b[0m\u001b[1;33m(\u001b[0m\u001b[0mwidth\u001b[0m\u001b[1;33m)\u001b[0m\u001b[1;33m\u001b[0m\u001b[1;33m\u001b[0m\u001b[0m\n\u001b[0;32m    225\u001b[0m         \u001b[1;32mif\u001b[0m \u001b[0mstep\u001b[0m \u001b[1;33m==\u001b[0m \u001b[1;36m1\u001b[0m\u001b[1;33m:\u001b[0m\u001b[1;33m\u001b[0m\u001b[1;33m\u001b[0m\u001b[0m\n\u001b[1;32m--> 226\u001b[1;33m             \u001b[1;32mraise\u001b[0m \u001b[0mValueError\u001b[0m\u001b[1;33m(\u001b[0m\u001b[1;34m\"empty range for randrange() (%d, %d, %d)\"\u001b[0m \u001b[1;33m%\u001b[0m \u001b[1;33m(\u001b[0m\u001b[0mistart\u001b[0m\u001b[1;33m,\u001b[0m \u001b[0mistop\u001b[0m\u001b[1;33m,\u001b[0m \u001b[0mwidth\u001b[0m\u001b[1;33m)\u001b[0m\u001b[1;33m)\u001b[0m\u001b[1;33m\u001b[0m\u001b[1;33m\u001b[0m\u001b[0m\n\u001b[0m\u001b[0;32m    227\u001b[0m \u001b[1;33m\u001b[0m\u001b[0m\n\u001b[0;32m    228\u001b[0m         \u001b[1;31m# Non-unit step argument supplied.\u001b[0m\u001b[1;33m\u001b[0m\u001b[1;33m\u001b[0m\u001b[1;33m\u001b[0m\u001b[0m\n",
      "\u001b[1;31mValueError\u001b[0m: empty range for randrange() (100, 51, -49)"
     ]
    }
   ],
   "source": [
    "random.randint(100,50)"
   ]
  },
  {
   "cell_type": "code",
   "execution_count": 74,
   "metadata": {},
   "outputs": [
    {
     "data": {
      "text/plain": [
       "-9"
      ]
     },
     "execution_count": 74,
     "metadata": {},
     "output_type": "execute_result"
    }
   ],
   "source": [
    "random.randint(-10,5)"
   ]
  },
  {
   "cell_type": "code",
   "execution_count": 75,
   "metadata": {},
   "outputs": [
    {
     "ename": "ValueError",
     "evalue": "non-integer arg 1 for randrange()",
     "output_type": "error",
     "traceback": [
      "\u001b[1;31m---------------------------------------------------------------------------\u001b[0m",
      "\u001b[1;31mValueError\u001b[0m                                Traceback (most recent call last)",
      "\u001b[1;32m<ipython-input-75-d606ecab14f5>\u001b[0m in \u001b[0;36m<module>\u001b[1;34m\u001b[0m\n\u001b[1;32m----> 1\u001b[1;33m \u001b[0mrandom\u001b[0m\u001b[1;33m.\u001b[0m\u001b[0mrandint\u001b[0m\u001b[1;33m(\u001b[0m\u001b[1;36m5.5\u001b[0m\u001b[1;33m,\u001b[0m \u001b[1;36m10\u001b[0m\u001b[1;33m)\u001b[0m\u001b[1;33m\u001b[0m\u001b[1;33m\u001b[0m\u001b[0m\n\u001b[0m",
      "\u001b[1;32m~\\anaconda3\\lib\\random.py\u001b[0m in \u001b[0;36mrandint\u001b[1;34m(self, a, b)\u001b[0m\n\u001b[0;32m    246\u001b[0m         \"\"\"\n\u001b[0;32m    247\u001b[0m \u001b[1;33m\u001b[0m\u001b[0m\n\u001b[1;32m--> 248\u001b[1;33m         \u001b[1;32mreturn\u001b[0m \u001b[0mself\u001b[0m\u001b[1;33m.\u001b[0m\u001b[0mrandrange\u001b[0m\u001b[1;33m(\u001b[0m\u001b[0ma\u001b[0m\u001b[1;33m,\u001b[0m \u001b[0mb\u001b[0m\u001b[1;33m+\u001b[0m\u001b[1;36m1\u001b[0m\u001b[1;33m)\u001b[0m\u001b[1;33m\u001b[0m\u001b[1;33m\u001b[0m\u001b[0m\n\u001b[0m\u001b[0;32m    249\u001b[0m \u001b[1;33m\u001b[0m\u001b[0m\n\u001b[0;32m    250\u001b[0m     \u001b[1;32mdef\u001b[0m \u001b[0m_randbelow_with_getrandbits\u001b[0m\u001b[1;33m(\u001b[0m\u001b[0mself\u001b[0m\u001b[1;33m,\u001b[0m \u001b[0mn\u001b[0m\u001b[1;33m)\u001b[0m\u001b[1;33m:\u001b[0m\u001b[1;33m\u001b[0m\u001b[1;33m\u001b[0m\u001b[0m\n",
      "\u001b[1;32m~\\anaconda3\\lib\\random.py\u001b[0m in \u001b[0;36mrandrange\u001b[1;34m(self, start, stop, step, _int)\u001b[0m\n\u001b[0;32m    210\u001b[0m         \u001b[0mistart\u001b[0m \u001b[1;33m=\u001b[0m \u001b[0m_int\u001b[0m\u001b[1;33m(\u001b[0m\u001b[0mstart\u001b[0m\u001b[1;33m)\u001b[0m\u001b[1;33m\u001b[0m\u001b[1;33m\u001b[0m\u001b[0m\n\u001b[0;32m    211\u001b[0m         \u001b[1;32mif\u001b[0m \u001b[0mistart\u001b[0m \u001b[1;33m!=\u001b[0m \u001b[0mstart\u001b[0m\u001b[1;33m:\u001b[0m\u001b[1;33m\u001b[0m\u001b[1;33m\u001b[0m\u001b[0m\n\u001b[1;32m--> 212\u001b[1;33m             \u001b[1;32mraise\u001b[0m \u001b[0mValueError\u001b[0m\u001b[1;33m(\u001b[0m\u001b[1;34m\"non-integer arg 1 for randrange()\"\u001b[0m\u001b[1;33m)\u001b[0m\u001b[1;33m\u001b[0m\u001b[1;33m\u001b[0m\u001b[0m\n\u001b[0m\u001b[0;32m    213\u001b[0m         \u001b[1;32mif\u001b[0m \u001b[0mstop\u001b[0m \u001b[1;32mis\u001b[0m \u001b[1;32mNone\u001b[0m\u001b[1;33m:\u001b[0m\u001b[1;33m\u001b[0m\u001b[1;33m\u001b[0m\u001b[0m\n\u001b[0;32m    214\u001b[0m             \u001b[1;32mif\u001b[0m \u001b[0mistart\u001b[0m \u001b[1;33m>\u001b[0m \u001b[1;36m0\u001b[0m\u001b[1;33m:\u001b[0m\u001b[1;33m\u001b[0m\u001b[1;33m\u001b[0m\u001b[0m\n",
      "\u001b[1;31mValueError\u001b[0m: non-integer arg 1 for randrange()"
     ]
    }
   ],
   "source": [
    "random.randint(5.5, 10)"
   ]
  },
  {
   "cell_type": "code",
   "execution_count": 76,
   "metadata": {},
   "outputs": [
    {
     "ename": "TypeError",
     "evalue": "randint() takes 3 positional arguments but 4 were given",
     "output_type": "error",
     "traceback": [
      "\u001b[1;31m---------------------------------------------------------------------------\u001b[0m",
      "\u001b[1;31mTypeError\u001b[0m                                 Traceback (most recent call last)",
      "\u001b[1;32m<ipython-input-76-cf9593ad0b2d>\u001b[0m in \u001b[0;36m<module>\u001b[1;34m\u001b[0m\n\u001b[1;32m----> 1\u001b[1;33m \u001b[0mrandom\u001b[0m\u001b[1;33m.\u001b[0m\u001b[0mrandint\u001b[0m\u001b[1;33m(\u001b[0m\u001b[1;36m1\u001b[0m\u001b[1;33m,\u001b[0m \u001b[1;36m100\u001b[0m\u001b[1;33m,\u001b[0m \u001b[1;36m2\u001b[0m\u001b[1;33m)\u001b[0m\u001b[1;33m\u001b[0m\u001b[1;33m\u001b[0m\u001b[0m\n\u001b[0m",
      "\u001b[1;31mTypeError\u001b[0m: randint() takes 3 positional arguments but 4 were given"
     ]
    }
   ],
   "source": [
    "\n",
    "random.randint(1, 100, 2)"
   ]
  },
  {
   "cell_type": "code",
   "execution_count": 77,
   "metadata": {
    "scrolled": true
   },
   "outputs": [
    {
     "name": "stdout",
     "output_type": "stream",
     "text": [
      "첫번쨰 숫자를 입력하세요.\n",
      "51\n",
      "두번째 숫자를 입력하세요.\n",
      "31\n"
     ]
    },
    {
     "ename": "ValueError",
     "evalue": "empty range for randrange() (51, 32, -19)",
     "output_type": "error",
     "traceback": [
      "\u001b[1;31m---------------------------------------------------------------------------\u001b[0m",
      "\u001b[1;31mValueError\u001b[0m                                Traceback (most recent call last)",
      "\u001b[1;32m<ipython-input-77-8ff4053b1a85>\u001b[0m in \u001b[0;36m<module>\u001b[1;34m\u001b[0m\n\u001b[0;32m     10\u001b[0m \u001b[1;33m\u001b[0m\u001b[0m\n\u001b[0;32m     11\u001b[0m \u001b[1;31m# 1~lastNum 사이의 임의의 정수를 선택\u001b[0m\u001b[1;33m\u001b[0m\u001b[1;33m\u001b[0m\u001b[1;33m\u001b[0m\u001b[0m\n\u001b[1;32m---> 12\u001b[1;33m \u001b[0mrndNum\u001b[0m \u001b[1;33m=\u001b[0m \u001b[0mrandom\u001b[0m\u001b[1;33m.\u001b[0m\u001b[0mrandint\u001b[0m\u001b[1;33m(\u001b[0m\u001b[0mfirstNum\u001b[0m\u001b[1;33m,\u001b[0m \u001b[0mlastNum\u001b[0m\u001b[1;33m)\u001b[0m\u001b[1;33m\u001b[0m\u001b[1;33m\u001b[0m\u001b[0m\n\u001b[0m\u001b[0;32m     13\u001b[0m \u001b[1;33m\u001b[0m\u001b[0m\n\u001b[0;32m     14\u001b[0m print (str(firstNum)+'부터 '+ str(lastNum) + \n",
      "\u001b[1;32m~\\anaconda3\\lib\\random.py\u001b[0m in \u001b[0;36mrandint\u001b[1;34m(self, a, b)\u001b[0m\n\u001b[0;32m    246\u001b[0m         \"\"\"\n\u001b[0;32m    247\u001b[0m \u001b[1;33m\u001b[0m\u001b[0m\n\u001b[1;32m--> 248\u001b[1;33m         \u001b[1;32mreturn\u001b[0m \u001b[0mself\u001b[0m\u001b[1;33m.\u001b[0m\u001b[0mrandrange\u001b[0m\u001b[1;33m(\u001b[0m\u001b[0ma\u001b[0m\u001b[1;33m,\u001b[0m \u001b[0mb\u001b[0m\u001b[1;33m+\u001b[0m\u001b[1;36m1\u001b[0m\u001b[1;33m)\u001b[0m\u001b[1;33m\u001b[0m\u001b[1;33m\u001b[0m\u001b[0m\n\u001b[0m\u001b[0;32m    249\u001b[0m \u001b[1;33m\u001b[0m\u001b[0m\n\u001b[0;32m    250\u001b[0m     \u001b[1;32mdef\u001b[0m \u001b[0m_randbelow_with_getrandbits\u001b[0m\u001b[1;33m(\u001b[0m\u001b[0mself\u001b[0m\u001b[1;33m,\u001b[0m \u001b[0mn\u001b[0m\u001b[1;33m)\u001b[0m\u001b[1;33m:\u001b[0m\u001b[1;33m\u001b[0m\u001b[1;33m\u001b[0m\u001b[0m\n",
      "\u001b[1;32m~\\anaconda3\\lib\\random.py\u001b[0m in \u001b[0;36mrandrange\u001b[1;34m(self, start, stop, step, _int)\u001b[0m\n\u001b[0;32m    224\u001b[0m             \u001b[1;32mreturn\u001b[0m \u001b[0mistart\u001b[0m \u001b[1;33m+\u001b[0m \u001b[0mself\u001b[0m\u001b[1;33m.\u001b[0m\u001b[0m_randbelow\u001b[0m\u001b[1;33m(\u001b[0m\u001b[0mwidth\u001b[0m\u001b[1;33m)\u001b[0m\u001b[1;33m\u001b[0m\u001b[1;33m\u001b[0m\u001b[0m\n\u001b[0;32m    225\u001b[0m         \u001b[1;32mif\u001b[0m \u001b[0mstep\u001b[0m \u001b[1;33m==\u001b[0m \u001b[1;36m1\u001b[0m\u001b[1;33m:\u001b[0m\u001b[1;33m\u001b[0m\u001b[1;33m\u001b[0m\u001b[0m\n\u001b[1;32m--> 226\u001b[1;33m             \u001b[1;32mraise\u001b[0m \u001b[0mValueError\u001b[0m\u001b[1;33m(\u001b[0m\u001b[1;34m\"empty range for randrange() (%d, %d, %d)\"\u001b[0m \u001b[1;33m%\u001b[0m \u001b[1;33m(\u001b[0m\u001b[0mistart\u001b[0m\u001b[1;33m,\u001b[0m \u001b[0mistop\u001b[0m\u001b[1;33m,\u001b[0m \u001b[0mwidth\u001b[0m\u001b[1;33m)\u001b[0m\u001b[1;33m)\u001b[0m\u001b[1;33m\u001b[0m\u001b[1;33m\u001b[0m\u001b[0m\n\u001b[0m\u001b[0;32m    227\u001b[0m \u001b[1;33m\u001b[0m\u001b[0m\n\u001b[0;32m    228\u001b[0m         \u001b[1;31m# Non-unit step argument supplied.\u001b[0m\u001b[1;33m\u001b[0m\u001b[1;33m\u001b[0m\u001b[1;33m\u001b[0m\u001b[0m\n",
      "\u001b[1;31mValueError\u001b[0m: empty range for randrange() (51, 32, -19)"
     ]
    }
   ],
   "source": [
    "## 주어진 범위에서 무작위 정수 고르기\n",
    "import random \n",
    "\n",
    "print ('첫번쨰 숫자를 입력하세요.')\n",
    "firstNum = int(input())\n",
    "\n",
    "print ('두번째 숫자를 입력하세요.')\n",
    "lastNum = int(input())\n",
    "\n",
    "\n",
    "# 1~lastNum 사이의 임의의 정수를 선택\n",
    "rndNum = random.randint(firstNum, lastNum)\n",
    "\n",
    "print (str(firstNum)+'부터 '+ str(lastNum) + \n",
    "       '까지에서 무작위로 선택된 숫자는 ' + \n",
    "      str(rndNum) + '입니다. ')\n"
   ]
  },
  {
   "cell_type": "code",
   "execution_count": 78,
   "metadata": {},
   "outputs": [
    {
     "name": "stdout",
     "output_type": "stream",
     "text": [
      "파이썬에 세계에 오신 것을 환영합니다.\n",
      "\n",
      "파이썬은 재미있습니다.\n",
      "파이썬은 재미있습니다.\n",
      "파이썬은 재미있습니다.\n",
      "파이썬은 재미있습니다.\n",
      "파이썬은 재미있습니다.\n"
     ]
    }
   ],
   "source": [
    "print ('파이썬에 세계에 오신 것을 환영합니다.')\n",
    "print ()\n",
    "\n",
    "cnt = 0\n",
    "while cnt < 5 :\n",
    "    print ('파이썬은 재미있습니다.')\n",
    "    cnt = cnt + 1"
   ]
  },
  {
   "cell_type": "code",
   "execution_count": 79,
   "metadata": {},
   "outputs": [
    {
     "name": "stdout",
     "output_type": "stream",
     "text": [
      "나무를 1번 찍었습니다. 쿵\n",
      "나무를 2번 찍었습니다. 쿵쿵\n",
      "나무를 3번 찍었습니다. 쿵쿵쿵\n",
      "나무를 4번 찍었습니다. 쿵쿵쿵쿵\n",
      "나무를 5번 찍었습니다. 쿵쿵쿵쿵쿵\n"
     ]
    }
   ],
   "source": [
    "# 나무를 찍자\n",
    "\n",
    "treehit = 1\n",
    "\n",
    "while True:\n",
    "    print ('나무를 ' + str(treehit)+ '번 찍었습니다. '+ '쿵'*treehit)\n",
    "    treehit = treehit + 1 \n",
    "    if treehit > 5 :\n",
    "        break"
   ]
  },
  {
   "cell_type": "code",
   "execution_count": 80,
   "metadata": {},
   "outputs": [
    {
     "name": "stdout",
     "output_type": "stream",
     "text": [
      "============================================================\n",
      "1번째 로또는 25 입니다.\n",
      "2번째 로또는 43 입니다.\n",
      "3번째 로또는 12 입니다.\n",
      "4번째 로또는 20 입니다.\n",
      "5번째 로또는 14 입니다.\n",
      "6번째 로또는 15 입니다.\n",
      "============================================================\n"
     ]
    }
   ],
   "source": [
    "## 로또 645 중복허용\n",
    "import random\n",
    "\n",
    "print ('=='*30)\n",
    "\n",
    "cnt = 0\n",
    "while cnt < 6:\n",
    "    cnt = cnt + 1\n",
    "    print (str(cnt) + '번째 로또는 '+ str(random.randint(1,45))+' 입니다.')\n",
    "    \n",
    "print ('=='*30)    "
   ]
  },
  {
   "cell_type": "code",
   "execution_count": 81,
   "metadata": {},
   "outputs": [
    {
     "name": "stdout",
     "output_type": "stream",
     "text": [
      "높이를 입력하세요  \n",
      "51\n",
      "☆\n",
      "☆☆\n",
      "☆☆☆\n",
      "☆☆☆☆\n",
      "☆☆☆☆☆\n",
      "☆☆☆☆☆☆\n",
      "☆☆☆☆☆☆☆\n",
      "☆☆☆☆☆☆☆☆\n",
      "☆☆☆☆☆☆☆☆☆\n",
      "☆☆☆☆☆☆☆☆☆☆\n",
      "☆☆☆☆☆☆☆☆☆☆☆\n",
      "☆☆☆☆☆☆☆☆☆☆☆☆\n",
      "☆☆☆☆☆☆☆☆☆☆☆☆☆\n",
      "☆☆☆☆☆☆☆☆☆☆☆☆☆☆\n",
      "☆☆☆☆☆☆☆☆☆☆☆☆☆☆☆\n",
      "☆☆☆☆☆☆☆☆☆☆☆☆☆☆☆☆\n",
      "☆☆☆☆☆☆☆☆☆☆☆☆☆☆☆☆☆\n",
      "☆☆☆☆☆☆☆☆☆☆☆☆☆☆☆☆☆☆\n",
      "☆☆☆☆☆☆☆☆☆☆☆☆☆☆☆☆☆☆☆\n",
      "☆☆☆☆☆☆☆☆☆☆☆☆☆☆☆☆☆☆☆☆\n",
      "☆☆☆☆☆☆☆☆☆☆☆☆☆☆☆☆☆☆☆☆☆\n",
      "☆☆☆☆☆☆☆☆☆☆☆☆☆☆☆☆☆☆☆☆☆☆\n",
      "☆☆☆☆☆☆☆☆☆☆☆☆☆☆☆☆☆☆☆☆☆☆☆\n",
      "☆☆☆☆☆☆☆☆☆☆☆☆☆☆☆☆☆☆☆☆☆☆☆☆\n",
      "☆☆☆☆☆☆☆☆☆☆☆☆☆☆☆☆☆☆☆☆☆☆☆☆☆\n",
      "☆☆☆☆☆☆☆☆☆☆☆☆☆☆☆☆☆☆☆☆☆☆☆☆☆☆\n",
      "☆☆☆☆☆☆☆☆☆☆☆☆☆☆☆☆☆☆☆☆☆☆☆☆☆☆☆\n",
      "☆☆☆☆☆☆☆☆☆☆☆☆☆☆☆☆☆☆☆☆☆☆☆☆☆☆☆☆\n",
      "☆☆☆☆☆☆☆☆☆☆☆☆☆☆☆☆☆☆☆☆☆☆☆☆☆☆☆☆☆\n",
      "☆☆☆☆☆☆☆☆☆☆☆☆☆☆☆☆☆☆☆☆☆☆☆☆☆☆☆☆☆☆\n",
      "☆☆☆☆☆☆☆☆☆☆☆☆☆☆☆☆☆☆☆☆☆☆☆☆☆☆☆☆☆☆☆\n",
      "☆☆☆☆☆☆☆☆☆☆☆☆☆☆☆☆☆☆☆☆☆☆☆☆☆☆☆☆☆☆☆☆\n",
      "☆☆☆☆☆☆☆☆☆☆☆☆☆☆☆☆☆☆☆☆☆☆☆☆☆☆☆☆☆☆☆☆☆\n",
      "☆☆☆☆☆☆☆☆☆☆☆☆☆☆☆☆☆☆☆☆☆☆☆☆☆☆☆☆☆☆☆☆☆☆\n",
      "☆☆☆☆☆☆☆☆☆☆☆☆☆☆☆☆☆☆☆☆☆☆☆☆☆☆☆☆☆☆☆☆☆☆☆\n",
      "☆☆☆☆☆☆☆☆☆☆☆☆☆☆☆☆☆☆☆☆☆☆☆☆☆☆☆☆☆☆☆☆☆☆☆☆\n",
      "☆☆☆☆☆☆☆☆☆☆☆☆☆☆☆☆☆☆☆☆☆☆☆☆☆☆☆☆☆☆☆☆☆☆☆☆☆\n",
      "☆☆☆☆☆☆☆☆☆☆☆☆☆☆☆☆☆☆☆☆☆☆☆☆☆☆☆☆☆☆☆☆☆☆☆☆☆☆\n",
      "☆☆☆☆☆☆☆☆☆☆☆☆☆☆☆☆☆☆☆☆☆☆☆☆☆☆☆☆☆☆☆☆☆☆☆☆☆☆☆\n",
      "☆☆☆☆☆☆☆☆☆☆☆☆☆☆☆☆☆☆☆☆☆☆☆☆☆☆☆☆☆☆☆☆☆☆☆☆☆☆☆☆\n",
      "☆☆☆☆☆☆☆☆☆☆☆☆☆☆☆☆☆☆☆☆☆☆☆☆☆☆☆☆☆☆☆☆☆☆☆☆☆☆☆☆☆\n",
      "☆☆☆☆☆☆☆☆☆☆☆☆☆☆☆☆☆☆☆☆☆☆☆☆☆☆☆☆☆☆☆☆☆☆☆☆☆☆☆☆☆☆\n",
      "☆☆☆☆☆☆☆☆☆☆☆☆☆☆☆☆☆☆☆☆☆☆☆☆☆☆☆☆☆☆☆☆☆☆☆☆☆☆☆☆☆☆☆\n",
      "☆☆☆☆☆☆☆☆☆☆☆☆☆☆☆☆☆☆☆☆☆☆☆☆☆☆☆☆☆☆☆☆☆☆☆☆☆☆☆☆☆☆☆☆\n",
      "☆☆☆☆☆☆☆☆☆☆☆☆☆☆☆☆☆☆☆☆☆☆☆☆☆☆☆☆☆☆☆☆☆☆☆☆☆☆☆☆☆☆☆☆☆\n",
      "☆☆☆☆☆☆☆☆☆☆☆☆☆☆☆☆☆☆☆☆☆☆☆☆☆☆☆☆☆☆☆☆☆☆☆☆☆☆☆☆☆☆☆☆☆☆\n",
      "☆☆☆☆☆☆☆☆☆☆☆☆☆☆☆☆☆☆☆☆☆☆☆☆☆☆☆☆☆☆☆☆☆☆☆☆☆☆☆☆☆☆☆☆☆☆☆\n",
      "☆☆☆☆☆☆☆☆☆☆☆☆☆☆☆☆☆☆☆☆☆☆☆☆☆☆☆☆☆☆☆☆☆☆☆☆☆☆☆☆☆☆☆☆☆☆☆☆\n",
      "☆☆☆☆☆☆☆☆☆☆☆☆☆☆☆☆☆☆☆☆☆☆☆☆☆☆☆☆☆☆☆☆☆☆☆☆☆☆☆☆☆☆☆☆☆☆☆☆☆\n",
      "☆☆☆☆☆☆☆☆☆☆☆☆☆☆☆☆☆☆☆☆☆☆☆☆☆☆☆☆☆☆☆☆☆☆☆☆☆☆☆☆☆☆☆☆☆☆☆☆☆☆\n",
      "☆☆☆☆☆☆☆☆☆☆☆☆☆☆☆☆☆☆☆☆☆☆☆☆☆☆☆☆☆☆☆☆☆☆☆☆☆☆☆☆☆☆☆☆☆☆☆☆☆☆☆\n"
     ]
    }
   ],
   "source": [
    "## 직각 삼각형 출력하기\n",
    "print('높이를 입력하세요  ')\n",
    "height = int(input())\n",
    "cnt = 0\n",
    "\n",
    "while cnt < height:\n",
    "    cnt = cnt + 1\n",
    "    print ('☆'*cnt)\n"
   ]
  },
  {
   "cell_type": "code",
   "execution_count": 82,
   "metadata": {},
   "outputs": [
    {
     "name": "stdout",
     "output_type": "stream",
     "text": [
      "높이를 입력하세요  \n",
      "35\n",
      "                                                                    ☆\n",
      "                                                                  ☆☆☆\n",
      "                                                                ☆☆☆☆☆\n",
      "                                                              ☆☆☆☆☆☆☆\n",
      "                                                            ☆☆☆☆☆☆☆☆☆\n",
      "                                                          ☆☆☆☆☆☆☆☆☆☆☆\n",
      "                                                        ☆☆☆☆☆☆☆☆☆☆☆☆☆\n",
      "                                                      ☆☆☆☆☆☆☆☆☆☆☆☆☆☆☆\n",
      "                                                    ☆☆☆☆☆☆☆☆☆☆☆☆☆☆☆☆☆\n",
      "                                                  ☆☆☆☆☆☆☆☆☆☆☆☆☆☆☆☆☆☆☆\n",
      "                                                ☆☆☆☆☆☆☆☆☆☆☆☆☆☆☆☆☆☆☆☆☆\n",
      "                                              ☆☆☆☆☆☆☆☆☆☆☆☆☆☆☆☆☆☆☆☆☆☆☆\n",
      "                                            ☆☆☆☆☆☆☆☆☆☆☆☆☆☆☆☆☆☆☆☆☆☆☆☆☆\n",
      "                                          ☆☆☆☆☆☆☆☆☆☆☆☆☆☆☆☆☆☆☆☆☆☆☆☆☆☆☆\n",
      "                                        ☆☆☆☆☆☆☆☆☆☆☆☆☆☆☆☆☆☆☆☆☆☆☆☆☆☆☆☆☆\n",
      "                                      ☆☆☆☆☆☆☆☆☆☆☆☆☆☆☆☆☆☆☆☆☆☆☆☆☆☆☆☆☆☆☆\n",
      "                                    ☆☆☆☆☆☆☆☆☆☆☆☆☆☆☆☆☆☆☆☆☆☆☆☆☆☆☆☆☆☆☆☆☆\n",
      "                                  ☆☆☆☆☆☆☆☆☆☆☆☆☆☆☆☆☆☆☆☆☆☆☆☆☆☆☆☆☆☆☆☆☆☆☆\n",
      "                                ☆☆☆☆☆☆☆☆☆☆☆☆☆☆☆☆☆☆☆☆☆☆☆☆☆☆☆☆☆☆☆☆☆☆☆☆☆\n",
      "                              ☆☆☆☆☆☆☆☆☆☆☆☆☆☆☆☆☆☆☆☆☆☆☆☆☆☆☆☆☆☆☆☆☆☆☆☆☆☆☆\n",
      "                            ☆☆☆☆☆☆☆☆☆☆☆☆☆☆☆☆☆☆☆☆☆☆☆☆☆☆☆☆☆☆☆☆☆☆☆☆☆☆☆☆☆\n",
      "                          ☆☆☆☆☆☆☆☆☆☆☆☆☆☆☆☆☆☆☆☆☆☆☆☆☆☆☆☆☆☆☆☆☆☆☆☆☆☆☆☆☆☆☆\n",
      "                        ☆☆☆☆☆☆☆☆☆☆☆☆☆☆☆☆☆☆☆☆☆☆☆☆☆☆☆☆☆☆☆☆☆☆☆☆☆☆☆☆☆☆☆☆☆\n",
      "                      ☆☆☆☆☆☆☆☆☆☆☆☆☆☆☆☆☆☆☆☆☆☆☆☆☆☆☆☆☆☆☆☆☆☆☆☆☆☆☆☆☆☆☆☆☆☆☆\n",
      "                    ☆☆☆☆☆☆☆☆☆☆☆☆☆☆☆☆☆☆☆☆☆☆☆☆☆☆☆☆☆☆☆☆☆☆☆☆☆☆☆☆☆☆☆☆☆☆☆☆☆\n",
      "                  ☆☆☆☆☆☆☆☆☆☆☆☆☆☆☆☆☆☆☆☆☆☆☆☆☆☆☆☆☆☆☆☆☆☆☆☆☆☆☆☆☆☆☆☆☆☆☆☆☆☆☆\n",
      "                ☆☆☆☆☆☆☆☆☆☆☆☆☆☆☆☆☆☆☆☆☆☆☆☆☆☆☆☆☆☆☆☆☆☆☆☆☆☆☆☆☆☆☆☆☆☆☆☆☆☆☆☆☆\n",
      "              ☆☆☆☆☆☆☆☆☆☆☆☆☆☆☆☆☆☆☆☆☆☆☆☆☆☆☆☆☆☆☆☆☆☆☆☆☆☆☆☆☆☆☆☆☆☆☆☆☆☆☆☆☆☆☆\n",
      "            ☆☆☆☆☆☆☆☆☆☆☆☆☆☆☆☆☆☆☆☆☆☆☆☆☆☆☆☆☆☆☆☆☆☆☆☆☆☆☆☆☆☆☆☆☆☆☆☆☆☆☆☆☆☆☆☆☆\n",
      "          ☆☆☆☆☆☆☆☆☆☆☆☆☆☆☆☆☆☆☆☆☆☆☆☆☆☆☆☆☆☆☆☆☆☆☆☆☆☆☆☆☆☆☆☆☆☆☆☆☆☆☆☆☆☆☆☆☆☆☆\n",
      "        ☆☆☆☆☆☆☆☆☆☆☆☆☆☆☆☆☆☆☆☆☆☆☆☆☆☆☆☆☆☆☆☆☆☆☆☆☆☆☆☆☆☆☆☆☆☆☆☆☆☆☆☆☆☆☆☆☆☆☆☆☆\n",
      "      ☆☆☆☆☆☆☆☆☆☆☆☆☆☆☆☆☆☆☆☆☆☆☆☆☆☆☆☆☆☆☆☆☆☆☆☆☆☆☆☆☆☆☆☆☆☆☆☆☆☆☆☆☆☆☆☆☆☆☆☆☆☆☆\n",
      "    ☆☆☆☆☆☆☆☆☆☆☆☆☆☆☆☆☆☆☆☆☆☆☆☆☆☆☆☆☆☆☆☆☆☆☆☆☆☆☆☆☆☆☆☆☆☆☆☆☆☆☆☆☆☆☆☆☆☆☆☆☆☆☆☆☆\n",
      "  ☆☆☆☆☆☆☆☆☆☆☆☆☆☆☆☆☆☆☆☆☆☆☆☆☆☆☆☆☆☆☆☆☆☆☆☆☆☆☆☆☆☆☆☆☆☆☆☆☆☆☆☆☆☆☆☆☆☆☆☆☆☆☆☆☆☆☆\n",
      "☆☆☆☆☆☆☆☆☆☆☆☆☆☆☆☆☆☆☆☆☆☆☆☆☆☆☆☆☆☆☆☆☆☆☆☆☆☆☆☆☆☆☆☆☆☆☆☆☆☆☆☆☆☆☆☆☆☆☆☆☆☆☆☆☆☆☆☆☆\n"
     ]
    }
   ],
   "source": [
    "## 정삼각형 출력하기\n",
    "print('높이를 입력하세요  ')\n",
    "height = int(input())\n",
    "cnt = 0\n",
    "\n",
    "while cnt < height:\n",
    "    cnt = cnt + 1\n",
    "    print ('  '*(height-cnt)+'☆'*(2*cnt-1))"
   ]
  },
  {
   "cell_type": "code",
   "execution_count": 83,
   "metadata": {},
   "outputs": [
    {
     "name": "stdout",
     "output_type": "stream",
     "text": [
      "높이를 입력하세요  \n",
      "21\n",
      "                                        ☆\n",
      "                                      ☆☆☆\n",
      "                                    ☆☆☆☆☆\n",
      "                                  ☆☆☆☆☆☆☆\n",
      "                                ☆☆☆☆☆☆☆☆☆\n",
      "                              ☆☆☆☆☆☆☆☆☆☆☆\n",
      "                            ☆☆☆☆☆☆☆☆☆☆☆☆☆\n",
      "                          ☆☆☆☆☆☆☆☆☆☆☆☆☆☆☆\n",
      "                        ☆☆☆☆☆☆☆☆☆☆☆☆☆☆☆☆☆\n",
      "                      ☆☆☆☆☆☆☆☆☆☆☆☆☆☆☆☆☆☆☆\n",
      "                    ☆☆☆☆☆☆☆☆☆☆☆☆☆☆☆☆☆☆☆☆☆\n",
      "                  ☆☆☆☆☆☆☆☆☆☆☆☆☆☆☆☆☆☆☆☆☆☆☆\n",
      "                ☆☆☆☆☆☆☆☆☆☆☆☆☆☆☆☆☆☆☆☆☆☆☆☆☆\n",
      "              ☆☆☆☆☆☆☆☆☆☆☆☆☆☆☆☆☆☆☆☆☆☆☆☆☆☆☆\n",
      "            ☆☆☆☆☆☆☆☆☆☆☆☆☆☆☆☆☆☆☆☆☆☆☆☆☆☆☆☆☆\n",
      "          ☆☆☆☆☆☆☆☆☆☆☆☆☆☆☆☆☆☆☆☆☆☆☆☆☆☆☆☆☆☆☆\n",
      "        ☆☆☆☆☆☆☆☆☆☆☆☆☆☆☆☆☆☆☆☆☆☆☆☆☆☆☆☆☆☆☆☆☆\n",
      "      ☆☆☆☆☆☆☆☆☆☆☆☆☆☆☆☆☆☆☆☆☆☆☆☆☆☆☆☆☆☆☆☆☆☆☆\n",
      "    ☆☆☆☆☆☆☆☆☆☆☆☆☆☆☆☆☆☆☆☆☆☆☆☆☆☆☆☆☆☆☆☆☆☆☆☆☆\n",
      "  ☆☆☆☆☆☆☆☆☆☆☆☆☆☆☆☆☆☆☆☆☆☆☆☆☆☆☆☆☆☆☆☆☆☆☆☆☆☆☆\n",
      "☆☆☆☆☆☆☆☆☆☆☆☆☆☆☆☆☆☆☆☆☆☆☆☆☆☆☆☆☆☆☆☆☆☆☆☆☆☆☆☆☆\n",
      "  ☆☆☆☆☆☆☆☆☆☆☆☆☆☆☆☆☆☆☆☆☆☆☆☆☆☆☆☆☆☆☆☆☆☆☆☆☆☆☆\n",
      "    ☆☆☆☆☆☆☆☆☆☆☆☆☆☆☆☆☆☆☆☆☆☆☆☆☆☆☆☆☆☆☆☆☆☆☆☆☆\n",
      "      ☆☆☆☆☆☆☆☆☆☆☆☆☆☆☆☆☆☆☆☆☆☆☆☆☆☆☆☆☆☆☆☆☆☆☆\n",
      "        ☆☆☆☆☆☆☆☆☆☆☆☆☆☆☆☆☆☆☆☆☆☆☆☆☆☆☆☆☆☆☆☆☆\n",
      "          ☆☆☆☆☆☆☆☆☆☆☆☆☆☆☆☆☆☆☆☆☆☆☆☆☆☆☆☆☆☆☆\n",
      "            ☆☆☆☆☆☆☆☆☆☆☆☆☆☆☆☆☆☆☆☆☆☆☆☆☆☆☆☆☆\n",
      "              ☆☆☆☆☆☆☆☆☆☆☆☆☆☆☆☆☆☆☆☆☆☆☆☆☆☆☆\n",
      "                ☆☆☆☆☆☆☆☆☆☆☆☆☆☆☆☆☆☆☆☆☆☆☆☆☆\n",
      "                  ☆☆☆☆☆☆☆☆☆☆☆☆☆☆☆☆☆☆☆☆☆☆☆\n",
      "                    ☆☆☆☆☆☆☆☆☆☆☆☆☆☆☆☆☆☆☆☆☆\n",
      "                      ☆☆☆☆☆☆☆☆☆☆☆☆☆☆☆☆☆☆☆\n",
      "                        ☆☆☆☆☆☆☆☆☆☆☆☆☆☆☆☆☆\n",
      "                          ☆☆☆☆☆☆☆☆☆☆☆☆☆☆☆\n",
      "                            ☆☆☆☆☆☆☆☆☆☆☆☆☆\n",
      "                              ☆☆☆☆☆☆☆☆☆☆☆\n",
      "                                ☆☆☆☆☆☆☆☆☆\n",
      "                                  ☆☆☆☆☆☆☆\n",
      "                                    ☆☆☆☆☆\n",
      "                                      ☆☆☆\n",
      "                                        ☆\n",
      "                                          \n"
     ]
    }
   ],
   "source": [
    "## 마름모 출력하기\n",
    "print('높이를 입력하세요  ')\n",
    "height = int(input())\n",
    "\n",
    "cnt = 0\n",
    "\n",
    "while cnt < height:\n",
    "    cnt = cnt + 1\n",
    "    print ('  '*(height-cnt)+'☆'*(2*cnt-1))\n",
    "    \n",
    "while cnt > 0:\n",
    "    cnt = cnt - 1\n",
    "    print ('  '*(height-cnt)+'☆'*(2*cnt-1))"
   ]
  },
  {
   "cell_type": "code",
   "execution_count": 85,
   "metadata": {},
   "outputs": [
    {
     "name": "stdout",
     "output_type": "stream",
     "text": [
      "숫자를 입력하세요\n",
      "153\n",
      "321\n",
      "465\n",
      "545\n",
      "954\n",
      "435\n",
      "153\n",
      "545\n",
      "651\n",
      "351\n",
      "863\n",
      "456\n",
      "756\n",
      "153\n",
      "456\n",
      "335\n",
      "546\n",
      "입력 끝\n",
      "sum: 8138\n",
      "avr: 478.70588235294116\n",
      "max: 954\n",
      "min: 153\n"
     ]
    }
   ],
   "source": [
    "## 숫자 계산 프로그램\n",
    "smm = 0\n",
    "avr = 0\n",
    "min = 999   # min 값 저장\n",
    "max = -999  # max 값 저장 \n",
    "cnt = 0    # 평균을 구하기 위해 입력받은 숫자의 갯수를 확인\n",
    "\n",
    "print ('숫자를 입력하세요')\n",
    "\n",
    "while True:\n",
    "    ## 입력\n",
    "    input_num = input()\n",
    "\n",
    "    ## 검사\n",
    "    if input_num == '입력 끝': break\n",
    "        \n",
    "    cnt = cnt + 1  \n",
    "    ## 계산    \n",
    "    input_num = int(input_num)    \n",
    "    smm = smm + input_num\n",
    "    if max < input_num :\n",
    "        max = input_num\n",
    "    if min > input_num:\n",
    "        min = input_num        \n",
    "        \n",
    "print ('sum: ' + str(smm))\n",
    "print ('avr: ' + str(smm/cnt))\n",
    "print ('max: ' + str(max))\n",
    "print ('min: ' + str(min))"
   ]
  },
  {
   "cell_type": "code",
   "execution_count": 5,
   "metadata": {},
   "outputs": [
    {
     "name": "stdout",
     "output_type": "stream",
     "text": [
      "가위~ 바위~ 보~!!!!! \n",
      "가위~ 바위~ 보~!!!!! \n",
      "가위~ 바위~ 보 ! 중에 하나를 골라주세요~   보\n",
      "\n",
      "무승부! 또 해! (You:보~, Com:보~)\n",
      "\n",
      "\n",
      "가위~ 바위~ 보 ! 중에 하나를 골라주세요~   가위\n",
      "\n",
      "당신 이김! 컴퓨터 짐! (You:가위~, Com:보~)\n"
     ]
    }
   ],
   "source": [
    "# 가위바위보 게임\n",
    "# 사용자값은 입력받고 컴퓨터값은 무작위로 생성한뒤\n",
    "# 승부를 판단하고 결과를 보여준다. \n",
    "\n",
    "import random\n",
    "import time\n",
    "\n",
    "winner = '컴퓨터'\n",
    "time_interval=0.1\n",
    "\n",
    "# 게임 인트로 -------------------------------------------------------\n",
    "print ('가위~', end=' ')\n",
    "time.sleep(time_interval*5)\n",
    "print ('바위~', end=' ')\n",
    "time.sleep(time_interval*5)\n",
    "print ('보~!!!!! ')\n",
    "time.sleep(time_interval*5)\n",
    "\n",
    "print ('가위~', end=' ')\n",
    "time.sleep(time_interval*2)\n",
    "print ('바위~', end=' ')\n",
    "time.sleep(time_interval*2)\n",
    "print ('보~!!!!! ')\n",
    "time.sleep(time_interval*2)\n",
    "\n",
    "while winner!='당신':\n",
    "\n",
    "# 사용자 결정-------------------------------------------------------\n",
    "    yourHand = input('가위~ 바위~ 보 ! 중에 하나를 골라주세요~   ')\n",
    "    print ()\n",
    "    \n",
    "# 컴퓨터 결정-------------------------------------------------------\n",
    "    comRandom = random.randint(1,3)\n",
    "    if comRandom == 1:\n",
    "        comHand = '가위'\n",
    "    elif comRandom == 2:\n",
    "        comHand = '바위'\n",
    "    else:\n",
    "        comHand = '보'\n",
    "        \n",
    "# 승부판단-------------------------------------------------------\n",
    "  # \n",
    "    if yourHand == '가위':\n",
    "        if comHand == '바위':\n",
    "            winner = '컴퓨터'\n",
    "        elif comHand == '보':\n",
    "            winner ='당신'\n",
    "        else:\n",
    "            winner='비김'\n",
    "                \n",
    "    elif yourHand == '바위':\n",
    "        if comHand == '가위':\n",
    "            winner = '당신'\n",
    "        elif comHand == '보':\n",
    "            winner = '컴퓨터'\n",
    "        else:\n",
    "            winner='비김'\n",
    "    else:\n",
    "        if comHand == '바위':\n",
    "            winner = '당신'\n",
    "        elif comHand == '가위':\n",
    "            winner = '컴퓨터'\n",
    "        else:\n",
    "            winner='비김'\n",
    "        \n",
    "# 출력-------------------------------------------------------\n",
    "    if winner == '당신':\n",
    "        print ('당신 이김! 컴퓨터 짐! (You:' + yourHand + '~, Com:' + comHand + '~)')\n",
    "        break\n",
    "    elif winner == '컴퓨터':\n",
    "        print ('당신 짐! 컴퓨터 이김! 또 해! (You:' + yourHand + '~, Com:' + comHand + '~)')\n",
    "    else :\n",
    "        print ('무승부! 또 해! (You:' + yourHand + '~, Com:' + comHand + '~)')\n",
    "\n",
    "    print()\n",
    "    print()\n",
    "    time.sleep(1.5)\n"
   ]
  },
  {
   "cell_type": "code",
   "execution_count": 8,
   "metadata": {},
   "outputs": [
    {
     "name": "stdout",
     "output_type": "stream",
     "text": [
      "Shout the number sequentially from 1 to the last number\n",
      "when 3 or 6, 9 show up, claps! instead of shouting!\n",
      "Enjoy the game!\n",
      "\n",
      "Please input the last number   : \n",
      "300\n",
      "1  ->   1\n",
      "2  ->   2\n",
      "3  ->   clap!!\n",
      "4  ->   4\n",
      "5  ->   5\n",
      "6  ->   clap!!\n",
      "7  ->   7\n",
      "8  ->   8\n",
      "9  ->   clap!!\n",
      "10  ->   10\n",
      "11  ->   11\n",
      "12  ->   12\n",
      "13  ->   clap!!\n",
      "14  ->   14\n",
      "15  ->   15\n",
      "16  ->   clap!!\n",
      "17  ->   17\n",
      "18  ->   18\n",
      "19  ->   clap!!\n",
      "20  ->   20\n",
      "21  ->   21\n",
      "22  ->   22\n",
      "23  ->   clap!!\n",
      "24  ->   24\n",
      "25  ->   25\n",
      "26  ->   clap!!\n",
      "27  ->   27\n",
      "28  ->   28\n",
      "29  ->   clap!!\n",
      "30  ->   clap!!\n",
      "31  ->   clap!!\n",
      "32  ->   clap!!\n",
      "33  ->   clap!!clap!!\n",
      "34  ->   clap!!\n",
      "35  ->   clap!!\n",
      "36  ->   clap!!clap!!\n",
      "37  ->   clap!!\n",
      "38  ->   clap!!\n",
      "39  ->   clap!!clap!!\n",
      "40  ->   40\n",
      "41  ->   41\n",
      "42  ->   42\n",
      "43  ->   clap!!\n",
      "44  ->   44\n",
      "45  ->   45\n",
      "46  ->   clap!!\n",
      "47  ->   47\n",
      "48  ->   48\n",
      "49  ->   clap!!\n",
      "50  ->   50\n",
      "51  ->   51\n",
      "52  ->   52\n",
      "53  ->   clap!!\n",
      "54  ->   54\n",
      "55  ->   55\n",
      "56  ->   clap!!\n",
      "57  ->   57\n",
      "58  ->   58\n",
      "59  ->   clap!!\n",
      "60  ->   clap!!\n",
      "61  ->   clap!!\n",
      "62  ->   clap!!\n",
      "63  ->   clap!!clap!!\n",
      "64  ->   clap!!\n",
      "65  ->   clap!!\n",
      "66  ->   clap!!clap!!\n",
      "67  ->   clap!!\n",
      "68  ->   clap!!\n",
      "69  ->   clap!!clap!!\n",
      "70  ->   70\n",
      "71  ->   71\n",
      "72  ->   72\n",
      "73  ->   clap!!\n",
      "74  ->   74\n",
      "75  ->   75\n",
      "76  ->   clap!!\n",
      "77  ->   77\n",
      "78  ->   78\n",
      "79  ->   clap!!\n",
      "80  ->   80\n",
      "81  ->   81\n",
      "82  ->   82\n",
      "83  ->   clap!!\n",
      "84  ->   84\n",
      "85  ->   85\n",
      "86  ->   clap!!\n",
      "87  ->   87\n",
      "88  ->   88\n",
      "89  ->   clap!!\n",
      "90  ->   clap!!\n",
      "91  ->   clap!!\n",
      "92  ->   clap!!\n",
      "93  ->   clap!!clap!!\n",
      "94  ->   clap!!\n",
      "95  ->   clap!!\n",
      "96  ->   clap!!clap!!\n",
      "97  ->   clap!!\n",
      "98  ->   clap!!\n",
      "99  ->   clap!!clap!!\n",
      "100  ->   100\n",
      "101  ->   101\n",
      "102  ->   102\n",
      "103  ->   clap!!\n",
      "104  ->   104\n",
      "105  ->   105\n",
      "106  ->   clap!!\n",
      "107  ->   107\n",
      "108  ->   108\n",
      "109  ->   clap!!\n",
      "110  ->   110\n",
      "111  ->   111\n",
      "112  ->   112\n",
      "113  ->   clap!!\n",
      "114  ->   114\n",
      "115  ->   115\n",
      "116  ->   clap!!\n",
      "117  ->   117\n",
      "118  ->   118\n",
      "119  ->   clap!!\n",
      "120  ->   120\n",
      "121  ->   121\n",
      "122  ->   122\n",
      "123  ->   clap!!\n",
      "124  ->   124\n",
      "125  ->   125\n",
      "126  ->   clap!!\n",
      "127  ->   127\n",
      "128  ->   128\n",
      "129  ->   clap!!\n",
      "130  ->   clap!!\n",
      "131  ->   clap!!\n",
      "132  ->   clap!!\n",
      "133  ->   clap!!clap!!\n",
      "134  ->   clap!!\n",
      "135  ->   clap!!\n",
      "136  ->   clap!!clap!!\n",
      "137  ->   clap!!\n",
      "138  ->   clap!!\n",
      "139  ->   clap!!clap!!\n",
      "140  ->   140\n",
      "141  ->   141\n",
      "142  ->   142\n",
      "143  ->   clap!!\n",
      "144  ->   144\n",
      "145  ->   145\n",
      "146  ->   clap!!\n",
      "147  ->   147\n",
      "148  ->   148\n",
      "149  ->   clap!!\n",
      "150  ->   150\n",
      "151  ->   151\n",
      "152  ->   152\n",
      "153  ->   clap!!\n",
      "154  ->   154\n",
      "155  ->   155\n",
      "156  ->   clap!!\n",
      "157  ->   157\n",
      "158  ->   158\n",
      "159  ->   clap!!\n",
      "160  ->   clap!!\n",
      "161  ->   clap!!\n",
      "162  ->   clap!!\n",
      "163  ->   clap!!clap!!\n",
      "164  ->   clap!!\n",
      "165  ->   clap!!\n",
      "166  ->   clap!!clap!!\n",
      "167  ->   clap!!\n",
      "168  ->   clap!!\n",
      "169  ->   clap!!clap!!\n",
      "170  ->   170\n",
      "171  ->   171\n",
      "172  ->   172\n",
      "173  ->   clap!!\n",
      "174  ->   174\n",
      "175  ->   175\n",
      "176  ->   clap!!\n",
      "177  ->   177\n",
      "178  ->   178\n",
      "179  ->   clap!!\n",
      "180  ->   180\n",
      "181  ->   181\n",
      "182  ->   182\n",
      "183  ->   clap!!\n",
      "184  ->   184\n",
      "185  ->   185\n",
      "186  ->   clap!!\n",
      "187  ->   187\n",
      "188  ->   188\n",
      "189  ->   clap!!\n",
      "190  ->   clap!!\n",
      "191  ->   clap!!\n",
      "192  ->   clap!!\n",
      "193  ->   clap!!clap!!\n",
      "194  ->   clap!!\n",
      "195  ->   clap!!\n",
      "196  ->   clap!!clap!!\n",
      "197  ->   clap!!\n",
      "198  ->   clap!!\n",
      "199  ->   clap!!clap!!\n",
      "200  ->   200\n",
      "201  ->   201\n",
      "202  ->   202\n",
      "203  ->   clap!!\n",
      "204  ->   204\n",
      "205  ->   205\n",
      "206  ->   clap!!\n",
      "207  ->   207\n",
      "208  ->   208\n",
      "209  ->   clap!!\n",
      "210  ->   210\n",
      "211  ->   211\n",
      "212  ->   212\n",
      "213  ->   clap!!\n",
      "214  ->   214\n",
      "215  ->   215\n",
      "216  ->   clap!!\n",
      "217  ->   217\n",
      "218  ->   218\n",
      "219  ->   clap!!\n",
      "220  ->   220\n",
      "221  ->   221\n",
      "222  ->   222\n",
      "223  ->   clap!!\n",
      "224  ->   224\n",
      "225  ->   225\n",
      "226  ->   clap!!\n",
      "227  ->   227\n",
      "228  ->   228\n",
      "229  ->   clap!!\n",
      "230  ->   clap!!\n",
      "231  ->   clap!!\n",
      "232  ->   clap!!\n",
      "233  ->   clap!!clap!!\n",
      "234  ->   clap!!\n",
      "235  ->   clap!!\n",
      "236  ->   clap!!clap!!\n",
      "237  ->   clap!!\n",
      "238  ->   clap!!\n",
      "239  ->   clap!!clap!!\n",
      "240  ->   240\n",
      "241  ->   241\n",
      "242  ->   242\n",
      "243  ->   clap!!\n",
      "244  ->   244\n",
      "245  ->   245\n",
      "246  ->   clap!!\n",
      "247  ->   247\n",
      "248  ->   248\n",
      "249  ->   clap!!\n",
      "250  ->   250\n",
      "251  ->   251\n",
      "252  ->   252\n",
      "253  ->   clap!!\n",
      "254  ->   254\n",
      "255  ->   255\n",
      "256  ->   clap!!\n",
      "257  ->   257\n",
      "258  ->   258\n",
      "259  ->   clap!!\n",
      "260  ->   clap!!\n",
      "261  ->   clap!!\n",
      "262  ->   clap!!\n",
      "263  ->   clap!!clap!!\n",
      "264  ->   clap!!\n",
      "265  ->   clap!!\n",
      "266  ->   clap!!clap!!\n",
      "267  ->   clap!!\n",
      "268  ->   clap!!\n",
      "269  ->   clap!!clap!!\n",
      "270  ->   270\n",
      "271  ->   271\n",
      "272  ->   272\n",
      "273  ->   clap!!\n",
      "274  ->   274\n",
      "275  ->   275\n",
      "276  ->   clap!!\n",
      "277  ->   277\n",
      "278  ->   278\n",
      "279  ->   clap!!\n",
      "280  ->   280\n",
      "281  ->   281\n",
      "282  ->   282\n",
      "283  ->   clap!!\n",
      "284  ->   284\n",
      "285  ->   285\n",
      "286  ->   clap!!\n",
      "287  ->   287\n",
      "288  ->   288\n",
      "289  ->   clap!!\n",
      "290  ->   clap!!\n",
      "291  ->   clap!!\n",
      "292  ->   clap!!\n",
      "293  ->   clap!!clap!!\n",
      "294  ->   clap!!\n",
      "295  ->   clap!!\n",
      "296  ->   clap!!clap!!\n",
      "297  ->   clap!!\n",
      "298  ->   clap!!\n",
      "299  ->   clap!!clap!!\n",
      "300  ->   clap!!\n"
     ]
    }
   ],
   "source": [
    "# 369 game\n",
    "import time\n",
    "\n",
    "time_interval = 0.01\n",
    "\n",
    "print ('Shout the number sequentially from 1 to the last number')\n",
    "time.sleep(time_interval*4)\n",
    "print ('when 3 or 6, 9 show up, claps! instead of shouting!')\n",
    "time.sleep(time_interval*4)\n",
    "print ('Enjoy the game!')\n",
    "time.sleep(time_interval*4)\n",
    "\n",
    "print ()\n",
    "print ('Please input the last number   : ')    \n",
    "lastnum = input()\n",
    "lastnum = int(lastnum)\n",
    "\n",
    "num = 1\n",
    "\n",
    "while num <= lastnum:\n",
    "    ## 이곳을 채우면 됩니다.\n",
    "\n",
    "    num = num + 1\n"
   ]
  },
  {
   "cell_type": "markdown",
   "metadata": {},
   "source": [
    "### 안녕하세요 교수님! 형식을 주시는지 모르고 3,6,9와 가위바위보를 혼자서 짰었습니다. 개인적으로 짠 코드도 아래에 첨부합니다."
   ]
  },
  {
   "cell_type": "code",
   "execution_count": 86,
   "metadata": {},
   "outputs": [
    {
     "name": "stdout",
     "output_type": "stream",
     "text": [
      "마지막 숫자를 입력하시오33\n",
      "1 -> 1\n",
      "2 -> 2\n",
      "3 -> 짝\n",
      "4 -> 4\n",
      "5 -> 5\n",
      "6 -> 짝\n",
      "7 -> 7\n",
      "8 -> 8\n",
      "9 -> 짝\n",
      "10 -> 10\n",
      "11 -> 11\n",
      "12 -> 12\n",
      "13 -> 짝\n",
      "14 -> 14\n",
      "15 -> 15\n",
      "16 -> 짝\n",
      "17 -> 17\n",
      "18 -> 18\n",
      "19 -> 짝\n",
      "20 -> 20\n",
      "21 -> 21\n",
      "22 -> 22\n",
      "23 -> 짝\n",
      "24 -> 24\n",
      "25 -> 25\n",
      "26 -> 짝\n",
      "27 -> 27\n",
      "28 -> 28\n",
      "29 -> 짝\n",
      "30 -> 짝\n",
      "31 -> 짝\n",
      "32 -> 짝\n",
      "33 -> 짝짝\n"
     ]
    }
   ],
   "source": [
    "num = input('마지막 숫자를 입력하시오')\n",
    "jj_list = ['3','6','9']\n",
    "\n",
    "for i in range(int(num)):\n",
    "    split_list = list(str(i+1))\n",
    "    jj_count = 0\n",
    "\n",
    "    for split in split_list:\n",
    "        if split in jj_list:\n",
    "            jj_count = jj_count + 1\n",
    "\n",
    "    if jj_count:\n",
    "        print(i+1, '->', '짝'*jj_count)\n",
    "    else:\n",
    "        print(i+1, '->', i+1)"
   ]
  },
  {
   "cell_type": "code",
   "execution_count": 92,
   "metadata": {},
   "outputs": [
    {
     "name": "stdout",
     "output_type": "stream",
     "text": [
      "가위~ 바위~ 보~!!!!!\n",
      "가위~ 바위~ 보~!!!!!\n",
      "가위~ 바위~ 보~!!!!!보~!!!!!보~!!!!!\n",
      "--------------------------------------------------\n",
      "가위~ 바위~ 보 ! 중에 하나를 골라주세요~ 가위\n",
      "우리 비김! 또 해! (You: 가위~, Com: 가위~)\n",
      "\n",
      "가위~ 바위~ 보~!!!!!보~!!!!!보~!!!!!\n",
      "--------------------------------------------------\n",
      "가위~ 바위~ 보 ! 중에 하나를 골라주세요~ 바위\n",
      "당신 이김! 컴퓨터 짐! (You: 바위~, Com: 가위~)\n"
     ]
    }
   ],
   "source": [
    "# 출력을 편하게 하기 위한 문자열 구성\n",
    "sci = '가위~'\n",
    "rock = '바위~'\n",
    "pap = '보~'\n",
    "sup = '!!!!!'\n",
    "print(sci , rock , pap+sup)\n",
    "print(sci , rock , pap+sup)\n",
    "print(sci , rock , (pap+sup)*3)\n",
    "\n",
    "# while은 break를 만나기 전까지 반복되게 만들고, 이긴 경우에만 break 되게 한다.\n",
    "# 가위는 -1, 바위는 0, 보는 1로 구분하고 random.randint() 함수를 사용한다.\n",
    "while 1:\n",
    "    print('-'*50)# 판을 구분하기 위함\n",
    "    user = input('가위~ 바위~ 보 ! 중에 하나를 골라주세요~ ')\n",
    "    com = random.randint(-1, 1)\n",
    "    \n",
    "    if user == '가위':\n",
    "        u = -1\n",
    "        if com == u :# 같은 값이 나와 비긴 경우(가위)\n",
    "            print('우리 비김! 또 해! (You:', user+'~, Com:', user+'~)')# 비길경우 user의 입력을 함께 출력\n",
    "            print()\n",
    "            print(sci , rock , (pap+sup)*3)\n",
    "        elif com:# 0, 1중에 0이 아닌 값(보)\n",
    "            print('당신 이김! 컴퓨터 짐! (You:', user+'~, Com:', '보~)')\n",
    "            break\n",
    "        else:# 나머지 경우\n",
    "            print('당신 짐! 컴퓨터 이김! 또 해! (You:', user+'~, Com:', '바위~)')# if user == '가위'이므로 가위가 지는 Com값을 작성\n",
    "            print()\n",
    "            print(sci , rock , (pap+sup)*3)\n",
    "            \n",
    "    elif user == '바위':\n",
    "        u = 0\n",
    "        if com == u :# 같은 값이 나와 비긴 경우(바위)\n",
    "            print('우리 비김! 또 해! (You:', user+'~, Com:', user+'~)')# 비길경우 user의 입력을 함께 출력\n",
    "            print()\n",
    "            print(sci , rock , (pap+sup)*3)\n",
    "        elif com<0:# -1, 1중에 음수(가위)\n",
    "            print('당신 이김! 컴퓨터 짐! (You:', user+'~, Com:', '가위~)')\n",
    "            break\n",
    "        else:# 나머지 경우\n",
    "            print('당신 짐! 컴퓨터 이김! 또 해! (You:', user+'~, Com:', '보~)')\n",
    "            print()\n",
    "            print(sci , rock , (pap+sup)*3)\n",
    "                                         \n",
    "    else:\n",
    "        u = 1\n",
    "        if com == u :# 같은 값이 나와 비긴 경우(보)\n",
    "            print('우리 비김! 또 해! (You:', user+'~, Com:', user+'~)')# 비길경우 user의 입력을 함께 출력\n",
    "            print()\n",
    "            print(sci , rock , (pap+sup)*3)\n",
    "        elif com:# -1, 0중에 0이 아닌 값(가위)\n",
    "            print('당신 짐! 컴퓨터 이김! 또 해! (You:', user+'~, Com:', '가위~)')\n",
    "            print()\n",
    "            print(sci , rock , (pap+sup)*3)\n",
    "        else:# 나머지 경우\n",
    "            print('당신 이김! 컴퓨터 짐! (You:', user+'~, Com:', '바위~)')\n",
    "            break\n"
   ]
  }
 ],
 "metadata": {
  "kernelspec": {
   "display_name": "Python 3",
   "language": "python",
   "name": "python3"
  },
  "language_info": {
   "codemirror_mode": {
    "name": "ipython",
    "version": 3
   },
   "file_extension": ".py",
   "mimetype": "text/x-python",
   "name": "python",
   "nbconvert_exporter": "python",
   "pygments_lexer": "ipython3",
   "version": "3.8.5"
  }
 },
 "nbformat": 4,
 "nbformat_minor": 2
}
