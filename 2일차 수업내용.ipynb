{
 "cells": [
  {
   "cell_type": "markdown",
   "metadata": {},
   "source": [
    "# Day 2 12.23"
   ]
  },
  {
   "cell_type": "markdown",
   "metadata": {},
   "source": [
    "## Time 9:00~10:10 Review"
   ]
  },
  {
   "cell_type": "code",
   "execution_count": null,
   "metadata": {},
   "outputs": [],
   "source": [
    "## 연산자 내용 확인\n",
    "## % 모듈러 연산, 나눗셈 후 나머지 값 변환\n",
    "100%3"
   ]
  },
  {
   "cell_type": "code",
   "execution_count": null,
   "metadata": {},
   "outputs": [],
   "source": [
    "## // 나눗셈의 몫\n",
    "100//3"
   ]
  },
  {
   "cell_type": "code",
   "execution_count": null,
   "metadata": {},
   "outputs": [],
   "source": [
    "\n",
    "a = 100\n",
    "b = 50\n",
    "c = 50"
   ]
  },
  {
   "cell_type": "code",
   "execution_count": null,
   "metadata": {},
   "outputs": [],
   "source": [
    "## and or not 논리 연산자\n",
    "## 교집합, 두 명제가 T일 때 T를 변환\n",
    "## a>b : True   b.c: False\n",
    "(a>b) and (b>c)"
   ]
  },
  {
   "cell_type": "code",
   "execution_count": null,
   "metadata": {
    "scrolled": true
   },
   "outputs": [],
   "source": [
    "# a>b: True   b>c: False\n",
    "(a>b) or (b>c)"
   ]
  },
  {
   "cell_type": "markdown",
   "metadata": {},
   "source": [
    "# 가위바위보"
   ]
  },
  {
   "cell_type": "code",
   "execution_count": null,
   "metadata": {},
   "outputs": [],
   "source": [
    "import random\n",
    "import time\n",
    "\n",
    "winner = '컴퓨터'\n",
    "time_interval=0.1\n",
    "\n",
    "# 게임 인트로 -------------------------------------------------------\n",
    "print ('가위~', end=' ')\n",
    "time.sleep(time_interval*5)\n",
    "print ('바위~', end=' ')\n",
    "time.sleep(time_interval*5)\n",
    "print ('보~!!!!! ')\n",
    "time.sleep(time_interval*5)\n",
    "\n",
    "print ('가위~', end=' ')\n",
    "time.sleep(time_interval*2)\n",
    "print ('바위~', end=' ')\n",
    "time.sleep(time_interval*2)\n",
    "print ('보~!!!!! ')\n",
    "time.sleep(time_interval*2)\n",
    "\n",
    "while winner!='당신':\n",
    "\n",
    "# 사용자 결정-------------------------------------------------------\n",
    "    yourHand = input('가위~ 바위~ 보 ! 중에 하나를 골라주세요~   ')\n",
    "    print ()\n",
    "    \n",
    "# 컴퓨터 결정-------------------------------------------------------\n",
    "    comRandom = random.randint(1,3)\n",
    "    if comRandom == 1:\n",
    "        comHand = '가위'\n",
    "    elif comRandom == 2:\n",
    "        comHand = '바위'\n",
    "    else:\n",
    "        comHand = '보'\n",
    "        \n",
    "# 승부판단-------------------------------------------------------\n",
    "    if comHand == yourHand:\n",
    "        winner = '비김'\n",
    "    elif (comHand=='가위'and yourHand=='보') or (comHand=='바위'and yourHand=='가위')or (comHand=='보'and yourHand=='바위'):\n",
    "        winner = '컴퓨터'\n",
    "    else:\n",
    "        winner = '당신'\n",
    "# 출력-------------------------------------------------------\n",
    "    if winner == '당신':\n",
    "        print ('당신 이김! 컴퓨터 짐! (You:' + yourHand + '~, Com:' + comHand + '~)')\n",
    "    elif winner == '컴퓨터':\n",
    "        print ('당신 짐! 컴퓨터 이김! 또 해! (You:' + yourHand + '~, Com:' + comHand + '~)')\n",
    "    else :\n",
    "        print ('무승부! 또 해! (You:' + yourHand + '~, Com:' + comHand + '~)')\n",
    "\n",
    "    print()\n",
    "    print()\n",
    "    time.sleep(1.5)"
   ]
  },
  {
   "cell_type": "markdown",
   "metadata": {},
   "source": [
    "#### random.randint의 설명을 보고 싶다면\n",
    "#### random.randint 쓰고 shift + tab 누르면 설명 볼 수 있다."
   ]
  },
  {
   "cell_type": "code",
   "execution_count": null,
   "metadata": {
    "scrolled": true
   },
   "outputs": [],
   "source": [
    "import time\n",
    "# countdown\n",
    "cnt = 10\n",
    "while cnt>0:\n",
    "    print(cnt)\n",
    "    time.sleep(10/cnt)\n",
    "    cnt=cnt-1"
   ]
  },
  {
   "cell_type": "code",
   "execution_count": null,
   "metadata": {},
   "outputs": [],
   "source": [
    "# 로또 번호\n",
    "# 중복 안되게\n",
    "import random\n",
    "num1 = random.randint(1,10)\n",
    "\n",
    "while True:\n",
    "    num2 = random.randint(1,10)\n",
    "    if num1 != num2:\n",
    "        num3 = random.randint(1,10)\n",
    "        if (num1 != num3) and (num2 != num3):\n",
    "            num4 = random.randint(1,10)\n",
    "            if (num1 != num4) and (num2 != num4) and (num3 != num4):\n",
    "                break\n",
    "            \n",
    "print(num1, num2, num3, num4)"
   ]
  },
  {
   "cell_type": "markdown",
   "metadata": {},
   "source": [
    "## Time 10:30 ~ 11:30"
   ]
  },
  {
   "cell_type": "code",
   "execution_count": null,
   "metadata": {},
   "outputs": [],
   "source": [
    "#### Guess the number game\n",
    "# 최대 6번 반복\n",
    "# number는 임의로 결정\n",
    "# if-else로 적용\n",
    "\n",
    "import random\n",
    "number = random.randint(1,20)\n",
    "print(number)\n",
    "\n",
    "myName = input('Hello! What is your name?')\n",
    "print('Well, '+ myName + '  I am thinking of a number between 1 and 20.')\n",
    "\n",
    "Guess = int(input('Take a guess.')) \n",
    "count=1\n",
    "\n",
    "while True:\n",
    "    \n",
    "    if number == Guess :\n",
    "        print('count '+str(count)+'  '+'You Guessed my number!')\n",
    "        break\n",
    "    elif number != Guess:\n",
    "        print('count '+str(count)+'  '+'Your guess is Wrong.')\n",
    "        if count==6:\n",
    "            break\n",
    "        else:\n",
    "            Guess = int(input('Take a guess.')) \n",
    "            count=count+1\n",
    "        "
   ]
  },
  {
   "cell_type": "code",
   "execution_count": null,
   "metadata": {
    "scrolled": true
   },
   "outputs": [],
   "source": [
    "#### Guess my birthday\n",
    "# 교수 ver\n",
    "\n",
    "import random\n",
    "birthday = random.randint(1,20)\n",
    "print(birthday)\n",
    "\n",
    "cnt=0\n",
    "\n",
    "while cnt < 6:\n",
    "    guessday = int(input('생일 Guess'))\n",
    "    if guessday == birthday:\n",
    "        print('Right')\n",
    "        break\n",
    "    elif guessday > birthday:\n",
    "        print('Down')\n",
    "    else:\n",
    "        print('Up')\n",
    "    \n",
    "    cnt = cnt +1\n",
    "    \n",
    "    if (cnt > 4):\n",
    "        print(\"몇번 안남음\")\n",
    "        \n",
    "    if (cnt >= 6):\n",
    "        print('5번만에 못 맞추네')\n",
    "    "
   ]
  },
  {
   "cell_type": "markdown",
   "metadata": {},
   "source": [
    "### 탐색 기법\n",
    "#### Random search Random으로 탐색\n",
    "#### Incremental search 하나씩 차례대로 물어봄\n",
    "#### binary search 이진탐색 ex. 1~100 에서 X를 물어보고 Up/Down을 통해 절반 날리기. 바로 위의 생일 예제\n",
    "#####    정렬된 N개는 log2(N) 횟수만 탐색하면 된다. ex. N=180, log2(180)=6.xxx -> 7번만 물어보면 찾을 수 있다."
   ]
  },
  {
   "cell_type": "code",
   "execution_count": null,
   "metadata": {},
   "outputs": [],
   "source": [
    "### 자판기 만들기\n",
    "## 제품 구성하기 : 기능 정의\n",
    "# 1. 돈을 받고  2. 제품제공(돈이 들어오면 or 돈이 들어와있으면)  3. 계산(현재돈-제품값)  4. 잔돈 반환\n",
    "##순서도 그리기 : 작동의 순서\n",
    "## 시나리오 작성하기 : \n",
    "## 프로그래밍 하기 : "
   ]
  },
  {
   "cell_type": "code",
   "execution_count": null,
   "metadata": {
    "scrolled": true
   },
   "outputs": [],
   "source": [
    "# 자판기\n",
    "print('자판기')\n",
    "can = 0\n",
    "deposit = int(input('돈 넣으세요(500원 이상):  '))\n",
    "\n",
    "while deposit >= 500:\n",
    "    print('-------------------')\n",
    "    print('음료 선택하시오. 현재 잔액은 ',deposit, '원 입니다.')\n",
    "    print('(1) 데자와 (500원), (2) 핫식스 (800원), (3) 커피 (700원), (4) 잔돈반환')\n",
    "    \n",
    "    # 음료선택\n",
    "    can = int(input())\n",
    "    if can==1:\n",
    "        fares = 500\n",
    "        drink = '데자와'\n",
    "    if can==2:\n",
    "        fares = 800\n",
    "        drink = '핫식스'\n",
    "    if can==3:\n",
    "        fares = 700\n",
    "        drink = '커피'\n",
    "    if can==4:\n",
    "        fares = deposit\n",
    "        print('잔돈:  ', deposit, '원')\n",
    "        break\n",
    "    \n",
    "    if deposit < fares:\n",
    "        print('잔액 부족.')\n",
    "    else:\n",
    "        deposit = deposit-fares\n",
    "        print('덜커덩  ', drink, ' 나왔습니다.' )\n",
    "        print('잔액:  ', deposit, '원')\n",
    "        "
   ]
  },
  {
   "cell_type": "markdown",
   "metadata": {},
   "source": [
    "# 2일차 진도\n",
    "## List"
   ]
  },
  {
   "cell_type": "code",
   "execution_count": null,
   "metadata": {},
   "outputs": [],
   "source": [
    "# List\n",
    "animals = ['aardvark','anteater','antelope','albert']\n",
    "\n",
    "    # List의 값들이 item\n",
    "    # item 구분 위해 index 필요\n",
    "    # index는 0부터.\n",
    "animals[1] # anteater"
   ]
  },
  {
   "cell_type": "code",
   "execution_count": null,
   "metadata": {},
   "outputs": [],
   "source": [
    "# List 값 변경 덮어씌우기 가능\n",
    "animals[1]='ANTEATER'\n",
    "animals"
   ]
  },
  {
   "cell_type": "code",
   "execution_count": null,
   "metadata": {},
   "outputs": [],
   "source": [
    "# List 값 삭제\n",
    "spam = [2,4,6,8,10]\n",
    "del spam[1]\n",
    "spam"
   ]
  },
  {
   "cell_type": "code",
   "execution_count": null,
   "metadata": {},
   "outputs": [],
   "source": [
    "# Slicing\n",
    "animals[0:3] ## 마지막 숫자는 포함하지 않음 ex. index 3인 albert는 포함x\n"
   ]
  },
  {
   "cell_type": "code",
   "execution_count": null,
   "metadata": {
    "scrolled": true
   },
   "outputs": [],
   "source": [
    "# List에 * 가능\n",
    "animals*2"
   ]
  },
  {
   "cell_type": "code",
   "execution_count": null,
   "metadata": {},
   "outputs": [],
   "source": [
    "# List에 추가 가능\n",
    "# append()\n",
    "animals.append('cow')\n",
    "animals"
   ]
  },
  {
   "cell_type": "code",
   "execution_count": null,
   "metadata": {},
   "outputs": [],
   "source": [
    "colorList = ['red','blue','green','white','black']"
   ]
  },
  {
   "cell_type": "code",
   "execution_count": null,
   "metadata": {},
   "outputs": [],
   "source": [
    "colorList[3]"
   ]
  },
  {
   "cell_type": "code",
   "execution_count": null,
   "metadata": {},
   "outputs": [],
   "source": [
    "colorList[3]='pink'"
   ]
  },
  {
   "cell_type": "code",
   "execution_count": null,
   "metadata": {
    "scrolled": true
   },
   "outputs": [],
   "source": [
    "colorList[3]"
   ]
  },
  {
   "cell_type": "code",
   "execution_count": null,
   "metadata": {},
   "outputs": [],
   "source": [
    "colorList[1:3]"
   ]
  },
  {
   "cell_type": "code",
   "execution_count": null,
   "metadata": {},
   "outputs": [],
   "source": [
    "# upper, lower\n",
    "today = 'December23rd'.upper()  # 대문자\n",
    "today\n",
    "today = today.lower()  # 소문자\n",
    "today"
   ]
  },
  {
   "cell_type": "code",
   "execution_count": null,
   "metadata": {},
   "outputs": [],
   "source": [
    "# List 순서 뒤집기\n",
    "# reverse\n",
    "spam = [1,2,3,4,5,'a','b']\n",
    "spam"
   ]
  },
  {
   "cell_type": "code",
   "execution_count": null,
   "metadata": {
    "scrolled": true
   },
   "outputs": [],
   "source": [
    "spam.reverse()\n",
    "spam"
   ]
  },
  {
   "cell_type": "code",
   "execution_count": null,
   "metadata": {},
   "outputs": [],
   "source": [
    "# 문장(string)들의 단어를 List로 저장 # 띄워쓰기로\n",
    "# split\n",
    "test = '동해물과 백두산이 마르고 닳도록 하느님이 보우하사 우리나라 만세'\n",
    "test.split()"
   ]
  },
  {
   "cell_type": "code",
   "execution_count": null,
   "metadata": {},
   "outputs": [],
   "source": [
    "# split # 쉼표(,)로\n",
    "test = 'white, black, pink, area, grey, red, black, pepper'\n",
    "test2=test.split(',')\n",
    "test2"
   ]
  },
  {
   "cell_type": "code",
   "execution_count": null,
   "metadata": {},
   "outputs": [],
   "source": [
    "len(test2)"
   ]
  },
  {
   "cell_type": "code",
   "execution_count": null,
   "metadata": {},
   "outputs": [],
   "source": [
    "# list     List 만드는 함수\n",
    "# range()  0부터 range-1 까지\n",
    "list(range(10))"
   ]
  },
  {
   "cell_type": "code",
   "execution_count": null,
   "metadata": {},
   "outputs": [],
   "source": [
    "list(range(10,20))"
   ]
  },
  {
   "cell_type": "code",
   "execution_count": null,
   "metadata": {},
   "outputs": [],
   "source": [
    "# List of List\n",
    "# List 는 List를 item으로 가질 수 있다.\n",
    "\n",
    "test2.append(colorList)\n",
    "test2"
   ]
  },
  {
   "cell_type": "code",
   "execution_count": null,
   "metadata": {},
   "outputs": [],
   "source": [
    "import random\n",
    "colorList = ['red','black','blue','white']\n",
    "topList = ['T-shirt','shirt','Kardigan','Knit']\n",
    "bottomList = ['Jean','Skirt','legging','Slacks']\n",
    "accList = ['Hat','Tie','Shoes','necklace']\n",
    "\n",
    "count = 1\n",
    "while count<=3:\n",
    "    print('오늘의 패션',count,'번 추천 조합입니다.')\n",
    "    # print(colorList[random.randint(1,len(color)-1)])\n",
    "    print(random.choice(colorList), ' ', random.choice(topList))\n",
    "    print(random.choice(colorList), ' ', random.choice(bottomList))\n",
    "    print(random.choice(colorList), ' ', random.choice(accList),'\\n')\n",
    "    count=count+1\n",
    "    "
   ]
  },
  {
   "cell_type": "markdown",
   "metadata": {},
   "source": [
    "# 오후\n",
    "## Multi-Line Print"
   ]
  },
  {
   "cell_type": "code",
   "execution_count": null,
   "metadata": {},
   "outputs": [],
   "source": [
    "# 쓴 그대로 출력해줌 ''' ㅇㅇㅇㅇㅇㅇㅇㅇ    '''\n",
    "print('''Python's\n",
    "                    class''')"
   ]
  },
  {
   "cell_type": "markdown",
   "metadata": {},
   "source": [
    "## \\표시를 쓰면 특수기호가 올거라고 대기함\n",
    "## ex. \\t \\\\ \\/"
   ]
  },
  {
   "cell_type": "markdown",
   "metadata": {},
   "source": [
    "### ASCII ART"
   ]
  },
  {
   "cell_type": "code",
   "execution_count": null,
   "metadata": {},
   "outputs": [],
   "source": [
    "print('''\n",
    "        ___/ /\n",
    "       / ._.\\\\\n",
    "      \\\\ \\\\/ /\n",
    " '  __/      \\\\\n",
    "    \\\\ -     )\n",
    "     \\\\_____/\n",
    "   ___ㅣ_ㅣ____\n",
    "      m   m\n",
    "\n",
    "''')"
   ]
  },
  {
   "cell_type": "code",
   "execution_count": null,
   "metadata": {},
   "outputs": [],
   "source": [
    "## list 사용하는 중복없는 로또\n",
    "import random\n",
    "listA = list(range(1,45))\n",
    "listA\n",
    "random.shuffle(listA)\n",
    "listA[0:6]"
   ]
  },
  {
   "cell_type": "markdown",
   "metadata": {},
   "source": [
    "# Sorting Problem 정렬문제"
   ]
  },
  {
   "cell_type": "markdown",
   "metadata": {},
   "source": [
    "## 선택정렬\n",
    "## 선택하여 정렬. 오름차순/내림차순\n",
    "\n",
    "### 최소값 선택정렬\n",
    "#### 1. 정렬되지 않은 숫자 중 가장 작은 숫자 선택\n",
    "#### 2. 선택훈 숫자를 정렬된 숫자들의 마지막 숫자와 자리를 바꿈\n",
    "#### 3. 모든 숫자를 옮길 때까지 1,2번 과정을 반복"
   ]
  },
  {
   "cell_type": "code",
   "execution_count": null,
   "metadata": {},
   "outputs": [],
   "source": [
    "## Sorting\n",
    "\n",
    "import random\n",
    "listA = list(range(15))\n",
    "print(listA)\n",
    "random.shuffle(listA)\n",
    "print(listA)\n",
    "n = len(listA)\n",
    "i=0\n",
    "\n",
    "while i <= n-2:\n",
    "    min = i\n",
    "    j = i+1\n",
    "    while j <= n-1:\n",
    "        if listA[j] < listA[min]:\n",
    "            min = j\n",
    "        j=j+1\n",
    "        \n",
    "    if min != i:\n",
    "        temp = listA[i]\n",
    "        listA[i]=listA[min]\n",
    "        listA[min]=temp\n",
    "    i = i+1\n",
    "\n",
    "print(listA)"
   ]
  },
  {
   "cell_type": "markdown",
   "metadata": {},
   "source": [
    "# 함수"
   ]
  },
  {
   "cell_type": "code",
   "execution_count": null,
   "metadata": {},
   "outputs": [],
   "source": [
    "## 함수 예\n",
    "## 숫자 2개 전달 받아서 더함\n",
    "\n",
    "def addTwoNumbers(a,b):\n",
    "    summ = a+b\n",
    "    print(summ)\n",
    "\n",
    "def printHello5times():\n",
    "    print('Hello '*5)\n",
    "    \n",
    "addTwoNumbers(10,5)\n",
    "printHello5times()\n",
    "\n",
    "def Hello(name):\n",
    "    print('Hello,',name)\n",
    "\n",
    "Hello('Meo')\n"
   ]
  },
  {
   "cell_type": "code",
   "execution_count": null,
   "metadata": {
    "scrolled": true
   },
   "outputs": [],
   "source": [
    "def plus(firstnum,secondnum):\n",
    "    result = firstnum+secondnum\n",
    "    return result\n",
    "\n",
    "firstnum=int(input('첫 번째 숫자를 입력하시오:    '))\n",
    "secondnum=int(input('두 번째 숫자를 입력하시오:    '))\n",
    "result = plus(firstnum,secondnum)\n",
    "print('두 수의 합은', result, '입니다.')"
   ]
  },
  {
   "cell_type": "code",
   "execution_count": null,
   "metadata": {},
   "outputs": [],
   "source": [
    "name = 'Muji'\n",
    "print('Good Morning! ', name)\n",
    "\n",
    "def calc():\n",
    "    number = 10\n",
    "    print (number*5)\n",
    "\n",
    "number = 12\n",
    "print(number*12)\n",
    "number=14\n",
    "calc()\n",
    "print(number*5)"
   ]
  },
  {
   "cell_type": "code",
   "execution_count": null,
   "metadata": {},
   "outputs": [],
   "source": [
    "name = 'Muji'\n",
    "print('Good Morning! ', name)\n",
    "\n",
    "def GoodMorning():\n",
    "    name = 'Teo'\n",
    "    print ('Good Morning! ', name)\n",
    "\n",
    "name = 'Meo'\n",
    "GoodMorning()\n",
    "print('Good Morning! ',name)"
   ]
  },
  {
   "cell_type": "code",
   "execution_count": null,
   "metadata": {},
   "outputs": [],
   "source": [
    "### 369 게임 with 함수\n",
    "\n",
    "import time\n",
    "time_interval = 0.5\n",
    "\n",
    "def howToPlay():\n",
    "    print('Shout the number sequentially from 1 to the last number')\n",
    "    # time.sleep(time_interval*2)\n",
    "    print('when 3, 6 or 9 show up, claps! instead of shouting!')\n",
    "    # time.sleep(time_interval*2)\n",
    "    print('Enjoy the game!')\n",
    "    # time.sleep(time_interval*2)\n",
    "    \n",
    "def getTheLastNum():\n",
    "    print()\n",
    "    print('Please Input the last numeber (1~5000): ')\n",
    "    lastnum = input()\n",
    "    lastnum = int(lastnum)\n",
    "    return lastnum\n",
    "\n",
    "def cal_digit(input_num):\n",
    "    quotient = input_num\n",
    "    digit = 0\n",
    "    while quotient != 0:\n",
    "        quotient = int(quotient/10)\n",
    "        digit = digit + 1\n",
    "    return digit\n",
    "\n",
    "def print_clap(input_num):\n",
    "    if input_num %3 == 0 and input_num != 0:\n",
    "        print('clap!! ', end='')\n",
    "        # time.sleep(time_interval)\n",
    "        return 1\n",
    "    return 0  \n",
    "\n",
    "howToPlay()\n",
    "lastnum = getTheLastNum()\n",
    "print('')\n",
    "num = 1\n",
    "\n",
    "while num <= lastnum:\n",
    "    digit_v = cal_digit(num)\n",
    "    flag = 0\n",
    "    div = num\n",
    "    while digit_v != 0:\n",
    "        flag = flag + print_clap(div%10)\n",
    "        div = int(div/10)\n",
    "        digit_v = digit_v - 1\n",
    "    if flag == 0:\n",
    "        print(str(num))\n",
    "    else:\n",
    "        print()\n",
    "    \n",
    "    num = num+1\n",
    "    "
   ]
  },
  {
   "cell_type": "code",
   "execution_count": null,
   "metadata": {},
   "outputs": [],
   "source": [
    "### 369 게임 with 함수\n",
    "\n",
    "import time\n",
    "time_interval = 0.5\n",
    "\n",
    "def howToPlay():\n",
    "    print('Shout the number sequentially from 1 to the last number')\n",
    "    # time.sleep(time_interval*2)\n",
    "    print('when 3, 6 or 9 show up, claps! instead of shouting!')\n",
    "    # time.sleep(time_interval*2)\n",
    "    print('Enjoy the game!')\n",
    "    # time.sleep(time_interval*2)\n",
    "    \n",
    "def getTheLastNum():\n",
    "    print()\n",
    "    print('Please Input the last numeber (1~5000): ')\n",
    "    lastnum = input()\n",
    "    lastnum = int(lastnum)\n",
    "    return lastnum\n",
    "\n",
    "def cal_digit(input_num):\n",
    "    quotient = input_num\n",
    "    digit = 0\n",
    "    while quotient != 0:\n",
    "        quotient = int(quotient/10)\n",
    "        digit = digit + 1\n",
    "    return digit\n",
    "\n",
    "def print_clap(input_num):\n",
    "    if input_num %3 == 0 and input_num != 0:\n",
    "        print('clap!! ', end='')\n",
    "        # time.sleep(time_interval)\n",
    "        return 1\n",
    "    return 0\n",
    "\n",
    "def main(input_num):\n",
    "    num = 1\n",
    "    while num <= input_num:\n",
    "        digit_v = cal_digit(num)\n",
    "        flag = 0\n",
    "        div = num\n",
    "        while digit_v != 0:\n",
    "            flag = flag + print_clap(div%10)\n",
    "            div = int(div/10)\n",
    "            digit_v = digit_v - 1\n",
    "        if flag == 0:\n",
    "            print(str(num))\n",
    "        else:\n",
    "            print()\n",
    "        \n",
    "        num = num+1\n",
    "        \n",
    "\n",
    "howToPlay()\n",
    "lastnum = getTheLastNum()\n",
    "print('')\n",
    "main(lastnum)\n",
    "    "
   ]
  }
 ],
 "metadata": {
  "kernelspec": {
   "display_name": "Python 3",
   "language": "python",
   "name": "python3"
  },
  "language_info": {
   "codemirror_mode": {
    "name": "ipython",
    "version": 3
   },
   "file_extension": ".py",
   "mimetype": "text/x-python",
   "name": "python",
   "nbconvert_exporter": "python",
   "pygments_lexer": "ipython3",
   "version": "3.8.5"
  }
 },
 "nbformat": 4,
 "nbformat_minor": 4
}
